{
 "cells": [
  {
   "cell_type": "markdown",
   "metadata": {},
   "source": [
    "# Text Similarity Metrics\n",
    "\n",
    "Exercise notebook\n",
    "\n",
    "Course: Algorytmy Tekstowe at AGH University"
   ]
  },
  {
   "cell_type": "markdown",
   "metadata": {},
   "source": [
    "# 1. Zaimplementuj przynajmniej 3 \"metryki\" spośród wymienionych: cosinusowa, LCS, DICE, euklidesowa, Levenshteina."
   ]
  },
  {
   "cell_type": "markdown",
   "metadata": {},
   "source": [
    "## Preprocessing and vectorization\n",
    "\n",
    "1. Preprocessing: Convert the text documents to lowercase and remove all punctuation marks (using regular expressions, for example).\n",
    "2. Vocabulary creation: Create a vocabulary by taking all unique words from all text documents.\n",
    "3. Word frequency vectors: Create two vectors, each representing the frequency of each word in the vocabulary in each text document."
   ]
  },
  {
   "cell_type": "code",
   "execution_count": 1,
   "metadata": {},
   "outputs": [],
   "source": [
    "import re\n",
    "from collections import Counter\n",
    "\n",
    "def preprocess(text: str) -> str:\n",
    "    # Convert the text to lowercase\n",
    "    text = text.lower()\n",
    "    \n",
    "    # Remove all punctuation marks\n",
    "    text = re.sub(r'[^\\w\\s]', '', text)\n",
    "    \n",
    "    return text\n",
    "\n",
    "def text_to_vec(docs: list[str]) -> list[list[int]]:\n",
    "    # Create vocabulary\n",
    "    vocab = set()\n",
    "    for doc in docs:\n",
    "        doc = preprocess(doc)\n",
    "        words = doc.split()\n",
    "        vocab.update(words)\n",
    "    \n",
    "    # Create word frequency vectors\n",
    "    freq_vecs = []\n",
    "    for doc in docs:\n",
    "        doc = preprocess(doc)\n",
    "        words = doc.split()\n",
    "        word_counts = Counter(words)\n",
    "        freq_vec = [word_counts[word] for word in vocab]\n",
    "        freq_vecs.append(freq_vec)\n",
    "    \n",
    "    return freq_vecs"
   ]
  },
  {
   "cell_type": "code",
   "execution_count": 2,
   "metadata": {},
   "outputs": [],
   "source": [
    "# Tests\n",
    "text_a = \"The quick brown fox jumped over the lazy dog.\"\n",
    "text_b = \"The lazy dog was jumped over by the quick brown fox.\"\n",
    "vec_a, vec_b = text_to_vec([text_a, text_b])\n",
    "\n",
    "\n",
    "assert(set(vec_a) == set([1, 1, 1, 2, 1, 1, 1, 1, 0, 0]))\n",
    "assert(set(vec_b) == set([1, 1, 1, 2, 1, 1, 1, 1, 1, 1]))"
   ]
  },
  {
   "cell_type": "markdown",
   "metadata": {},
   "source": [
    "## Cosine similarity\n",
    "\n",
    "$$\n",
    "\\begin{equation}\n",
    "    \\cos(\\theta) = \\frac{\\mathbf{A} \\cdot \\mathbf{B}}{\\|\\mathbf{A}\\| \\|\\mathbf{B}\\|}= \\frac{\\sum\\limits_{i=1}^{n} A_i B_i}{\\sqrt{\\sum\\limits_{i=1}^{n} A_i^2} \\sqrt{\\sum\\limits_{i=1}^{n} B_i^2}}\n",
    "    \\qquad\\begin{aligned}\n",
    "    &\\text{where:} \\\\\n",
    "    &\\mathbf{A}\\text{ and }\\mathbf{B} \\text{ are the two vectors being compared}\\\\\n",
    "    &n \\text{ is the dimensionality of the vectors}\\\\\n",
    "    &\\theta \\text{ represents the angle between two vectors } \\mathbf{A} \\text{ and } \\mathbf{B} \\text{ in a high-dimensional space}\n",
    "    \\end{aligned}\n",
    "\\end{equation}\n",
    "$$\n",
    "\n",
    "The dot product of $\\mathbf{A}$ and $\\mathbf{B}$ is divided by the product of their Euclidean lengths to normalize the result to a range of [-1, 1]. A value of 1 indicates that the two vectors are identical, while a value of -1 indicates that they are completely dissimilar.\n"
   ]
  },
  {
   "cell_type": "code",
   "execution_count": 3,
   "metadata": {},
   "outputs": [],
   "source": [
    "import math\n",
    "\n",
    "def cosine_similarity(text_a: str, text_b: str) -> float:\n",
    "    freq_vecs = text_to_vec([text_a, text_b])\n",
    "    dot_product = sum(a * b for a, b in zip(freq_vecs[0], freq_vecs[1]))\n",
    "    \n",
    "    norm_a = math.sqrt(sum(a ** 2 for a in freq_vecs[0]))\n",
    "    norm_b = math.sqrt(sum(b ** 2 for b in freq_vecs[1]))\n",
    "    \n",
    "    return dot_product / (norm_a * norm_b)"
   ]
  },
  {
   "cell_type": "code",
   "execution_count": 4,
   "metadata": {},
   "outputs": [],
   "source": [
    "# Tests\n",
    "dist = cosine_similarity(text_a, text_b)\n",
    "assert(abs(dist - 0.91986) < 0.0001)"
   ]
  },
  {
   "cell_type": "markdown",
   "metadata": {},
   "source": [
    "## Dice coefficient / Sørensen-Dice Index\n",
    "\n",
    "$$\n",
    "\\begin{equation}\n",
    "    \\text{Dice}(A, B) = \\frac{2 |A \\cap B|}{|A| + |B|} \n",
    "    \\qquad\\begin{aligned}\n",
    "    &\\text{where:} \\\\\n",
    "    &A \\text{ and } B \\text{ represent the two sets being compared} \\\\\n",
    "    &|A| \\text{ and } |B| \\text{ represent the cardinality (number of elements) of the sets} \\\\\n",
    "    &\\text{and } |A \\cap B| \\text{ represents the size of the intersection of the two sets}\n",
    "    \\end{aligned}\n",
    "\\end{equation}\n",
    "$$\n"
   ]
  },
  {
   "cell_type": "code",
   "execution_count": 5,
   "metadata": {},
   "outputs": [
    {
     "data": {
      "text/plain": [
       "0.8888888888888888"
      ]
     },
     "execution_count": 5,
     "metadata": {},
     "output_type": "execute_result"
    }
   ],
   "source": [
    "def dice(text_a: str, text_b: str) -> float:\n",
    "    text_a = preprocess(text_a)\n",
    "    text_b = preprocess(text_b)\n",
    "    \n",
    "    set_a = set(text_a.split())\n",
    "    set_b = set(text_b.split())\n",
    "    \n",
    "    intersection_ = len(set_a.intersection(set_b))\n",
    "    union_ = len(set_a) + len(set_b)\n",
    "    \n",
    "    return 2 * intersection_ / union_\n",
    "\n",
    "dice(text_a, text_b)"
   ]
  },
  {
   "cell_type": "code",
   "execution_count": 6,
   "metadata": {},
   "outputs": [],
   "source": [
    "# Tests\n",
    "dist = dice(text_a, text_b)\n",
    "assert(abs(dist - 0.88888) < 0.0001)"
   ]
  },
  {
   "cell_type": "markdown",
   "metadata": {},
   "source": [
    "## Euclidean distance\n",
    "\n",
    "$$\n",
    "\\begin{equation}\n",
    "    d(x,y) = \\sqrt{\\sum_{i=1}^{n}(x_i-y_i)^2}\n",
    "    \\qquad\\begin{aligned}\n",
    "    &\\text{where:} \\\\\n",
    "    &d(x,y) \\text{ is the Euclidean distance} \\\\\n",
    "    &x_i, y_i \\text{ are the values of the i-th dimension of vectors } x \\text{ and } y \\\\\n",
    "    &n \\text{ is the number of dimensions in the vectors}\n",
    "    \\end{aligned}\n",
    "\\end{equation}\n",
    "$$"
   ]
  },
  {
   "cell_type": "code",
   "execution_count": 7,
   "metadata": {},
   "outputs": [],
   "source": [
    "def euclidean_distance(text_a: str, text_b: str) -> float:\n",
    "    x, y = text_to_vec([text_a, text_b])\n",
    "\n",
    "    dist = 0\n",
    "    for i in range(len(x)):\n",
    "        dist += (x[i] - y[i]) ** 2\n",
    "\n",
    "    return math.sqrt(dist)"
   ]
  },
  {
   "cell_type": "code",
   "execution_count": 8,
   "metadata": {},
   "outputs": [],
   "source": [
    "# Tests\n",
    "\n",
    "dist = euclidean_distance(text_a, text_b)\n",
    "assert(abs(dist - 1.4142135) < 0.0001)"
   ]
  },
  {
   "cell_type": "markdown",
   "metadata": {},
   "source": [
    "## LCS - Longest Common Subsequence\n",
    "\n",
    "Longest, common, continuous subsequence of two sequences, aka \"the longest substring\"."
   ]
  },
  {
   "cell_type": "code",
   "execution_count": 9,
   "metadata": {},
   "outputs": [],
   "source": [
    "from typing import Any, Sequence\n",
    "\n",
    "def lcs(seq_a: Sequence[Any], seq_b: Sequence[Any]) -> int:\n",
    "    n = len(seq_a)\n",
    "    m = len(seq_b)\n",
    "    dp = [[0] * (m+1) for _ in range(n+1)]\n",
    "    for i in range(n):\n",
    "        for j in range(m):\n",
    "            if seq_a[i] == seq_b[j]:\n",
    "                dp[i+1][j+1] = dp[i][j] + 1\n",
    "            else:\n",
    "                dp[i+1][j+1] = max(dp[i+1][j], dp[i][j+1])\n",
    "    return dp[-1][-1]\n",
    "\n",
    "def word_lcs(text_a: str, text_b: str) -> int:\n",
    "    # Split the texts into words\n",
    "    seq_a = text_a.split()\n",
    "    seq_b = text_b.split()\n",
    "\n",
    "    return lcs(seq_a, seq_b)\n"
   ]
  },
  {
   "cell_type": "code",
   "execution_count": 10,
   "metadata": {},
   "outputs": [],
   "source": [
    "# Tests\n",
    "assert lcs(\"banana\", \"ananas\") == 5\n",
    "assert word_lcs(text_a, text_b) == 4"
   ]
  },
  {
   "cell_type": "markdown",
   "metadata": {},
   "source": [
    "# 2. Zaimplementuj przynajmniej 1 sposoby oceny jakości klasteryzacji (np. indeks Daviesa-Bouldina)."
   ]
  },
  {
   "cell_type": "markdown",
   "metadata": {},
   "source": [
    "# Davies-Bouldin"
   ]
  },
  {
   "cell_type": "markdown",
   "metadata": {},
   "source": [
    "#### Centroid klastra #### \n",
    "\n",
    "średnia pozycja wszystkich punktów należących do klastra.\n",
    "Dla klastra o n punktach i d wymiarach, gdzie $ \\mathbf{x}_i $ oznacza i-ty punkt w klastrze:\n",
    "\n",
    "$  c = \\frac{1}{n}\\sum_{i=1}^{n} \\mathbf{x}_i $\n",
    "\n",
    "#### Odległość między centroidami ####\n",
    "\n",
    "odległość euklidesowa pomiędzy centroidami dwóch różnych klastrów.\n",
    "Dla klastrów $ C_i $ i $ C_j $ :\n",
    "\n",
    "$  \\Delta_{ij} =|| C_{i} - C_{j}||_{2} $\n",
    "\n",
    "#### Odległość wewnętrzna ####\n",
    "\n",
    "średnia odległość punktów w klastrze od jego centroidu. Dla klastra $ C_i $ :\n",
    "\n",
    "$ s_{i} = \\frac{1}{n_{i}}\\sum_{x \\epsilon C_{i}}^{} ||x - c_{i}||_{2} $\n",
    "\n",
    "#### Współczynnik Daviesa-Bouldina ####\n",
    "\n",
    "$ R_{i} = \\frac{s_{i} + s_{j}}{ \\Delta_{ij}} $\n",
    "\n",
    "\n",
    "gdzie $ j $ jest klastrem różny od $ i $ i dla którego wartość $ \\frac{s_i+s_j}{\\Delta_{ij}} $ jest maksymalna.\n",
    "Ostateczna wartość współczynnika Daviesa-Bouldina to średnia wartość $ R_i $ dla wszystkich klastrów.\n",
    "\n"
   ]
  },
  {
   "cell_type": "code",
   "execution_count": 11,
   "metadata": {},
   "outputs": [],
   "source": [
    "import numpy as np\n",
    "\n",
    "def get_cluster_matrices(data_points, labels):\n",
    "    k = max(labels) + 1\n",
    "    cluster_matrices = [[] for _ in range(k)]\n",
    "\n",
    "    for i, label in enumerate(labels):\n",
    "        cluster_matrices[label].append(data_points[i])\n",
    "\n",
    "    return [np.vstack(cluster_matrices[i]) for i in range(k)]\n",
    "\n",
    "def get_centroids(cluster_matrices):\n",
    "    return [np.mean(matrix, axis=0) for matrix in cluster_matrices]\n",
    "\n",
    "\n",
    "def get_avg_distances(cluster_matrices, centroids):\n",
    "    avg_distances = []\n",
    "    for matrix, centroid in zip(cluster_matrices, centroids):\n",
    "        distance = np.linalg.norm(matrix - centroid, axis=1)\n",
    "        avg_distance = np.mean(distance)\n",
    "        avg_distances.append(avg_distance)\n",
    "    return avg_distances\n",
    "\n",
    "def davies_bouldin(data_points, labels):\n",
    "    cluster_matrices = get_cluster_matrices(data_points, labels)\n",
    "    centroids = get_centroids(cluster_matrices)\n",
    "    avg_distance = get_avg_distances(cluster_matrices, centroids)\n",
    "\n",
    "    k = len(centroids)\n",
    "    R = np.zeros((k, k))\n",
    "    \n",
    "    for i in range(k):\n",
    "        for j in range(i + 1, k):\n",
    "            dist = avg_distance[i] + avg_distance[j]\n",
    "            delta = np.linalg.norm(centroids[i] - centroids[j])\n",
    "            R[i, j] = dist / delta\n",
    "            R[j, i] = R[i, j]\n",
    "\n",
    "    return np.mean(np.max(R, axis=1))"
   ]
  },
  {
   "cell_type": "markdown",
   "metadata": {},
   "source": [
    "# 3. Stwórz stoplistę najczęściej występujących słów i zastosuj ją jako pre-processing dla nazw. Algorytmy klasteryzacji powinny działać na dwóch wariantach: z pre-processingiem i bez pre-processingu."
   ]
  },
  {
   "cell_type": "code",
   "execution_count": 12,
   "metadata": {},
   "outputs": [],
   "source": [
    "def stoplist(text, frequency= 200):\n",
    "    words = text.split()\n",
    "    counted = {word: words.count(word) for word in set(words)}\n",
    "    return {word for word in counted if counted[word] >= frequency}"
   ]
  },
  {
   "cell_type": "markdown",
   "metadata": {},
   "source": [
    "# 4. Wykonaj klasteryzację zawartości załączonego pliku (lines.txt) przy użyciu  metryk zaimplementowanych w pkt. 1. Każda linia to adres pocztowy firmy, różne sposoby zapisu tego samego adresu powinny się znaleźć w jednym klastrze"
   ]
  },
  {
   "cell_type": "code",
   "execution_count": 50,
   "metadata": {
    "scrolled": false
   },
   "outputs": [],
   "source": [
    "from sklearn.cluster import KMeans\n",
    "\n",
    "def get_res(metric, preproc):\n",
    "    # Wczytanie danych z pliku lines.txt\n",
    "    with open('lines.txt', 'r') as f:\n",
    "        lines = [line.strip() for line in f.readlines()]\n",
    "    \n",
    "    # preprocessing\n",
    "    if preproc:\n",
    "        stop_words = stoplist(text)\n",
    "        lines = [ ' '.join([word for word in line.split() if word not in stop_words]) for line in lines]\n",
    "\n",
    "    # Utworzenie macierzy cech na podstawie danej metryki\n",
    "    n = len(lines)\n",
    "    dist_matrix = np.zeros((n, n))\n",
    "    for i in range(n):\n",
    "        for j in range(i+1, n):\n",
    "            dist_matrix[i, j] = metric(lines[i], lines[j])\n",
    "            dist_matrix[j, i] = dist_matrix[i, j]\n",
    "\n",
    "    # Utworzenie klastrów z użyciem metody K-średnich\n",
    "    k = 10\n",
    "    kmeans = KMeans(n_clusters=k, init='k-means++', random_state=42)\n",
    "    kmeans.fit(dist_matrix)\n",
    "\n",
    "    # Wypisanie klastrów\n",
    "    for i in range(k):\n",
    "        cluster_indices = np.where(kmeans.labels_ == i)[0]\n",
    "        cluster_lines = [lines[idx] for idx in cluster_indices]\n",
    "        print(f'Cluster {i+1}:')\n",
    "        cnt = 0\n",
    "        for line in cluster_lines:\n",
    "            if cnt < 5:\n",
    "                print(line[:100])\n",
    "                cnt+=1\n",
    "        print()"
   ]
  },
  {
   "cell_type": "markdown",
   "metadata": {},
   "source": [
    "## Cosine"
   ]
  },
  {
   "cell_type": "markdown",
   "metadata": {},
   "source": [
    "### preprocessing "
   ]
  },
  {
   "cell_type": "code",
   "execution_count": 51,
   "metadata": {
    "scrolled": false
   },
   "outputs": [
    {
     "name": "stdout",
     "output_type": "stream",
     "text": [
      "Cluster 1:\n",
      "\"MEAT TRADE COMPANY \"ST.PETERSBURG\"LTD. 191015 SAINT-PETERSBURG, SHPALERNAYA STREET, 51 RUSSIAN FEDE\n",
      "\"MEAT TRADE COMPANY \"ST.PETERSBURG\"LTD. 191015 SAINT-PETERSBURG, SHPALERNAYA STREET, 51 RUSSIAN FEDE\n",
      "\"MEAT TRADE COMPANY \"ST.PETERSBURG\"LTD 191015 SAINT-PETERSBURG, SHPALERNAYA STREET, 51 RUSSIAN FEDER\n",
      "\"MEAT TRADE COMPANY \"ST.PETERSBURG\"LTD 191015 SAINT-PETERSBURG, SHPALERNAYA STREET, 51 RUSSIAN FEDER\n",
      "\"MEAT TRADE COMPANY \"ST.PETERSBURG\"LTD 191015 SAINT-PETERSBURG, SHPALERNAYA STREET, 51 RUSSIAN FEDER\n",
      "\n",
      "Cluster 2:\n",
      "\"FMG SHIPPING AND FORWARDING, LTD.\"190020, SAINT PETERSBURG,LIFLYANDSKAYA STR., 6,LITERA \"A\",BUILDIN\n",
      "\"FMG SHIPPING AND FORWARDING, LTD.\"190020 ST.PETERSBURG, RUSSIA BUMAZHNAYA STR., 18, OFF. 310\n",
      "1/FMG SHIPPING AND FORWARDING LTD 190020, SAINT PETERSBURG, LIFLYANDSKAYA STR., 6, LITERA \"A\",\n",
      "1/FMG SHIPPING AND FORWARDING LTD190020, SAINT PETERSBURG, LIFLYANDSKAYA STR., 6, LITERA \"A \",+++\n",
      "1/FMG SHIPPING AND FORWARDING LTD 190020, SAINT PETERSBURG, LIFLYANDSKAYA STR., 6, LITERA \"A\", BUILD\n",
      "\n",
      "Cluster 3:\n",
      "''PA INTERIOR'' LTD BOLSHAYA LUBYANKA STREET, 16/4 MOSCOW, 101000, RUSSIA INN/KPP 7704550148//770801\n",
      "\"ALISA\" LTD, 1/5 Derbenevskaya str., Moscow, Russia Tel./Fax: (495) 987-13-07 postal code: 115114\n",
      "\"ARIVIST\", 198035, RUSSIA, SAINT-PETERSBURG, GAPSALSKAYA STR.,5,OFFICE1-3; TEL.+78123277732, FAX +78\n",
      "\"ARIVIST\", 198035, RUSSIA, SAINT-PETERSBURG, GAPSALSKAYA STR.,5, OFFICE1-3; TEL.+78123277732, FAX +7\n",
      "\"ARIVIST\", 198035, RUSSIA, SAINT-PETERSBURG. GAPSALSKAYA STR.,5. OFFICE1-3; TEL.+78123277732, FAX+78\n",
      "\n",
      "Cluster 4:\n",
      "/11692589 RD TUNA CANNERS, LTD. PORTION 1004, SIAR NORTH COAST ROAD, P.O.BOX 2113, MADANG, PAPUA NEW\n",
      "''SSONTEX'' Sp.ZO.O.IMPORT-EXPORTUL:PRZECLAWSKA 5 03-879 WARSZAWA,POLAND NIP 113-01-17-669\n",
      "''SSONTEX''SP.ZO.O.IMPORT-EXPORT UL:PRZECLAWSKA 5 03-879 WARSZAWA,POLAND NIP 113-01-17-669 TEL./FAX.\n",
      "'MASTER PLUS CO.,LTD.' 143000,RUSSIA,MO,ODINSOVO, MOJAISKOE, SHOSSE,153G TEL:+7495 7273939\n",
      "\"2TIGERS GROUP LIMITED\" ROOM 504 JINSHAZHOU SHANGSHUI ROAD, GUANGZHOU 510160\n",
      "\n",
      "Cluster 5:\n",
      "461868 PRO-LOG LLC, 119004,MOSOW,ALEKSANDRA SOLZHENICINA STR.,40 BLD.+7(495)742-53-82\n",
      "461868 - PRO-LOG LLC., 119004,Mosow, Aleksandra Solzhenicina str., 40bld.\n",
      "461868 - PRO-LOG LLC., 119004,Mosow, Aleksandra Solzhenicina str., 40bld. +7(495)742-53-82\n",
      "461868 PRO-LOG LLC., 119004,MOSOW,ALEKSANDRA SOLZHENICINA STR., 40 BLD. +7(495) 989 73 82\n",
      "461868 PRO-LOG LLC., 119004,MOSOW,ALEKSANDRA SOLZHENICINA STR.,40 BLD.TEL:+7(495) 989 73 82\n",
      "\n",
      "Cluster 6:\n",
      "310-DT-1 IKEA Distribution ServicesS.A. UL.M.Grabinskiego 50, JarostyPL-97310 Moszczenica Poland\n",
      "310-DT-1 IKEA DISTRIBUTION SERVICESS.A. UL.M.GRABINSKIEGO 50, JAROSTYPL-97310 MOSZCZENICA POLAND\n",
      "310-DT-1 IKEA DISTRIBUTION SERVICESS.A. UL.M. GRABINSKIEGO 50, JAROSTY PL-97310 MOSZCZENICA POLAND\n",
      "310-DT-1 IKEA Distribution Services S.A. UL.M.Grabinskiego 50,Jarosty PL-97310 Moszczenica Poland\n",
      "310-DT-1 IKEA Distribution ServicesS.A. UL.M.Grabinskiego 50, JorastyPL-97310 Moszczenica Poland\n",
      "\n",
      "Cluster 7:\n",
      "A.HARTRODT (POLSKA) SP. Z.O.O. SEAFREIGHT OFFICE UL.PULASKIEGO 8, (ROOM 612) 81-368 GDYNIA POLAND EO\n",
      "A. HARTRODT (POLSKA) SP. Z.O.O. SEAFREIGHT OFFICE UL.PULASKIEGO 8,(ROOM 612) 81-368 GDYNIA POLAND EO\n",
      "A. HARTRODT (POLSKA) SP. Z.O.O. SEAFREIGHT OFFICE UL.PULASKIEGO 8,(ROOM 612) 81-368 GDYNIA POLAND TE\n",
      "A.HARTRODT (POLSKA) SP. Z.O.O. SEAFREIGHT OFFICE UL.PULASKIEGO 8, (ROOM 612) 81-368 GDYNIA POLAND TE\n",
      "A.HARTRODT(POLSKA)SP.Z.O.O. UL.PULASKIEGO 8,ROOM 612 81-368 GDYNIA POLAND PHONE:(+48)58 627 23 88\n",
      "\n",
      "Cluster 8:\n",
      "\"ALDETRANS\" LLC, 105066, MOSCOW, RUSSIA, TOKMAKOV LANE, 11. TEL:+7(495)641-03-89\n",
      "\"ALLIANCE-TRADE\" LLC INN: 7816391055 / KPP: 784601001 190020, Saint Petersburg, quay of the Obvodny \n",
      "\"AVANPORT\" LLC INN: 7839413675 KPP: 783901001 190020, SAINT PETERSBURG, QUAY OF THE OBVODNY CHANNEL,\n",
      "\"AVANPORT\" LLC INN: 7839413675 KPP: 783901001 190020, SAINT PETERSBURG, QUAY OF THE OBVODNY CHANNEL,\n",
      "\"EVROTRANSIT\" LLC 105005, RUSSIAN FEDERATION, MOSCOW, BAUMANSKAYA STR., 33/2, BLD.1 E-MAIL:EVROTRANZ\n",
      "\n",
      "Cluster 9:\n",
      "''TOPEX SP. Z O.O.'' SPOLKA KOMANDYTOWA UL. POGRANICZNA 2/4 02-285 WARSZAWA POLAND\n",
      "\"TOPEX SP.Z.O.O.\"SP.K. UL.POGRANICZNA 2/4, 02-285 WARSZAWA.POLAND\n",
      "\"TOPEX SP.Z.O.O.\"SP.K. UL.POGRANICZNA 2/4,02-285 WARSZAWA POLAND\n",
      "\"TOPEX SP.Z O.O.\"SP.K. UL,POGRANICZNA 2/4 02-285 WARSZAWA\n",
      "\"TOPEX SP.Z O.O.\"SP.K. UL.POGRANICZNA 2/4,02--285 WARSZAWA\n",
      "\n",
      "Cluster 10:\n",
      "1,FORWARD EXPEDITION LIMITED HKG MOSCOW REPRESENTATION, 121069,MOSCOW,NOVINSKIY BULVAR, 20 A, BLD.8 \n",
      "1.FORWARD EXPEDITION LIMITED HKG,MOSCOW REPRESENTATION,111033, MOSCOW, ZOLOTOROZHSKIY VAL STR,32/6-2\n",
      "1.FORWARD EXPEDITION LIMITED HKG,MOSCOW REPRESENTATION, 111033,MOSCOW, ZOLOTOROZHSKIY VAL STR.32/6-2\n",
      "1.Forward Expedition Limited HKG, Moscow Representation, 111033,Moscow, Zolotorozhskiy val str.32/6-\n",
      "1.Forward Expedition Limited HKG, Moscow Representation, 111033,Moscow, Zolotorozhskiy val str.32/6-\n",
      "\n"
     ]
    }
   ],
   "source": [
    "get_res(cosine_similarity, True)"
   ]
  },
  {
   "cell_type": "markdown",
   "metadata": {},
   "source": [
    "### bez preprocessingu"
   ]
  },
  {
   "cell_type": "code",
   "execution_count": 52,
   "metadata": {
    "scrolled": false
   },
   "outputs": [
    {
     "name": "stdout",
     "output_type": "stream",
     "text": [
      "Cluster 1:\n",
      "\"MEAT TRADE COMPANY \"ST.PETERSBURG\"LTD.  191015 SAINT-PETERSBURG, SHPALERNAYA STREET, 51 RUSSIAN FED\n",
      "\"MEAT TRADE COMPANY \"ST.PETERSBURG\"LTD. 191015 SAINT-PETERSBURG,  SHPALERNAYA STREET, 51 RUSSIAN FED\n",
      "\"MEAT TRADE COMPANY \"ST.PETERSBURG\"LTD 191015 SAINT-PETERSBURG, SHPALERNAYA STREET, 51 RUSSIAN FEDER\n",
      "\"MEAT TRADE COMPANY \"ST.PETERSBURG\"LTD 191015 SAINT-PETERSBURG, SHPALERNAYA STREET, 51 RUSSIAN FEDER\n",
      "\"MEAT TRADE COMPANY \"ST.PETERSBURG\"LTD 191015 SAINT-PETERSBURG, SHPALERNAYA STREET, 51 RUSSIAN FEDER\n",
      "\n",
      "Cluster 2:\n",
      "\"FMG SHIPPING AND FORWARDING, LTD.\"190020, SAINT PETERSBURG,LIFLYANDSKAYA STR., 6,LITERA \"A\",BUILDIN\n",
      "\"FMG SHIPPING AND FORWARDING, LTD.\"190020 ST.PETERSBURG, RUSSIA BUMAZHNAYA STR., 18, OFF. 310\n",
      "1/FMG SHIPPING AND FORWARDING LTD 190020, SAINT PETERSBURG, LIFLYANDSKAYA STR., 6, LITERA \"A\",\n",
      "1/FMG SHIPPING AND FORWARDING  LTD190020, SAINT PETERSBURG, LIFLYANDSKAYA STR., 6, LITERA \"A \",+++\n",
      "1/FMG SHIPPING AND FORWARDING LTD 190020, SAINT PETERSBURG, LIFLYANDSKAYA STR., 6, LITERA \"A\", BUILD\n",
      "\n",
      "Cluster 3:\n",
      "''PA INTERIOR'' LTD BOLSHAYA LUBYANKA STREET, 16/4 MOSCOW, 101000, RUSSIA INN/KPP 7704550148//770801\n",
      "\"ALISA\" LTD, 1/5 Derbenevskaya str., Moscow, Russia Tel./Fax: (495) 987-13-07 postal code: 115114\n",
      "\"ARIVIST\", 198035, RUSSIA,  SAINT-PETERSBURG,  GAPSALSKAYA STR.,5,OFFICE1-3;  TEL.+78123277732, FAX \n",
      "\"ARIVIST\", 198035, RUSSIA, SAINT-PETERSBURG, GAPSALSKAYA STR.,5, OFFICE1-3; TEL.+78123277732, FAX +7\n",
      "\"ARIVIST\", 198035, RUSSIA, SAINT-PETERSBURG. GAPSALSKAYA STR.,5. OFFICE1-3; TEL.+78123277732, FAX+78\n",
      "\n",
      "Cluster 4:\n",
      "/11692589 RD TUNA CANNERS, LTD. PORTION 1004, SIAR NORTH COAST ROAD, P.O.BOX 2113, MADANG, PAPUA NEW\n",
      "''SSONTEX''  Sp.ZO.O.IMPORT-EXPORTUL:PRZECLAWSKA 5 03-879 WARSZAWA,POLAND NIP 113-01-17-669\n",
      "''SSONTEX''SP.ZO.O.IMPORT-EXPORT UL:PRZECLAWSKA 5 03-879 WARSZAWA,POLAND NIP 113-01-17-669 TEL./FAX.\n",
      "'MASTER PLUS CO.,LTD.' 143000,RUSSIA,MO,ODINSOVO, MOJAISKOE, SHOSSE,153G TEL:+7495 7273939\n",
      "\"2TIGERS GROUP LIMITED\"  ROOM 504 JINSHAZHOU SHANGSHUI ROAD,  GUANGZHOU 510160\n",
      "\n",
      "Cluster 5:\n",
      "461868 PRO-LOG LLC, 119004,MOSOW,ALEKSANDRA SOLZHENICINA STR.,40 BLD.+7(495)742-53-82\n",
      "461868  - PRO-LOG LLC., 119004,Mosow, Aleksandra Solzhenicina str., 40bld.\n",
      "461868  - PRO-LOG LLC., 119004,Mosow, Aleksandra Solzhenicina str., 40bld. +7(495)742-53-82\n",
      "461868 PRO-LOG LLC.,  119004,MOSOW,ALEKSANDRA  SOLZHENICINA STR., 40 BLD.  +7(495) 989 73 82\n",
      "461868 PRO-LOG LLC., 119004,MOSOW,ALEKSANDRA SOLZHENICINA STR.,40 BLD.TEL:+7(495) 989 73 82\n",
      "\n",
      "Cluster 6:\n",
      "310-DT-1 IKEA Distribution ServicesS.A. UL.M.Grabinskiego 50, JarostyPL-97310 Moszczenica Poland\n",
      "310-DT-1 IKEA DISTRIBUTION SERVICESS.A. UL.M.GRABINSKIEGO 50, JAROSTYPL-97310 MOSZCZENICA POLAND\n",
      "310-DT-1 IKEA DISTRIBUTION SERVICESS.A. UL.M. GRABINSKIEGO 50, JAROSTY PL-97310 MOSZCZENICA POLAND\n",
      "310-DT-1     IKEA Distribution Services S.A.     UL.M.Grabinskiego 50,Jarosty     PL-97310 Moszczeni\n",
      "310-DT-1 IKEA Distribution ServicesS.A. UL.M.Grabinskiego 50, JorastyPL-97310 Moszczenica Poland\n",
      "\n",
      "Cluster 7:\n",
      "A.HARTRODT (POLSKA) SP. Z.O.O. SEAFREIGHT OFFICE  UL.PULASKIEGO 8, (ROOM 612) 81-368 GDYNIA POLAND E\n",
      "A. HARTRODT (POLSKA) SP. Z.O.O. SEAFREIGHT OFFICE UL.PULASKIEGO 8,(ROOM 612) 81-368 GDYNIA  POLAND E\n",
      "A. HARTRODT (POLSKA) SP. Z.O.O. SEAFREIGHT OFFICE UL.PULASKIEGO 8,(ROOM 612) 81-368 GDYNIA POLAND TE\n",
      "A.HARTRODT (POLSKA) SP. Z.O.O. SEAFREIGHT OFFICE  UL.PULASKIEGO 8, (ROOM 612) 81-368 GDYNIA POLAND T\n",
      "A.HARTRODT(POLSKA)SP.Z.O.O. UL.PULASKIEGO 8,ROOM 612 81-368 GDYNIA POLAND PHONE:(+48)58 627 23 88\n",
      "\n",
      "Cluster 8:\n",
      "\"ALDETRANS\" LLC, 105066, MOSCOW, RUSSIA, TOKMAKOV LANE, 11. TEL:+7(495)641-03-89\n",
      "\"ALLIANCE-TRADE\" LLC INN: 7816391055 / KPP: 784601001 190020, Saint Petersburg, quay of the Obvodny \n",
      "\"AVANPORT\"  LLC INN: 7839413675 KPP: 783901001 190020, SAINT PETERSBURG, QUAY OF THE OBVODNY CHANNEL\n",
      "\"AVANPORT\"  LLC INN: 7839413675 KPP: 783901001 190020, SAINT PETERSBURG, QUAY OF  THE OBVODNY CHANNE\n",
      "\"EVROTRANSIT\" LLC 105005, RUSSIAN FEDERATION, MOSCOW, BAUMANSKAYA STR., 33/2, BLD.1 E-MAIL:EVROTRANZ\n",
      "\n",
      "Cluster 9:\n",
      "''TOPEX SP. Z O.O.'' SPOLKA KOMANDYTOWA UL. POGRANICZNA 2/4  02-285 WARSZAWA POLAND\n",
      "\"TOPEX SP.Z.O.O.\"SP.K. UL.POGRANICZNA 2/4, 02-285 WARSZAWA.POLAND\n",
      "\"TOPEX SP.Z.O.O.\"SP.K. UL.POGRANICZNA 2/4,02-285 WARSZAWA POLAND\n",
      "\"TOPEX SP.Z O.O.\"SP.K. UL,POGRANICZNA 2/4 02-285 WARSZAWA\n",
      "\"TOPEX SP.Z O.O.\"SP.K. UL.POGRANICZNA 2/4,02--285 WARSZAWA\n",
      "\n",
      "Cluster 10:\n",
      "1,FORWARD EXPEDITION LIMITED HKG MOSCOW REPRESENTATION, 121069,MOSCOW,NOVINSKIY BULVAR, 20 A, BLD.8 \n",
      "1.FORWARD EXPEDITION LIMITED HKG,MOSCOW REPRESENTATION,111033, MOSCOW, ZOLOTOROZHSKIY VAL STR,32/6-2\n",
      "1.FORWARD EXPEDITION LIMITED HKG,MOSCOW REPRESENTATION, 111033,MOSCOW, ZOLOTOROZHSKIY VAL STR.32/6-2\n",
      "1.Forward Expedition Limited HKG, Moscow Representation, 111033,Moscow, Zolotorozhskiy val str.32/6-\n",
      "1.Forward Expedition Limited HKG, Moscow Representation, 111033,Moscow, Zolotorozhskiy val str.32/6-\n",
      "\n"
     ]
    }
   ],
   "source": [
    "get_res(cosine_similarity, False)"
   ]
  },
  {
   "cell_type": "markdown",
   "metadata": {},
   "source": [
    "## Dice"
   ]
  },
  {
   "cell_type": "markdown",
   "metadata": {},
   "source": [
    "### preprocessing"
   ]
  },
  {
   "cell_type": "code",
   "execution_count": 53,
   "metadata": {},
   "outputs": [
    {
     "name": "stdout",
     "output_type": "stream",
     "text": [
      "Cluster 1:\n",
      "\"TC \"\"UNOTRANS\"\" LTD\" \"190020 ST.PETERSBURG,\" \"BUMAZHNAYA STR.9, K.1,OFFICE 305\" \"TEL/FAX: +7 812 44\n",
      "\"TC\"UNOTRANS\"LTD 190020 ST.PETERSBURG,BUMAZHNAYA STR.9,K.1,OFF.305 TEL/FAX:+7 812 445 28 43\n",
      "\"TC\"UNOTRANS\"LTD 190020 ST.PETERSBURG, BUMAZHNAYA STR.9,K.1,OFF.305 TEL/FAX:+7 812 445 28 43\n",
      "\"TC \"UNOTRANS\" LTD 190020 ST.PETERSBURG, BUMAZHNAYA STR.9, K.1, OFF. 305 TEL/FAX: +7 812 445 28 43\n",
      "\"TC \"UNOTRANS\" LTD 190020 ST.PETERSBURG, BUMAZHNAYA STR.9, K.1, OFFICE305 TEL/FAX: +7 812 445 28 43\n",
      "\n",
      "Cluster 2:\n",
      "\"MEAT TRADE COMPANY \"ST.PETERSBURG\"LTD. 191015 SAINT-PETERSBURG, SHPALERNAYA STREET, 51 RUSSIAN FEDE\n",
      "\"MEAT TRADE COMPANY \"ST.PETERSBURG\"LTD. 191015 SAINT-PETERSBURG, SHPALERNAYA STREET, 51 RUSSIAN FEDE\n",
      "\"MEAT TRADE COMPANY \"ST.PETERSBURG\"LTD 191015 SAINT-PETERSBURG, SHPALERNAYA STREET, 51 RUSSIAN FEDER\n",
      "\"MEAT TRADE COMPANY \"ST.PETERSBURG\"LTD 191015 SAINT-PETERSBURG, SHPALERNAYA STREET, 51 RUSSIAN FEDER\n",
      "\"MEAT TRADE COMPANY \"ST.PETERSBURG\"LTD 191015 SAINT-PETERSBURG, SHPALERNAYA STREET, 51 RUSSIAN FEDER\n",
      "\n",
      "Cluster 3:\n",
      "''PA INTERIOR'' LTD BOLSHAYA LUBYANKA STREET, 16/4 MOSCOW, 101000, RUSSIA INN/KPP 7704550148//770801\n",
      "\"ALDETRANS\" LLC, 105066, MOSCOW, RUSSIA, TOKMAKOV LANE, 11. TEL:+7(495)641-03-89\n",
      "\"ALISA\" LTD, 1/5 Derbenevskaya str., Moscow, Russia Tel./Fax: (495) 987-13-07 postal code: 115114\n",
      "\"ARIVIST\", 198035, RUSSIA, SAINT-PETERSBURG, GAPSALSKAYA STR.,5,OFFICE1-3; TEL.+78123277732, FAX +78\n",
      "\"ARIVIST\", 198035, RUSSIA, SAINT-PETERSBURG, GAPSALSKAYA STR.,5, OFFICE1-3; TEL.+78123277732, FAX +7\n",
      "\n",
      "Cluster 4:\n",
      "\"FMG SHIPPING AND FORWARDING, LTD.\"190020, SAINT PETERSBURG,LIFLYANDSKAYA STR., 6,LITERA \"A\",BUILDIN\n",
      "\"FMG SHIPPING AND FORWARDING, LTD.\"190020 ST.PETERSBURG, RUSSIA BUMAZHNAYA STR., 18, OFF. 310\n",
      "1/FMG SHIPPING AND FORWARDING LTD 190020, SAINT PETERSBURG, LIFLYANDSKAYA STR., 6, LITERA \"A\",\n",
      "1/FMG SHIPPING AND FORWARDING LTD190020, SAINT PETERSBURG, LIFLYANDSKAYA STR., 6, LITERA \"A \",+++\n",
      "1/FMG SHIPPING AND FORWARDING LTD 190020, SAINT PETERSBURG, LIFLYANDSKAYA STR., 6, LITERA \"A\", BUILD\n",
      "\n",
      "Cluster 5:\n",
      "A.HARTRODT (POLSKA) SP. Z.O.O. SEAFREIGHT OFFICE UL.PULASKIEGO 8, (ROOM 612) 81-368 GDYNIA POLAND EO\n",
      "A. HARTRODT (POLSKA) SP. Z.O.O. SEAFREIGHT OFFICE UL.PULASKIEGO 8,(ROOM 612) 81-368 GDYNIA POLAND EO\n",
      "A. HARTRODT (POLSKA) SP. Z.O.O. SEAFREIGHT OFFICE UL.PULASKIEGO 8,(ROOM 612) 81-368 GDYNIA POLAND TE\n",
      "A.HARTRODT (POLSKA) SP. Z.O.O. SEAFREIGHT OFFICE UL.PULASKIEGO 8, (ROOM 612) 81-368 GDYNIA POLAND TE\n",
      "A.HARTRODT(POLSKA)SP.Z.O.O. UL.PULASKIEGO 8,ROOM 612 81-368 GDYNIA POLAND PHONE:(+48)58 627 23 88\n",
      "\n",
      "Cluster 6:\n",
      "''TOPEX SP. Z O.O.'' SPOLKA KOMANDYTOWA UL. POGRANICZNA 2/4 02-285 WARSZAWA POLAND\n",
      "\"TOPEX SP.Z.O.O.\"SP.K. UL.POGRANICZNA 2/4, 02-285 WARSZAWA.POLAND\n",
      "\"TOPEX SP.Z.O.O.\"SP.K. UL.POGRANICZNA 2/4,02-285 WARSZAWA POLAND\n",
      "\"TOPEX SP.Z O.O.\"SP.K. UL,POGRANICZNA 2/4 02-285 WARSZAWA\n",
      "\"TOPEX SP.Z O.O.\"SP.K. UL.POGRANICZNA 2/4,02--285 WARSZAWA\n",
      "\n",
      "Cluster 7:\n",
      "310-DT-1 IKEA Distribution ServicesS.A. UL.M.Grabinskiego 50, JarostyPL-97310 Moszczenica Poland\n",
      "310-DT-1 IKEA DISTRIBUTION SERVICESS.A. UL.M.GRABINSKIEGO 50, JAROSTYPL-97310 MOSZCZENICA POLAND\n",
      "310-DT-1 IKEA DISTRIBUTION SERVICESS.A. UL.M. GRABINSKIEGO 50, JAROSTY PL-97310 MOSZCZENICA POLAND\n",
      "310-DT-1 IKEA Distribution Services S.A. UL.M.Grabinskiego 50,Jarosty PL-97310 Moszczenica Poland\n",
      "310-DT-1 IKEA Distribution ServicesS.A. UL.M.Grabinskiego 50, JorastyPL-97310 Moszczenica Poland\n",
      "\n",
      "Cluster 8:\n",
      "1,FORWARD EXPEDITION LIMITED HKG MOSCOW REPRESENTATION, 121069,MOSCOW,NOVINSKIY BULVAR, 20 A, BLD.8 \n",
      "1.FORWARD EXPEDITION LIMITED HKG,MOSCOW REPRESENTATION,111033, MOSCOW, ZOLOTOROZHSKIY VAL STR,32/6-2\n",
      "1.FORWARD EXPEDITION LIMITED HKG,MOSCOW REPRESENTATION, 111033,MOSCOW, ZOLOTOROZHSKIY VAL STR.32/6-2\n",
      "1.Forward Expedition Limited HKG, Moscow Representation, 111033,Moscow, Zolotorozhskiy val str.32/6-\n",
      "1.Forward Expedition Limited HKG, Moscow Representation, 111033,Moscow, Zolotorozhskiy val str.32/6-\n",
      "\n",
      "Cluster 9:\n",
      "461868 PRO-LOG LLC, 119004,MOSOW,ALEKSANDRA SOLZHENICINA STR.,40 BLD.+7(495)742-53-82\n",
      "461868 - PRO-LOG LLC., 119004,Mosow, Aleksandra Solzhenicina str., 40bld.\n",
      "461868 - PRO-LOG LLC., 119004,Mosow, Aleksandra Solzhenicina str., 40bld. +7(495)742-53-82\n",
      "461868 PRO-LOG LLC., 119004,MOSOW,ALEKSANDRA SOLZHENICINA STR., 40 BLD. +7(495) 989 73 82\n",
      "461868 PRO-LOG LLC., 119004,MOSOW,ALEKSANDRA SOLZHENICINA STR.,40 BLD.TEL:+7(495) 989 73 82\n",
      "\n",
      "Cluster 10:\n",
      "/11692589 RD TUNA CANNERS, LTD. PORTION 1004, SIAR NORTH COAST ROAD, P.O.BOX 2113, MADANG, PAPUA NEW\n",
      "''SSONTEX'' Sp.ZO.O.IMPORT-EXPORTUL:PRZECLAWSKA 5 03-879 WARSZAWA,POLAND NIP 113-01-17-669\n",
      "''SSONTEX''SP.ZO.O.IMPORT-EXPORT UL:PRZECLAWSKA 5 03-879 WARSZAWA,POLAND NIP 113-01-17-669 TEL./FAX.\n",
      "'MASTER PLUS CO.,LTD.' 143000,RUSSIA,MO,ODINSOVO, MOJAISKOE, SHOSSE,153G TEL:+7495 7273939\n",
      "\"2TIGERS GROUP LIMITED\" ROOM 504 JINSHAZHOU SHANGSHUI ROAD, GUANGZHOU 510160\n",
      "\n"
     ]
    }
   ],
   "source": [
    "get_res(dice, True)"
   ]
  },
  {
   "cell_type": "markdown",
   "metadata": {},
   "source": [
    "### bez preprocessingu "
   ]
  },
  {
   "cell_type": "code",
   "execution_count": 54,
   "metadata": {},
   "outputs": [
    {
     "name": "stdout",
     "output_type": "stream",
     "text": [
      "Cluster 1:\n",
      "\"TC \"\"UNOTRANS\"\" LTD\" \"190020 ST.PETERSBURG,\" \"BUMAZHNAYA STR.9, K.1,OFFICE 305\" \"TEL/FAX: +7 812 44\n",
      "\"TC\"UNOTRANS\"LTD 190020 ST.PETERSBURG,BUMAZHNAYA STR.9,K.1,OFF.305 TEL/FAX:+7 812 445 28 43\n",
      "\"TC\"UNOTRANS\"LTD 190020 ST.PETERSBURG, BUMAZHNAYA STR.9,K.1,OFF.305 TEL/FAX:+7 812 445 28 43\n",
      "\"TC \"UNOTRANS\" LTD 190020 ST.PETERSBURG, BUMAZHNAYA STR.9, K.1, OFF. 305 TEL/FAX: +7 812 445 28 43\n",
      "\"TC \"UNOTRANS\" LTD 190020 ST.PETERSBURG, BUMAZHNAYA STR.9, K.1, OFFICE305 TEL/FAX: +7 812 445 28 43\n",
      "\n",
      "Cluster 2:\n",
      "\"MEAT TRADE COMPANY \"ST.PETERSBURG\"LTD.  191015 SAINT-PETERSBURG, SHPALERNAYA STREET, 51 RUSSIAN FED\n",
      "\"MEAT TRADE COMPANY \"ST.PETERSBURG\"LTD. 191015 SAINT-PETERSBURG,  SHPALERNAYA STREET, 51 RUSSIAN FED\n",
      "\"MEAT TRADE COMPANY \"ST.PETERSBURG\"LTD 191015 SAINT-PETERSBURG, SHPALERNAYA STREET, 51 RUSSIAN FEDER\n",
      "\"MEAT TRADE COMPANY \"ST.PETERSBURG\"LTD 191015 SAINT-PETERSBURG, SHPALERNAYA STREET, 51 RUSSIAN FEDER\n",
      "\"MEAT TRADE COMPANY \"ST.PETERSBURG\"LTD 191015 SAINT-PETERSBURG, SHPALERNAYA STREET, 51 RUSSIAN FEDER\n",
      "\n",
      "Cluster 3:\n",
      "''PA INTERIOR'' LTD BOLSHAYA LUBYANKA STREET, 16/4 MOSCOW, 101000, RUSSIA INN/KPP 7704550148//770801\n",
      "\"ALDETRANS\" LLC, 105066, MOSCOW, RUSSIA, TOKMAKOV LANE, 11. TEL:+7(495)641-03-89\n",
      "\"ALISA\" LTD, 1/5 Derbenevskaya str., Moscow, Russia Tel./Fax: (495) 987-13-07 postal code: 115114\n",
      "\"ARIVIST\", 198035, RUSSIA,  SAINT-PETERSBURG,  GAPSALSKAYA STR.,5,OFFICE1-3;  TEL.+78123277732, FAX \n",
      "\"ARIVIST\", 198035, RUSSIA, SAINT-PETERSBURG, GAPSALSKAYA STR.,5, OFFICE1-3; TEL.+78123277732, FAX +7\n",
      "\n",
      "Cluster 4:\n",
      "\"FMG SHIPPING AND FORWARDING, LTD.\"190020, SAINT PETERSBURG,LIFLYANDSKAYA STR., 6,LITERA \"A\",BUILDIN\n",
      "\"FMG SHIPPING AND FORWARDING, LTD.\"190020 ST.PETERSBURG, RUSSIA BUMAZHNAYA STR., 18, OFF. 310\n",
      "1/FMG SHIPPING AND FORWARDING LTD 190020, SAINT PETERSBURG, LIFLYANDSKAYA STR., 6, LITERA \"A\",\n",
      "1/FMG SHIPPING AND FORWARDING  LTD190020, SAINT PETERSBURG, LIFLYANDSKAYA STR., 6, LITERA \"A \",+++\n",
      "1/FMG SHIPPING AND FORWARDING LTD 190020, SAINT PETERSBURG, LIFLYANDSKAYA STR., 6, LITERA \"A\", BUILD\n",
      "\n",
      "Cluster 5:\n",
      "A.HARTRODT (POLSKA) SP. Z.O.O. SEAFREIGHT OFFICE  UL.PULASKIEGO 8, (ROOM 612) 81-368 GDYNIA POLAND E\n",
      "A. HARTRODT (POLSKA) SP. Z.O.O. SEAFREIGHT OFFICE UL.PULASKIEGO 8,(ROOM 612) 81-368 GDYNIA  POLAND E\n",
      "A. HARTRODT (POLSKA) SP. Z.O.O. SEAFREIGHT OFFICE UL.PULASKIEGO 8,(ROOM 612) 81-368 GDYNIA POLAND TE\n",
      "A.HARTRODT (POLSKA) SP. Z.O.O. SEAFREIGHT OFFICE  UL.PULASKIEGO 8, (ROOM 612) 81-368 GDYNIA POLAND T\n",
      "A.HARTRODT(POLSKA)SP.Z.O.O. UL.PULASKIEGO 8,ROOM 612 81-368 GDYNIA POLAND PHONE:(+48)58 627 23 88\n",
      "\n",
      "Cluster 6:\n",
      "''TOPEX SP. Z O.O.'' SPOLKA KOMANDYTOWA UL. POGRANICZNA 2/4  02-285 WARSZAWA POLAND\n",
      "\"TOPEX SP.Z.O.O.\"SP.K. UL.POGRANICZNA 2/4, 02-285 WARSZAWA.POLAND\n",
      "\"TOPEX SP.Z.O.O.\"SP.K. UL.POGRANICZNA 2/4,02-285 WARSZAWA POLAND\n",
      "\"TOPEX SP.Z O.O.\"SP.K. UL,POGRANICZNA 2/4 02-285 WARSZAWA\n",
      "\"TOPEX SP.Z O.O.\"SP.K. UL.POGRANICZNA 2/4,02--285 WARSZAWA\n",
      "\n",
      "Cluster 7:\n",
      "310-DT-1 IKEA Distribution ServicesS.A. UL.M.Grabinskiego 50, JarostyPL-97310 Moszczenica Poland\n",
      "310-DT-1 IKEA DISTRIBUTION SERVICESS.A. UL.M.GRABINSKIEGO 50, JAROSTYPL-97310 MOSZCZENICA POLAND\n",
      "310-DT-1 IKEA DISTRIBUTION SERVICESS.A. UL.M. GRABINSKIEGO 50, JAROSTY PL-97310 MOSZCZENICA POLAND\n",
      "310-DT-1     IKEA Distribution Services S.A.     UL.M.Grabinskiego 50,Jarosty     PL-97310 Moszczeni\n",
      "310-DT-1 IKEA Distribution ServicesS.A. UL.M.Grabinskiego 50, JorastyPL-97310 Moszczenica Poland\n",
      "\n",
      "Cluster 8:\n",
      "1,FORWARD EXPEDITION LIMITED HKG MOSCOW REPRESENTATION, 121069,MOSCOW,NOVINSKIY BULVAR, 20 A, BLD.8 \n",
      "1.FORWARD EXPEDITION LIMITED HKG,MOSCOW REPRESENTATION,111033, MOSCOW, ZOLOTOROZHSKIY VAL STR,32/6-2\n",
      "1.FORWARD EXPEDITION LIMITED HKG,MOSCOW REPRESENTATION, 111033,MOSCOW, ZOLOTOROZHSKIY VAL STR.32/6-2\n",
      "1.Forward Expedition Limited HKG, Moscow Representation, 111033,Moscow, Zolotorozhskiy val str.32/6-\n",
      "1.Forward Expedition Limited HKG, Moscow Representation, 111033,Moscow, Zolotorozhskiy val str.32/6-\n",
      "\n",
      "Cluster 9:\n",
      "461868 PRO-LOG LLC, 119004,MOSOW,ALEKSANDRA SOLZHENICINA STR.,40 BLD.+7(495)742-53-82\n",
      "461868  - PRO-LOG LLC., 119004,Mosow, Aleksandra Solzhenicina str., 40bld.\n",
      "461868  - PRO-LOG LLC., 119004,Mosow, Aleksandra Solzhenicina str., 40bld. +7(495)742-53-82\n",
      "461868 PRO-LOG LLC.,  119004,MOSOW,ALEKSANDRA  SOLZHENICINA STR., 40 BLD.  +7(495) 989 73 82\n",
      "461868 PRO-LOG LLC., 119004,MOSOW,ALEKSANDRA SOLZHENICINA STR.,40 BLD.TEL:+7(495) 989 73 82\n",
      "\n",
      "Cluster 10:\n",
      "/11692589 RD TUNA CANNERS, LTD. PORTION 1004, SIAR NORTH COAST ROAD, P.O.BOX 2113, MADANG, PAPUA NEW\n",
      "''SSONTEX''  Sp.ZO.O.IMPORT-EXPORTUL:PRZECLAWSKA 5 03-879 WARSZAWA,POLAND NIP 113-01-17-669\n",
      "''SSONTEX''SP.ZO.O.IMPORT-EXPORT UL:PRZECLAWSKA 5 03-879 WARSZAWA,POLAND NIP 113-01-17-669 TEL./FAX.\n",
      "'MASTER PLUS CO.,LTD.' 143000,RUSSIA,MO,ODINSOVO, MOJAISKOE, SHOSSE,153G TEL:+7495 7273939\n",
      "\"2TIGERS GROUP LIMITED\"  ROOM 504 JINSHAZHOU SHANGSHUI ROAD,  GUANGZHOU 510160\n",
      "\n"
     ]
    }
   ],
   "source": [
    "get_res(dice, False)"
   ]
  },
  {
   "cell_type": "markdown",
   "metadata": {},
   "source": [
    "## LCS"
   ]
  },
  {
   "cell_type": "markdown",
   "metadata": {},
   "source": [
    "### preprocessing "
   ]
  },
  {
   "cell_type": "code",
   "execution_count": 55,
   "metadata": {},
   "outputs": [
    {
     "name": "stdout",
     "output_type": "stream",
     "text": [
      "Cluster 1:\n",
      "A. HARTRODT HONG KONG LIMITED FLAT1207-1216, 12/F., BLOCK B SOUTHMARK, 11 YIP HING STREET WONG CHUK \n",
      "A. HARTRODT HONG KONG LIMITED FLAT1207-1216, 12/F., BLOCK B SOUTHMARK, 11 YIP HING STREET WONG CHUK \n",
      "A. HARTRODT SHENZHEN LOGISTICSCOMPANY LIMITED RM 1804-05, GOLDEN BUSINESS CENTRE, 2028 SHENNAN ROAD \n",
      "A.HARTRODT SHENZHEN LOGISTICS COMPANY LIMITED RM 1804-05 GOLDEN BUSINESS CENTRE 2028 SHENNAN ROAD EA\n",
      "A.HARTRODT SHENZHEN LOGISTICS COMPANY LIMITED RM 1804-05 GOLDEN BUSINESS CENTRE 2028 SHENNAN ROAD EA\n",
      "\n",
      "Cluster 2:\n",
      "\"FMG SHIPPING AND FORWARDING, LTD.\"190020, SAINT PETERSBURG,LIFLYANDSKAYA STR., 6,LITERA \"A\",BUILDIN\n",
      "1/FMG SHIPPING AND FORWARDING LTD 190020, SAINT PETERSBURG, LIFLYANDSKAYA STR., 6, LITERA \"A\",\n",
      "1/FMG SHIPPING AND FORWARDING LTD190020, SAINT PETERSBURG, LIFLYANDSKAYA STR., 6, LITERA \"A \",+++\n",
      "1/FMG SHIPPING AND FORWARDING LTD 190020, SAINT PETERSBURG, LIFLYANDSKAYA STR., 6, LITERA \"A\", BUILD\n",
      "1/FMG SHIPPING AND FORWARDING LTD190020, SAINT PETERSBURG, LIFLYANDSKAYA STR., 6, LITERA \"A\", BUILDI\n",
      "\n",
      "Cluster 3:\n",
      "\"BIO plus LTD\" INN 7805166210 198303, S-Petersburg, Leninskiy Pr.,110/1, lit B, app.53-H, RUSSIA\n",
      "\"ELEKTROAPPARAT\" PLC 24th LiniyaV.O.,St.Petersburg. Sup.office No.1of Kirovsky RUSSIA TEL: 0079-2196\n",
      "\"EXPRESS CO. LTD.\" RUSSIA 155101 IVANOVSKAYA REGION, LEZHNEVSKIY RAION, D. KOROVIHA, CENTRALNAYA STR\n",
      "\"EXPRESS CO. LTD.\" RUSSIA 155101 IVANOVSKAYA REGION, LEZHNEVSKIY RAION, D. KOROVIHA, CENTRALNAYA STR\n",
      "\"FT-LINE\"LLC RUSSIA 115230,MOSCOW,ELECTROLYTNIY PROEZD,3G/2 TEL:+79851607522\n",
      "\n",
      "Cluster 4:\n",
      "''PA INTERIOR'' LTD BOLSHAYA LUBYANKA STREET, 16/4 MOSCOW, 101000, RUSSIA INN/KPP 7704550148//770801\n",
      "\"CARGOIMPORT\" LTD VNUKOVSKAYA STREET, BUILDING 2, R.43-H-1, SAINT-PETERSBURG, RUSSIA .\n",
      "\"ENS\" LTD ADDRESS: STAROPETROVSKIYPASSAGE, BLD 7A, CONSTRUCTION 3 125130, MOSCOW, RUSSIA TEL: (499) \n",
      "\"FMG SHIPPING AND FORWARDING, LTD.\"190020 ST.PETERSBURG, RUSSIA BUMAZHNAYA STR., 18, OFF. 310\n",
      "\"LIGA-IMPORT\" LTD DOROGA NA TURUHTANNIE OSTROVA, D.24, KORP.5, SAINT-PETERSBURG, 198096, RUSSIA\n",
      "\n",
      "Cluster 5:\n",
      "''TOPEX SP. Z O.O.'' SPOLKA KOMANDYTOWA UL. POGRANICZNA 2/4 02-285 WARSZAWA POLAND\n",
      "\"SEVROLL-SYSTEM\" SP.Z O.O. PLAC CZERWCA 1976 ROKU NR 1B 02-495 WARSZAWA URSUS TEL: (022) 312-31-39\n",
      "\"SEVROLL-SYSTEM\" SP.Z O.O. PLAC CZERWCA 1976 ROKU NR 1B 02-495 WARSZAWA URSUS TEL: (022) 312-31-39\n",
      "\"TOPEX SP.Z.O.O.\"SP.K. UL.POGRANICZNA 2/4, 02-285 WARSZAWA.POLAND\n",
      "\"TOPEX SP.Z.O.O.\"SP.K. UL.POGRANICZNA 2/4,02-285 WARSZAWA POLAND\n",
      "\n",
      "Cluster 6:\n",
      "\"MEAT TRADE COMPANY \"ST.PETERSBURG\"LTD. 191015 SAINT-PETERSBURG, SHPALERNAYA STREET, 51 RUSSIAN FEDE\n",
      "\"MEAT TRADE COMPANY \"ST.PETERSBURG\"LTD. 191015 SAINT-PETERSBURG, SHPALERNAYA STREET, 51 RUSSIAN FEDE\n",
      "\"MEAT TRADE COMPANY \"ST.PETERSBURG\"LTD 191015 SAINT-PETERSBURG, SHPALERNAYA STREET, 51 RUSSIAN FEDER\n",
      "\"MEAT TRADE COMPANY \"ST.PETERSBURG\"LTD 191015 SAINT-PETERSBURG, SHPALERNAYA STREET, 51 RUSSIAN FEDER\n",
      "\"MEAT TRADE COMPANY \"ST.PETERSBURG\"LTD 191015 SAINT-PETERSBURG, SHPALERNAYA STREET, 51 RUSSIAN FEDER\n",
      "\n",
      "Cluster 7:\n",
      "A.HARTRODT (POLSKA) SP. Z.O.O. SEAFREIGHT OFFICE UL.PULASKIEGO 8, (ROOM 612) 81-368 GDYNIA POLAND EO\n",
      "A. HARTRODT (POLSKA) SP. Z.O.O. SEAFREIGHT OFFICE UL.PULASKIEGO 8,(ROOM 612) 81-368 GDYNIA POLAND EO\n",
      "A. HARTRODT (POLSKA) SP. Z.O.O. SEAFREIGHT OFFICE UL.PULASKIEGO 8,(ROOM 612) 81-368 GDYNIA POLAND TE\n",
      "A.HARTRODT (POLSKA) SP. Z.O.O. SEAFREIGHT OFFICE UL.PULASKIEGO 8, (ROOM 612) 81-368 GDYNIA POLAND TE\n",
      "A.HARTRODT(POLSKA)SP.Z.O.O. UL.PULASKIEGO 8,ROOM 612 81-368 GDYNIA POLAND PHONE:(+48)58 627 23 88\n",
      "\n",
      "Cluster 8:\n",
      "461868 PRO-LOG LLC., 119004,MOSOW,ALEKSANDRA SOLZHENICINA STR., 40 BLD. +7(495) 989 73 82\n",
      "461868 PRO-LOG LLC., 119004,MOSOW,ALEKSANDRA SOLZHENICINA STR.,40 BLD.TEL:+7(495) 989 73 82\n",
      "461868 PRO-LOG LLC., 119004,MOSOW,ALEKSANDRA SOLZHENICINA STR., 40 BLD. TEL:+7(495) 989 73 82\n",
      "461868 PRO-LOG LLC., 119004,MOSOW,ALEKSANDRA SOLZHENICINA STR., 40 BLD. TEL: +7(495) 989 73 82\n",
      "461868 PRO-LOG LLC., 119004,MOSOW,ALEKSANDRA SOLZHENICINA STR., 40 BLD. TEL: +7(499)550-07-57\n",
      "\n",
      "Cluster 9:\n",
      "/11692589 RD TUNA CANNERS, LTD. PORTION 1004, SIAR NORTH COAST ROAD, P.O.BOX 2113, MADANG, PAPUA NEW\n",
      "''SSONTEX'' Sp.ZO.O.IMPORT-EXPORTUL:PRZECLAWSKA 5 03-879 WARSZAWA,POLAND NIP 113-01-17-669\n",
      "''SSONTEX''SP.ZO.O.IMPORT-EXPORT UL:PRZECLAWSKA 5 03-879 WARSZAWA,POLAND NIP 113-01-17-669 TEL./FAX.\n",
      "'MASTER PLUS CO.,LTD.' 143000,RUSSIA,MO,ODINSOVO, MOJAISKOE, SHOSSE,153G TEL:+7495 7273939\n",
      "\"2TIGERS GROUP LIMITED\" ROOM 504 JINSHAZHOU SHANGSHUI ROAD, GUANGZHOU 510160\n",
      "\n",
      "Cluster 10:\n",
      "1.OOO SILMAR SPB,198035, RUSSIA , ST. PETERSBURG UL. DVINSKAYA 16/2, CONTACT PERSON:ALEXEY YASHIN TE\n",
      "1.OOO SILMAR SPB,198035, RUSSIA , ST. PETERSBURG UL. DVINSKAYA 16/2, CONTACT PERSON: ALEXEY YASHIN T\n",
      "1.OOO SILMAR SPB,198035, RUSSIA , ST. PETERSBURG UL.DVINSKAYA 16/2 TEL: +7812 495 8527\n",
      "1. OOO SILMAR SPB 198035, RUSSIA ,ST. PETERSBURG UL. DVINSKAYA 16/2 TEL: +7812 495 8527\n",
      "1. OOO SILMAR SPB 198035, RUSSIA ,ST. PETERSBURG UL. DVINSKAYA 16/2 TEL: +7812 495 8527 2. MORSKOE A\n",
      "\n"
     ]
    }
   ],
   "source": [
    "get_res(word_lcs, True)"
   ]
  },
  {
   "cell_type": "markdown",
   "metadata": {},
   "source": [
    "### bez preprocessingu"
   ]
  },
  {
   "cell_type": "code",
   "execution_count": 57,
   "metadata": {
    "scrolled": false
   },
   "outputs": [
    {
     "name": "stdout",
     "output_type": "stream",
     "text": [
      "Cluster 1:\n",
      "A. HARTRODT HONG KONG LIMITED FLAT1207-1216, 12/F., BLOCK B SOUTHMARK, 11 YIP HING STREET WONG CHUK \n",
      "A. HARTRODT HONG KONG LIMITED FLAT1207-1216, 12/F., BLOCK B  SOUTHMARK, 11 YIP HING STREET WONG CHUK\n",
      "A. HARTRODT SHENZHEN LOGISTICSCOMPANY LIMITED RM 1804-05, GOLDEN BUSINESS CENTRE, 2028 SHENNAN ROAD \n",
      "A.HARTRODT SHENZHEN LOGISTICS COMPANY LIMITED RM 1804-05 GOLDEN BUSINESS CENTRE 2028 SHENNAN ROAD EA\n",
      "A.HARTRODT SHENZHEN LOGISTICS COMPANY LIMITED RM 1804-05 GOLDEN BUSINESS CENTRE 2028 SHENNAN ROAD EA\n",
      "\n",
      "Cluster 2:\n",
      "\"FMG SHIPPING AND FORWARDING, LTD.\"190020, SAINT PETERSBURG,LIFLYANDSKAYA STR., 6,LITERA \"A\",BUILDIN\n",
      "1/FMG SHIPPING AND FORWARDING LTD 190020, SAINT PETERSBURG, LIFLYANDSKAYA STR., 6, LITERA \"A\",\n",
      "1/FMG SHIPPING AND FORWARDING  LTD190020, SAINT PETERSBURG, LIFLYANDSKAYA STR., 6, LITERA \"A \",+++\n",
      "1/FMG SHIPPING AND FORWARDING LTD 190020, SAINT PETERSBURG, LIFLYANDSKAYA STR., 6, LITERA \"A\", BUILD\n",
      "1/FMG SHIPPING AND FORWARDING  LTD190020, SAINT PETERSBURG, LIFLYANDSKAYA  STR., 6, LITERA \"A\", BUIL\n",
      "\n",
      "Cluster 3:\n",
      "\"BIO plus LTD\" INN 7805166210 198303, S-Petersburg, Leninskiy Pr.,110/1, lit B, app.53-H, RUSSIA\n",
      "\"ELEKTROAPPARAT\" PLC   24th LiniyaV.O.,St.Petersburg. Sup.office No.1of Kirovsky RUSSIA TEL: 0079-21\n",
      "\"EXPRESS CO. LTD.\" RUSSIA 155101 IVANOVSKAYA REGION, LEZHNEVSKIY RAION, D. KOROVIHA, CENTRALNAYA STR\n",
      "\"EXPRESS CO. LTD.\"  RUSSIA 155101 IVANOVSKAYA REGION, LEZHNEVSKIY RAION, D. KOROVIHA, CENTRALNAYA ST\n",
      "\"FT-LINE\"LLC RUSSIA 115230,MOSCOW,ELECTROLYTNIY PROEZD,3G/2 TEL:+79851607522\n",
      "\n",
      "Cluster 4:\n",
      "''PA INTERIOR'' LTD BOLSHAYA LUBYANKA STREET, 16/4 MOSCOW, 101000, RUSSIA INN/KPP 7704550148//770801\n",
      "\"CARGOIMPORT\" LTD VNUKOVSKAYA STREET, BUILDING 2, R.43-H-1, SAINT-PETERSBURG, RUSSIA .\n",
      "\"ENS\" LTD ADDRESS: STAROPETROVSKIYPASSAGE, BLD 7A,  CONSTRUCTION 3 125130, MOSCOW, RUSSIA TEL: (499)\n",
      "\"FMG SHIPPING AND FORWARDING, LTD.\"190020 ST.PETERSBURG, RUSSIA BUMAZHNAYA STR., 18, OFF. 310\n",
      "\"LIGA-IMPORT\" LTD DOROGA NA TURUHTANNIE OSTROVA, D.24, KORP.5, SAINT-PETERSBURG, 198096, RUSSIA\n",
      "\n",
      "Cluster 5:\n",
      "''TOPEX SP. Z O.O.'' SPOLKA KOMANDYTOWA UL. POGRANICZNA 2/4  02-285 WARSZAWA POLAND\n",
      "\"SEVROLL-SYSTEM\" SP.Z O.O. PLAC CZERWCA 1976 ROKU NR 1B  02-495 WARSZAWA URSUS  TEL: (022) 312-31-39\n",
      "\"SEVROLL-SYSTEM\" SP.Z O.O. PLAC CZERWCA 1976 ROKU NR 1B  02-495 WARSZAWA URSUS   TEL: (022) 312-31-3\n",
      "\"TOPEX SP.Z.O.O.\"SP.K. UL.POGRANICZNA 2/4, 02-285 WARSZAWA.POLAND\n",
      "\"TOPEX SP.Z.O.O.\"SP.K. UL.POGRANICZNA 2/4,02-285 WARSZAWA POLAND\n",
      "\n",
      "Cluster 6:\n",
      "\"MEAT TRADE COMPANY \"ST.PETERSBURG\"LTD.  191015 SAINT-PETERSBURG, SHPALERNAYA STREET, 51 RUSSIAN FED\n",
      "\"MEAT TRADE COMPANY \"ST.PETERSBURG\"LTD. 191015 SAINT-PETERSBURG,  SHPALERNAYA STREET, 51 RUSSIAN FED\n",
      "\"MEAT TRADE COMPANY \"ST.PETERSBURG\"LTD 191015 SAINT-PETERSBURG, SHPALERNAYA STREET, 51 RUSSIAN FEDER\n",
      "\"MEAT TRADE COMPANY \"ST.PETERSBURG\"LTD 191015 SAINT-PETERSBURG, SHPALERNAYA STREET, 51 RUSSIAN FEDER\n",
      "\"MEAT TRADE COMPANY \"ST.PETERSBURG\"LTD 191015 SAINT-PETERSBURG, SHPALERNAYA STREET, 51 RUSSIAN FEDER\n",
      "\n",
      "Cluster 7:\n",
      "A.HARTRODT (POLSKA) SP. Z.O.O. SEAFREIGHT OFFICE  UL.PULASKIEGO 8, (ROOM 612) 81-368 GDYNIA POLAND E\n",
      "A. HARTRODT (POLSKA) SP. Z.O.O. SEAFREIGHT OFFICE UL.PULASKIEGO 8,(ROOM 612) 81-368 GDYNIA  POLAND E\n",
      "A. HARTRODT (POLSKA) SP. Z.O.O. SEAFREIGHT OFFICE UL.PULASKIEGO 8,(ROOM 612) 81-368 GDYNIA POLAND TE\n",
      "A.HARTRODT (POLSKA) SP. Z.O.O. SEAFREIGHT OFFICE  UL.PULASKIEGO 8, (ROOM 612) 81-368 GDYNIA POLAND T\n",
      "A.HARTRODT(POLSKA)SP.Z.O.O. UL.PULASKIEGO 8,ROOM 612 81-368 GDYNIA POLAND PHONE:(+48)58 627 23 88\n",
      "\n",
      "Cluster 8:\n",
      "461868 PRO-LOG LLC.,  119004,MOSOW,ALEKSANDRA  SOLZHENICINA STR., 40 BLD.  +7(495) 989 73 82\n",
      "461868 PRO-LOG LLC., 119004,MOSOW,ALEKSANDRA SOLZHENICINA STR.,40 BLD.TEL:+7(495) 989 73 82\n",
      "461868 PRO-LOG LLC., 119004,MOSOW,ALEKSANDRA SOLZHENICINA STR., 40 BLD. TEL:+7(495) 989 73 82\n",
      "461868 PRO-LOG LLC., 119004,MOSOW,ALEKSANDRA SOLZHENICINA STR., 40 BLD. TEL: +7(495) 989 73 82\n",
      "461868 PRO-LOG LLC., 119004,MOSOW,ALEKSANDRA SOLZHENICINA STR., 40 BLD. TEL: +7(499)550-07-57\n",
      "\n",
      "Cluster 9:\n",
      "/11692589 RD TUNA CANNERS, LTD. PORTION 1004, SIAR NORTH COAST ROAD, P.O.BOX 2113, MADANG, PAPUA NEW\n",
      "''SSONTEX''  Sp.ZO.O.IMPORT-EXPORTUL:PRZECLAWSKA 5 03-879 WARSZAWA,POLAND NIP 113-01-17-669\n",
      "''SSONTEX''SP.ZO.O.IMPORT-EXPORT UL:PRZECLAWSKA 5 03-879 WARSZAWA,POLAND NIP 113-01-17-669 TEL./FAX.\n",
      "'MASTER PLUS CO.,LTD.' 143000,RUSSIA,MO,ODINSOVO, MOJAISKOE, SHOSSE,153G TEL:+7495 7273939\n",
      "\"2TIGERS GROUP LIMITED\"  ROOM 504 JINSHAZHOU SHANGSHUI ROAD,  GUANGZHOU 510160\n",
      "\n",
      "Cluster 10:\n",
      "1.OOO SILMAR SPB,198035, RUSSIA , ST. PETERSBURG UL. DVINSKAYA 16/2, CONTACT PERSON:ALEXEY YASHIN TE\n",
      "1.OOO SILMAR SPB,198035, RUSSIA , ST. PETERSBURG UL. DVINSKAYA 16/2, CONTACT PERSON: ALEXEY YASHIN T\n",
      "1.OOO SILMAR SPB,198035, RUSSIA , ST. PETERSBURG UL.DVINSKAYA 16/2 TEL: +7812 495 8527\n",
      "1. OOO SILMAR SPB 198035, RUSSIA ,ST. PETERSBURG UL. DVINSKAYA 16/2 TEL: +7812 495 8527\n",
      "1. OOO SILMAR SPB 198035, RUSSIA ,ST. PETERSBURG UL. DVINSKAYA 16/2 TEL: +7812 495 8527 2. MORSKOE A\n",
      "\n"
     ]
    }
   ],
   "source": [
    "get_res(word_lcs, False)"
   ]
  },
  {
   "cell_type": "markdown",
   "metadata": {},
   "source": [
    "# 5. Porównaj jakość wyników sposobami zaimplementowanymi w pkt. 2."
   ]
  },
  {
   "cell_type": "code",
   "execution_count": null,
   "metadata": {},
   "outputs": [],
   "source": []
  },
  {
   "cell_type": "markdown",
   "metadata": {},
   "source": [
    "# 6. Czy masz jakiś pomysł na poprawę jakości klasteryzacji w tym zadaniu?"
   ]
  },
  {
   "cell_type": "markdown",
   "metadata": {},
   "source": [
    "<ul>\n",
    "     <li> Wybór najlepszej metryki - zależy od konkretnej sytuacji i rodzaju danych, z którymi mamy do czynienia. Nie ma jednej uniwersalnej metryki, która będzie najlepsza w każdym przypadku.</li>\n",
    "    <li> Implementacja nieco bardziej zlożonego preprocessingu. Można na przykład rozważyć, które dane są najbardziej istotne i sprowadzić je do ustandaryzowanej formy i tylko je wziąć pod uwagę.</li>\n",
    "    <li> Dobranie odpowiednich paramterów, np. ilości klastrów, częstości wystąpień słowa w stopliście. </li>\n",
    "</ul>"
   ]
  }
 ],
 "metadata": {
  "kernelspec": {
   "display_name": "Python 3 (ipykernel)",
   "language": "python",
   "name": "python3"
  },
  "language_info": {
   "codemirror_mode": {
    "name": "ipython",
    "version": 3
   },
   "file_extension": ".py",
   "mimetype": "text/x-python",
   "name": "python",
   "nbconvert_exporter": "python",
   "pygments_lexer": "ipython3",
   "version": "3.9.12"
  }
 },
 "nbformat": 4,
 "nbformat_minor": 2
}
