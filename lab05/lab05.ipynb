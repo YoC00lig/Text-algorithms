{
 "cells": [
  {
   "cell_type": "markdown",
   "id": "0a877dee",
   "metadata": {},
   "source": [
    "# Wyszukiwanie wzorca 2D"
   ]
  },
  {
   "cell_type": "code",
   "execution_count": 1,
   "id": "85d46d7b",
   "metadata": {},
   "outputs": [],
   "source": [
    "import pandas as pd\n",
    "from PIL import Image\n",
    "from time import time\n",
    "import matplotlib.pyplot as plt"
   ]
  },
  {
   "cell_type": "markdown",
   "id": "0ad18f6f",
   "metadata": {},
   "source": [
    "Zadanie dotyczy wyszukiwania wzorców dwuwymiarowych."
   ]
  },
  {
   "cell_type": "markdown",
   "id": "1c901c29",
   "metadata": {},
   "source": [
    "# 1. Zaimplementuj algorytm wyszukiwania wzorca 2-wymiarowego "
   ]
  },
  {
   "cell_type": "markdown",
   "id": "9b673edd",
   "metadata": {},
   "source": [
    "Poniższa funkcja przetwarza wzorzec 2D i zwraca informacje:\n",
    "\n",
    "<ul>\n",
    "    <li>columns: lista krotek reprezentujących kolumny wzorca, </li>\n",
    "    <li>indexes: lista indeksów, które wskazują, do której kolumny w columns odpowiada dana kolumna wzorca,  </li>\n",
    "    <li> alphabet: zbiór unikalnych elementów (liter) występujących we wszystkich kolumnach wzorca. </li>\n",
    "</ul>"
   ]
  },
  {
   "cell_type": "code",
   "execution_count": 2,
   "id": "ba8e59fd",
   "metadata": {},
   "outputs": [],
   "source": [
    "def get_columns(pattern):\n",
    "    columns, indexes, alphabet = [], [], set()\n",
    "    \n",
    "    for column in zip(*pattern): # transponuje wzorzec, tworząc krotki reprezentujące kolumny. \n",
    "        if column in columns:\n",
    "            index = columns.index(column)\n",
    "            indexes.append(index)\n",
    "        else:\n",
    "            columns.append(column)\n",
    "            indexes.append(len(columns) - 1)\n",
    "        \n",
    "        alphabet.update(column)\n",
    "    \n",
    "    return columns, indexes, alphabet"
   ]
  },
  {
   "cell_type": "markdown",
   "id": "0b30e67a",
   "metadata": {},
   "source": [
    "Funkcje tworzące automat - pionowo i poziomo."
   ]
  },
  {
   "cell_type": "code",
   "execution_count": 3,
   "id": "d885cdb7",
   "metadata": {},
   "outputs": [],
   "source": [
    "def vertical(columns, alphabet):\n",
    "    transition_table, words, states = [{}], [[]], [0] * len(columns)\n",
    "    \n",
    "    for j, column in enumerate(zip(*columns)): # Przechodzimy po kolumnach\n",
    "        for i, letter in enumerate(column):\n",
    "            \n",
    "            # Sprawdza, czy letter znajduje się już w transition_table[states[i]].\n",
    "            \n",
    "            # Jeśli tak, \n",
    "            # aktualizuje stan states[i] na odpowiadający tej literze stan w transition_table[states[i]]\n",
    "            \n",
    "            if letter in transition_table[states[i]]:\n",
    "                states[i] = transition_table[states[i]][letter]\n",
    "                \n",
    "            # Jeśli nie,\n",
    "            # dodaje nowy stan new_state na końcu transition_table\n",
    "            # i przypisuje go do transition_table[states[i]][letter]. \n",
    "            # Dodaje również nowe słowo do words, które jest konkatenacją \n",
    "            # słowa dla aktualnego stanu words[states[i]] i letter.\n",
    "            # Następnie aktualizuje stan states[i] na new_state.\n",
    "            \n",
    "            else:\n",
    "                new_state = len(transition_table)\n",
    "                transition_table[states[i]][letter] = new_state\n",
    "                words.append(words[states[i]] + [letter])\n",
    "                states[i] = new_state\n",
    "                transition_table.append({})\n",
    "                \n",
    "    for i, state in enumerate(transition_table):\n",
    "        for letter in alphabet:\n",
    "            if letter not in state:\n",
    "                \n",
    "                # Sprawdza, czy litera letter z alfabetu wzorca nie znajduje się w stanie state.\n",
    "                # Jeśli tak, tworzy sufiks suffix, który jest konkatenacją\n",
    "                # aktualnego słowa words[i] i letter bez pierwszego elementu. \n",
    "                # Następnie inicjalizuje current_state na 0\n",
    "                \n",
    "                suffix = (words[i] + [letter])[1:]\n",
    "                current_state = 0\n",
    "                \n",
    "                # Iteruje po literach s w suffix. Sprawdza, czy s znajduje się w transition_table[current_state]. \n",
    "                # Jeśli tak, aktualizuje current_state na odpowiadający tej literze stan \n",
    "                # w transition_table[current_state]. W przeciwnym razie ustawia current_state na 0.\n",
    "                \n",
    "                for s in suffix:\n",
    "                    current_state = transition_table[current_state].get(s, 0)\n",
    "\n",
    "                        \n",
    "                transition_table[i][letter] = current_state  \n",
    "                               \n",
    "    return transition_table, states "
   ]
  },
  {
   "cell_type": "code",
   "execution_count": 4,
   "id": "d318b6f0",
   "metadata": {},
   "outputs": [],
   "source": [
    "def horizontal(pattern, alphabet):\n",
    "    automat = []\n",
    "\n",
    "    for state in range(len(pattern) + 1): # pętla dla każdego stanu\n",
    "        automat.append({})\n",
    "        for letter in alphabet:\n",
    "            \n",
    "            # Inicjujemy następny stan next_state - jest on równy\n",
    "            # obecnemu stanowi + 1 albo dlugosci wzorca, jeśli jest on mniejszy.\n",
    "            \n",
    "            next_state = state + 1\n",
    "            \n",
    "            if next_state > len(pattern):\n",
    "                next_state = len(pattern)\n",
    "                \n",
    "            #  # W pętli dopóki następny stan jest większy od zero tworzymy dwie zmienne - prefiks i sufiks.\n",
    "            # Porównujemy prefix i suffix. Jeśli są one równe, to znaczy, \n",
    "            # że znaleziono dopasowanie między prefiksem a sufiksem, dlatego przerywamy pętlę.\n",
    "            # W przeciwnym razie zmniejszamy next_state o 1.\n",
    "            \n",
    "            while next_state > 0:\n",
    "                prefix = pattern[:state] + [letter]\n",
    "                suffix = pattern[state - next_state + 1:state + 1]\n",
    "\n",
    "                if prefix == suffix:\n",
    "                    break\n",
    "\n",
    "                next_state -= 1\n",
    "\n",
    "            automat[state][letter] = next_state\n",
    "\n",
    "    return automat # zwracamy wynikowy automat"
   ]
  },
  {
   "cell_type": "markdown",
   "id": "3d88a01a",
   "metadata": {},
   "source": [
    "Główny algorytm wyszukiwania wzorca 2D"
   ]
  },
  {
   "cell_type": "code",
   "execution_count": 5,
   "id": "8ac217cf",
   "metadata": {},
   "outputs": [],
   "source": [
    "def pattern_2d(text, pattern, times = False):\n",
    "    start = time()\n",
    "    columns, idxs, alphabet = get_columns(pattern)\n",
    "    \n",
    "    # tworzone są tablica przejść vertical_tt oraz początkowy stan pionowy vertical_states\n",
    "    # Tworzona jest lista pattern_, która jest transformacją indeksów kolumn wzorca pattern \n",
    "    # na odpowiadające stany z tablicy przejść\n",
    "    vertical_tt, vertical_states = vertical(columns, alphabet)\n",
    "    pattern_ = [vertical_states[idxs[i]] for i in range(len(idxs))]\n",
    "    \n",
    "    # na podstawie listy pattern_ oraz stanów pionowych vertical_states tworzona jest tablica\n",
    "    # przejść horizontal_tt dla stanów poziomych\n",
    "    # Obliczany jest stan akceptujący poziomy horizontal_accepting_state\n",
    "    horizontal_tt = horizontal(pattern_, vertical_states)\n",
    "    horizontal_accepting_state = len(horizontal_tt) - 1\n",
    "    \n",
    "    result, vertical_states = [], []\n",
    "\n",
    "    # iterujemy po liniach line tekstu ( i ich indeksach oznaczonych jako i)\n",
    "\n",
    "    end = time()\n",
    "    time1 = end - start # czas przygotowania automatu\n",
    "    \n",
    "    start = time()\n",
    "    \n",
    "    for i, line in enumerate(text):\n",
    "        \n",
    "        # Sprawdzane jest, czy długość linii jest mniejsza od długości stanów \n",
    "        # pionowych len(vertical_states). \n",
    "\n",
    "        # Jeśli tak, to stan pionowy jest przycinany\n",
    "        # do długości linii za pomocą vertical_states[:len(line)]. Jeśli długość linii\n",
    "        # jest większa od stanów pionowych, to są dodawane brakujące zera do vertical_states\n",
    "        # przy pomocy vertical_states.extend([0] * (len(line) - len(vertical_states)))\n",
    "    \n",
    "        if len(line) < len(vertical_states): vertical_states = vertical_states[:len(line)]\n",
    "        elif len(vertical_states) < len(line): vertical_states.extend([0] * (len(line) - len(vertical_states)))\n",
    "\n",
    "        horizontal_state = 0 #  Będzie przechowywać aktualny stan poziomy.\n",
    "        \n",
    "        for j, letter in enumerate(line): # iteracja po literach w aktualnej linii tekstu\n",
    "            \n",
    "            # Stan pionowy vertical_states[j] i stan poziomy horizontal_state są aktualizowane\n",
    "            vertical_states[j] = vertical_tt[vertical_states[j]].get(letter, 0)\n",
    "            horizontal_state = horizontal_tt[horizontal_state].get(vertical_states[j], 0)\n",
    "            \n",
    "            # Jeśli horizontal_state osiąga wartość horizontal_accepting_state, oznacza to,\n",
    "            # że wzorzec został dopasowany w danym fragmencie tekstu. W takim przypadku, \n",
    "            # para indeksów (i - len(pattern) + 1, j - len(pattern[0]) + 1) jest dodawana \n",
    "            # do listy wynikowej result.\n",
    "\n",
    "            # Jeśli horizontal_state osiąga wartość 0, kontynuowana jest iteracja do następnej\n",
    "            # litery w linii tekstu.\n",
    "            \n",
    "            if horizontal_state == horizontal_accepting_state: \n",
    "                result.append((i - len(pattern) + 1, j - len(pattern[0]) + 1))\n",
    "                \n",
    "            elif horizontal_state == 0: continue\n",
    "                \n",
    "    end = time()\n",
    "    time2 = end - start# czas wyszukiwania wzorca\n",
    "    \n",
    "    if not times:\n",
    "        return result\n",
    "    else:\n",
    "        return time1, time2"
   ]
  },
  {
   "cell_type": "markdown",
   "id": "a51d434d",
   "metadata": {},
   "source": [
    "# 2. Znajdź w załączonym pliku \"haystack.txt\" wszyskie sytuacje, gdy taka sama litera występuje na tej samej pozycji w dwóch kolejnych linijkach. Zwróć uwagę, na nierówną długość linii w pliku. "
   ]
  },
  {
   "cell_type": "code",
   "execution_count": 6,
   "id": "e8448ac6",
   "metadata": {
    "scrolled": false
   },
   "outputs": [
    {
     "data": {
      "text/html": [
       "<div>\n",
       "<style scoped>\n",
       "    .dataframe tbody tr th:only-of-type {\n",
       "        vertical-align: middle;\n",
       "    }\n",
       "\n",
       "    .dataframe tbody tr th {\n",
       "        vertical-align: top;\n",
       "    }\n",
       "\n",
       "    .dataframe thead th {\n",
       "        text-align: right;\n",
       "    }\n",
       "</style>\n",
       "<table border=\"1\" class=\"dataframe\">\n",
       "  <thead>\n",
       "    <tr style=\"text-align: right;\">\n",
       "      <th></th>\n",
       "      <th>Pattern</th>\n",
       "      <th>Matches</th>\n",
       "    </tr>\n",
       "  </thead>\n",
       "  <tbody>\n",
       "    <tr>\n",
       "      <th>0</th>\n",
       "      <td>a</td>\n",
       "      <td>[(0, 82), (3, 30), (5, 60), (6, 63), (20, 6), ...</td>\n",
       "    </tr>\n",
       "    <tr>\n",
       "      <th>1</th>\n",
       "      <td>b</td>\n",
       "      <td>No matches found</td>\n",
       "    </tr>\n",
       "    <tr>\n",
       "      <th>2</th>\n",
       "      <td>c</td>\n",
       "      <td>[(3, 54), (10, 45), (13, 10), (41, 0), (68, 0)...</td>\n",
       "    </tr>\n",
       "    <tr>\n",
       "      <th>3</th>\n",
       "      <td>d</td>\n",
       "      <td>[(37, 19)]</td>\n",
       "    </tr>\n",
       "    <tr>\n",
       "      <th>4</th>\n",
       "      <td>e</td>\n",
       "      <td>[(0, 63), (1, 8), (4, 77), (7, 65), (10, 1), (...</td>\n",
       "    </tr>\n",
       "    <tr>\n",
       "      <th>5</th>\n",
       "      <td>f</td>\n",
       "      <td>[(30, 59), (77, 1)]</td>\n",
       "    </tr>\n",
       "    <tr>\n",
       "      <th>6</th>\n",
       "      <td>g</td>\n",
       "      <td>No matches found</td>\n",
       "    </tr>\n",
       "    <tr>\n",
       "      <th>7</th>\n",
       "      <td>h</td>\n",
       "      <td>[(27, 2), (37, 2), (56, 31), (73, 12)]</td>\n",
       "    </tr>\n",
       "    <tr>\n",
       "      <th>8</th>\n",
       "      <td>i</td>\n",
       "      <td>[(1, 5), (8, 37), (9, 60), (19, 55), (31, 0), ...</td>\n",
       "    </tr>\n",
       "    <tr>\n",
       "      <th>9</th>\n",
       "      <td>j</td>\n",
       "      <td>No matches found</td>\n",
       "    </tr>\n",
       "    <tr>\n",
       "      <th>10</th>\n",
       "      <td>k</td>\n",
       "      <td>No matches found</td>\n",
       "    </tr>\n",
       "    <tr>\n",
       "      <th>11</th>\n",
       "      <td>l</td>\n",
       "      <td>[(28, 72), (33, 45), (41, 77), (46, 61), (53, ...</td>\n",
       "    </tr>\n",
       "    <tr>\n",
       "      <th>12</th>\n",
       "      <td>m</td>\n",
       "      <td>[(16, 5), (28, 70), (34, 40), (34, 60), (44, 0)]</td>\n",
       "    </tr>\n",
       "    <tr>\n",
       "      <th>13</th>\n",
       "      <td>n</td>\n",
       "      <td>[(0, 83), (1, 9), (14, 54), (19, 37), (20, 56)...</td>\n",
       "    </tr>\n",
       "    <tr>\n",
       "      <th>14</th>\n",
       "      <td>o</td>\n",
       "      <td>[(4, 75), (5, 66), (6, 38), (7, 38), (10, 27),...</td>\n",
       "    </tr>\n",
       "    <tr>\n",
       "      <th>15</th>\n",
       "      <td>p</td>\n",
       "      <td>[(28, 71), (41, 18)]</td>\n",
       "    </tr>\n",
       "    <tr>\n",
       "      <th>16</th>\n",
       "      <td>q</td>\n",
       "      <td>No matches found</td>\n",
       "    </tr>\n",
       "    <tr>\n",
       "      <th>17</th>\n",
       "      <td>r</td>\n",
       "      <td>[(1, 4), (6, 39), (6, 50), (7, 13), (15, 18), ...</td>\n",
       "    </tr>\n",
       "    <tr>\n",
       "      <th>18</th>\n",
       "      <td>s</td>\n",
       "      <td>[(3, 57), (3, 63), (4, 49), (8, 21), (9, 58), ...</td>\n",
       "    </tr>\n",
       "    <tr>\n",
       "      <th>19</th>\n",
       "      <td>t</td>\n",
       "      <td>[(0, 7), (1, 6), (3, 37), (4, 14), (4, 23), (7...</td>\n",
       "    </tr>\n",
       "    <tr>\n",
       "      <th>20</th>\n",
       "      <td>u</td>\n",
       "      <td>No matches found</td>\n",
       "    </tr>\n",
       "    <tr>\n",
       "      <th>21</th>\n",
       "      <td>v</td>\n",
       "      <td>No matches found</td>\n",
       "    </tr>\n",
       "    <tr>\n",
       "      <th>22</th>\n",
       "      <td>w</td>\n",
       "      <td>[(1, 3), (21, 70)]</td>\n",
       "    </tr>\n",
       "    <tr>\n",
       "      <th>23</th>\n",
       "      <td>x</td>\n",
       "      <td>[(28, 68)]</td>\n",
       "    </tr>\n",
       "    <tr>\n",
       "      <th>24</th>\n",
       "      <td>y</td>\n",
       "      <td>[(44, 5)]</td>\n",
       "    </tr>\n",
       "    <tr>\n",
       "      <th>25</th>\n",
       "      <td>z</td>\n",
       "      <td>No matches found</td>\n",
       "    </tr>\n",
       "  </tbody>\n",
       "</table>\n",
       "</div>"
      ],
      "text/plain": [
       "   Pattern                                            Matches\n",
       "0        a  [(0, 82), (3, 30), (5, 60), (6, 63), (20, 6), ...\n",
       "1        b                                   No matches found\n",
       "2        c  [(3, 54), (10, 45), (13, 10), (41, 0), (68, 0)...\n",
       "3        d                                         [(37, 19)]\n",
       "4        e  [(0, 63), (1, 8), (4, 77), (7, 65), (10, 1), (...\n",
       "5        f                                [(30, 59), (77, 1)]\n",
       "6        g                                   No matches found\n",
       "7        h             [(27, 2), (37, 2), (56, 31), (73, 12)]\n",
       "8        i  [(1, 5), (8, 37), (9, 60), (19, 55), (31, 0), ...\n",
       "9        j                                   No matches found\n",
       "10       k                                   No matches found\n",
       "11       l  [(28, 72), (33, 45), (41, 77), (46, 61), (53, ...\n",
       "12       m   [(16, 5), (28, 70), (34, 40), (34, 60), (44, 0)]\n",
       "13       n  [(0, 83), (1, 9), (14, 54), (19, 37), (20, 56)...\n",
       "14       o  [(4, 75), (5, 66), (6, 38), (7, 38), (10, 27),...\n",
       "15       p                               [(28, 71), (41, 18)]\n",
       "16       q                                   No matches found\n",
       "17       r  [(1, 4), (6, 39), (6, 50), (7, 13), (15, 18), ...\n",
       "18       s  [(3, 57), (3, 63), (4, 49), (8, 21), (9, 58), ...\n",
       "19       t  [(0, 7), (1, 6), (3, 37), (4, 14), (4, 23), (7...\n",
       "20       u                                   No matches found\n",
       "21       v                                   No matches found\n",
       "22       w                                 [(1, 3), (21, 70)]\n",
       "23       x                                         [(28, 68)]\n",
       "24       y                                          [(44, 5)]\n",
       "25       z                                   No matches found"
      ]
     },
     "execution_count": 6,
     "metadata": {},
     "output_type": "execute_result"
    }
   ],
   "source": [
    "def get_dataframe(filename = \"haystack.txt\"):\n",
    "    with open(filename, 'r') as file:\n",
    "        text = file.readlines()\n",
    "        \n",
    "    results = []\n",
    "    \n",
    "    for i in range(ord('a'), ord('z')+1):\n",
    "        \n",
    "        pattern = [chr(i), chr(i)]\n",
    "        result = pattern_2d(text, pattern)\n",
    "        \n",
    "        if len(result) > 0:\n",
    "            results.append([pattern[0], result])\n",
    "        else:\n",
    "            results.append([pattern[0], \"No matches found\"])\n",
    "            \n",
    "    return pd.DataFrame(results, columns=['Pattern', 'Matches'])\n",
    "\n",
    "\n",
    "df = get_dataframe()\n",
    "df"
   ]
  },
  {
   "cell_type": "markdown",
   "id": "560e47bf",
   "metadata": {},
   "source": [
    "# 3. Znajdź wszystkie wystąpienia \"th\" oraz \"t h\" w dwóch kolejnych liniach na tej samej pozycji. "
   ]
  },
  {
   "cell_type": "code",
   "execution_count": 7,
   "id": "f8066ec9",
   "metadata": {},
   "outputs": [
    {
     "name": "stdout",
     "output_type": "stream",
     "text": [
      "----------------------------------------------\n",
      "For th pattern: \n",
      "No matches found.\n",
      "----------------------------------------------\n",
      "For t h pattern: \n",
      "[(37, 0)]\n"
     ]
    }
   ],
   "source": [
    "def find_th():\n",
    "    with open('haystack.txt') as file:\n",
    "        text = file.readlines()\n",
    "        \n",
    "    pattern = [\"th\", \"th\"]\n",
    "    result = pattern_2d(text, pattern)\n",
    "    \n",
    "    print(\"----------------------------------------------\")\n",
    "    print(\"For th pattern: \")\n",
    "    if result != []:\n",
    "        print(result)\n",
    "    else:\n",
    "        print(\"No matches found.\")\n",
    "    \n",
    "    pattern = [\"t h\", \"t h\"]\n",
    "    result = pattern_2d(text, pattern)\n",
    "    \n",
    "    print(\"----------------------------------------------\")\n",
    "    print(\"For t h pattern: \")\n",
    "    if result != []:\n",
    "        print(result)\n",
    "    else:\n",
    "        print(\"No matches found.\")\n",
    "    \n",
    "find_th()"
   ]
  },
  {
   "cell_type": "markdown",
   "id": "5092b71a",
   "metadata": {},
   "source": [
    "# 4. Wybierz przynajmniej 4 litery (małe). Znajdź wszystkie wystąpienia tej litery w załączonym pliku \"haystack.png\" "
   ]
  },
  {
   "cell_type": "markdown",
   "id": "f9d6ef66",
   "metadata": {},
   "source": [
    "<p> Wybrane litery: </p>\n",
    "\n",
    "\n",
    "\n",
    "<div style=\"display: flex; flex-direction: column;\">\n",
    "    <img src=\"a.png\">\n",
    "    <img src=\"b.png\">\n",
    "    <img src=\"e.png\">\n",
    "    <img src=\"c.png\">\n",
    "</div>"
   ]
  },
  {
   "cell_type": "markdown",
   "id": "68287339",
   "metadata": {},
   "source": [
    "Na początku tworzę funkcję, która skonwertuje obraz na macierz zawierającą dane o pikselach. Będzie ona potrzebna aby móc wywołać zaimplementowany w zadaniu 1 algorytm wyszukiwania wzorca 2D."
   ]
  },
  {
   "cell_type": "code",
   "execution_count": 8,
   "id": "6c8411c0",
   "metadata": {},
   "outputs": [],
   "source": [
    "def get_image_pattern(path):\n",
    "    image = Image.open(path).convert(\"L\")  # Konwersja obrazu na skalę szarości\n",
    "    width, height = image.size\n",
    "    matrix = []\n",
    "\n",
    "    for y in range(height):\n",
    "        row = []\n",
    "        for x in range(width):\n",
    "            pixel = image.getpixel((x, y))\n",
    "            row.append(pixel)\n",
    "        matrix.append(row)\n",
    "\n",
    "    return matrix"
   ]
  },
  {
   "cell_type": "markdown",
   "id": "8afead0c",
   "metadata": {},
   "source": [
    "Przygotowanie danych:"
   ]
  },
  {
   "cell_type": "code",
   "execution_count": 9,
   "id": "e754ed95",
   "metadata": {},
   "outputs": [],
   "source": [
    "a = get_image_pattern(\"a.png\")\n",
    "b = get_image_pattern(\"b.png\")\n",
    "e = get_image_pattern(\"e.png\")\n",
    "c = get_image_pattern(\"c.png\")\n",
    "text = get_image_pattern(\"haystack.png\")"
   ]
  },
  {
   "cell_type": "markdown",
   "id": "1fe87694",
   "metadata": {},
   "source": [
    "Badanie liczby wystąpień:"
   ]
  },
  {
   "cell_type": "code",
   "execution_count": 10,
   "id": "10c93675",
   "metadata": {},
   "outputs": [
    {
     "data": {
      "text/html": [
       "<div>\n",
       "<style scoped>\n",
       "    .dataframe tbody tr th:only-of-type {\n",
       "        vertical-align: middle;\n",
       "    }\n",
       "\n",
       "    .dataframe tbody tr th {\n",
       "        vertical-align: top;\n",
       "    }\n",
       "\n",
       "    .dataframe thead th {\n",
       "        text-align: right;\n",
       "    }\n",
       "</style>\n",
       "<table border=\"1\" class=\"dataframe\">\n",
       "  <thead>\n",
       "    <tr style=\"text-align: right;\">\n",
       "      <th></th>\n",
       "      <th>Letter</th>\n",
       "      <th>Matches</th>\n",
       "    </tr>\n",
       "  </thead>\n",
       "  <tbody>\n",
       "    <tr>\n",
       "      <th>0</th>\n",
       "      <td>a</td>\n",
       "      <td>175</td>\n",
       "    </tr>\n",
       "    <tr>\n",
       "      <th>1</th>\n",
       "      <td>b</td>\n",
       "      <td>27</td>\n",
       "    </tr>\n",
       "    <tr>\n",
       "      <th>2</th>\n",
       "      <td>e</td>\n",
       "      <td>14</td>\n",
       "    </tr>\n",
       "    <tr>\n",
       "      <th>3</th>\n",
       "      <td>c</td>\n",
       "      <td>81</td>\n",
       "    </tr>\n",
       "  </tbody>\n",
       "</table>\n",
       "</div>"
      ],
      "text/plain": [
       "  Letter  Matches\n",
       "0      a      175\n",
       "1      b       27\n",
       "2      e       14\n",
       "3      c       81"
      ]
     },
     "execution_count": 10,
     "metadata": {},
     "output_type": "execute_result"
    }
   ],
   "source": [
    "def get_occurences():\n",
    "    result = []\n",
    "    result.append([\"a\", len(pattern_2d(text, a))])\n",
    "    result.append([\"b\", len(pattern_2d(text, b))])\n",
    "    result.append([\"e\", len(pattern_2d(text, e))])\n",
    "    result.append([\"c\", len(pattern_2d(text, c))])\n",
    "\n",
    "    return pd.DataFrame(result, columns=['Letter', 'Matches'])\n",
    "\n",
    "df = get_occurences()\n",
    "df"
   ]
  },
  {
   "cell_type": "markdown",
   "id": "df9a0eba",
   "metadata": {},
   "source": [
    "# 5. Znajdź wszystkie wystąpienia słowa \"p a t t e r n\" w haystack.png. "
   ]
  },
  {
   "cell_type": "code",
   "execution_count": 11,
   "id": "04f41680",
   "metadata": {},
   "outputs": [
    {
     "name": "stdout",
     "output_type": "stream",
     "text": [
      "Wystąpienia słowa 'pattern':\n",
      "[(494, 425), (538, 239), (582, 139)]\n"
     ]
    }
   ],
   "source": [
    "pattern = get_image_pattern(\"pattern.png\")\n",
    "occurences = pattern_2d(text, pattern)\n",
    "print(\"Wystąpienia słowa 'pattern':\")\n",
    "print(occurences)"
   ]
  },
  {
   "cell_type": "markdown",
   "id": "ca363ac2",
   "metadata": {},
   "source": [
    "# 6. Porównaj czas budowania automatu i czas wyszukiwania dla różnych rozmiarów wzorca "
   ]
  },
  {
   "cell_type": "code",
   "execution_count": 12,
   "id": "29915131",
   "metadata": {},
   "outputs": [
    {
     "data": {
      "image/png": "[encoded data removed]",
      "text/plain": [
       "<Figure size 1080x504 with 1 Axes>"
      ]
     },
     "metadata": {
      "needs_background": "light"
     },
     "output_type": "display_data"
    }
   ],
   "source": [
    "text = get_image_pattern(\"haystack.png\")\n",
    "construction, search = [], []\n",
    "sizes = [i for i in range(10,100,10)]\n",
    "\n",
    "for size in sizes:\n",
    "    pattern = [i[0:size] for i in text[0:size]]\n",
    "    time1, time2 = pattern_2d(text, pattern, True)\n",
    "    construction.append(time1)\n",
    "    search.append(time2)\n",
    "    \n",
    "# Tworzenie wykresu\n",
    "plt.figure(figsize=(15, 7))\n",
    "plt.plot(sizes, construction, color='deeppink', label='Construction Time')\n",
    "plt.plot(sizes, search, color='lightpink', label='Search Time')\n",
    "\n",
    "plt.xlabel('Sizes')\n",
    "plt.ylabel('Time')\n",
    "plt.title('Construction and Search Time vs Sizes')\n",
    "\n",
    "plt.legend()\n",
    "plt.show()\n"
   ]
  },
  {
   "cell_type": "markdown",
   "id": "01b52490",
   "metadata": {},
   "source": [
    "<ol> \n",
    "     <li> Czas budowania automatu rośnie liniowo wraz z rozmiarem wzorca. </li>\n",
    "     <li> Czas wyszukiwania wzorca jest stały. Można się tego spodziewać, ponieważ zależy on od długości tekstu, a ten pozostaje przez cały czas taki sam. </li>\n",
    "     <li> Czas budowania automatu jest dłuższy od czasu wyszukiwania wzorca ponieważ tabela przejścia zależy od alfabetu.</li>\n",
    "</ol>"
   ]
  },
  {
   "cell_type": "markdown",
   "id": "54a0aeed",
   "metadata": {},
   "source": [
    "# 7. Podziel plik na 2, 4 i 8 fragmentów (w poziomie) i porównaj czas przeszukiwania "
   ]
  },
  {
   "cell_type": "code",
   "execution_count": 13,
   "id": "462ce13e",
   "metadata": {},
   "outputs": [
    {
     "name": "stdout",
     "output_type": "stream",
     "text": [
      "Dla Liczby fragmentów 2 czas wyszukiwania wzorca to 0.6451 sekund\n",
      "Dla Liczby fragmentów 4 czas wyszukiwania wzorca to 0.6252 sekund\n",
      "Dla Liczby fragmentów 8 czas wyszukiwania wzorca to 0.6154 sekund\n"
     ]
    }
   ],
   "source": [
    "text = get_image_pattern(\"haystack.png\")\n",
    "pattern = [line[:25] for line in text[:25]]\n",
    "\n",
    "for part in [2,4,8]:\n",
    "    \n",
    "    part_size = len(text) // part\n",
    "    parts = [text[i * part_size : (i + 1) * part_size] for i in range(part)]\n",
    "\n",
    "    start = time()\n",
    "    \n",
    "    for ntext in parts:\n",
    "        pattern_2d(ntext, pattern)\n",
    "        \n",
    "    end = time()\n",
    "\n",
    "    print(f\"Dla Liczby fragmentów {part} czas wyszukiwania wzorca to {round(end - start, 4)} sekund\")"
   ]
  },
  {
   "cell_type": "markdown",
   "id": "ccf9cbeb",
   "metadata": {},
   "source": [
    "<ul>\n",
    "    <li>Pomimo podziału pliku na kilka fragmentów, czas wyszukiwania wzorca pozostaje praktycznie ten sam (zaobserwowane różnice są nieznaczne).</li>\n",
    "</ul>"
   ]
  }
 ],
 "metadata": {
  "kernelspec": {
   "display_name": "Python 3 (ipykernel)",
   "language": "python",
   "name": "python3"
  },
  "language_info": {
   "codemirror_mode": {
    "name": "ipython",
    "version": 3
   },
   "file_extension": ".py",
   "mimetype": "text/x-python",
   "name": "python",
   "nbconvert_exporter": "python",
   "pygments_lexer": "ipython3",
   "version": "3.9.12"
  }
 },
 "nbformat": 4,
 "nbformat_minor": 5
}
