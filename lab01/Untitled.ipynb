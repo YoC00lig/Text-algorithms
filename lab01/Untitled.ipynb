{
 "cells": [
  {
   "cell_type": "markdown",
   "id": "15125f2f",
   "metadata": {},
   "source": [
    "# Algorytmy tekstowe - laboratorium 1"
   ]
  },
  {
   "cell_type": "markdown",
   "id": "b5265c2b",
   "metadata": {},
   "source": [
    "Zaimplementuj w Pythonie algorytmy wyszukiwania wzorców:\n",
    "<ul>\n",
    "    <li>1. naiwny</li>\n",
    "    <li>2. automat skończony </li>\n",
    "    <li>3. algorytm KMP </li>\n",
    "</ul>"
   ]
  },
  {
   "cell_type": "markdown",
   "id": "55d2c677",
   "metadata": {},
   "source": [
    "# Algorytm naiwny:"
   ]
  },
  {
   "cell_type": "code",
   "execution_count": 2,
   "id": "e88755eb",
   "metadata": {},
   "outputs": [],
   "source": [
    "def naive(text, pattern): # O(nm - m^2)\n",
    "    result = []\n",
    "    for s in range(len(text)-len(pattern)+1):\n",
    "        if text[s:s+len(pattern)] == pattern:\n",
    "            result.append(s)\n",
    "    return result"
   ]
  },
  {
   "cell_type": "markdown",
   "id": "8222f7a2",
   "metadata": {},
   "source": [
    "# Automat skończony:"
   ]
  },
  {
   "cell_type": "code",
   "execution_count": 5,
   "id": "67b292e2",
   "metadata": {},
   "outputs": [],
   "source": [
    "def transition(pattern):\n",
    "    result = []\n",
    "    for q in range(0, len(pattern) + 1):\n",
    "        result.append({})\n",
    "        for a in [\"a\", \"b\"]:\n",
    "            k = min(len(pattern)+1, q+2)\n",
    "            while True:\n",
    "                k -= 1\n",
    "                if k == 0 or pattern[:k] == (pattern[:q] + a)[-k:]:\n",
    "                    break\n",
    "            result[q][a] = k\n",
    "            \n",
    "    return result\n",
    "\n",
    "def fa_matching(text, pattern):\n",
    "    q = 0\n",
    "    delta = transition(pattern)\n",
    "    length = len(delta) - 1\n",
    "    result = []\n",
    "\n",
    "    for i in range(0, len(text)):\n",
    "        q = delta[q] [text[i]]\n",
    "        if (q == length):\n",
    "            result.append(i+1-q)\n",
    "            \n",
    "    return result"
   ]
  },
  {
   "cell_type": "markdown",
   "id": "95be5618",
   "metadata": {},
   "source": [
    "# Algorytm KMP:"
   ]
  },
  {
   "cell_type": "code",
   "execution_count": null,
   "id": "f66cb7b2",
   "metadata": {},
   "outputs": [],
   "source": [
    "def KMP(s1,s2):\n",
    "    "
   ]
  }
 ],
 "metadata": {
  "kernelspec": {
   "display_name": "Python 3 (ipykernel)",
   "language": "python",
   "name": "python3"
  },
  "language_info": {
   "codemirror_mode": {
    "name": "ipython",
    "version": 3
   },
   "file_extension": ".py",
   "mimetype": "text/x-python",
   "name": "python",
   "nbconvert_exporter": "python",
   "pygments_lexer": "ipython3",
   "version": "3.9.12"
  }
 },
 "nbformat": 4,
 "nbformat_minor": 5
}
