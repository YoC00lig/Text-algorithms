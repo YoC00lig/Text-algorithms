{
 "cells": [
  {
   "cell_type": "markdown",
   "id": "bda48de8",
   "metadata": {},
   "source": [
    "# Algorytmy tekstowe - laboraorium 3"
   ]
  },
  {
   "cell_type": "markdown",
   "id": "4e5529a9",
   "metadata": {},
   "source": [
    "### Importowanie bibliotek:"
   ]
  },
  {
   "cell_type": "code",
   "execution_count": 98,
   "id": "26c05177",
   "metadata": {},
   "outputs": [],
   "source": [
    "import numpy as np\n",
    "import spacy\n",
    "from random import randint"
   ]
  },
  {
   "cell_type": "markdown",
   "id": "41713994",
   "metadata": {},
   "source": [
    "### 1. Zaimplementuj algorytm obliczania odległości edycyjnej w taki sposób, aby możliwe było określenie przynajmniej jednej sekwencji edycji (dodanie, usunięcie, zmiana znaku), która pozwala w minimalnej liczbie kroków, przekształcić jeden łańcuch w drugi."
   ]
  },
  {
   "cell_type": "code",
   "execution_count": 15,
   "id": "dbf1ccee",
   "metadata": {},
   "outputs": [],
   "source": [
    "def delta(a, b):\n",
    "    if a == b: return 0\n",
    "    else: return 1\n",
    "    \n",
    "def edit_distance(s1, s2):\n",
    "    m, n = len(s1), len(s2)\n",
    "    dp = [[0 for _ in range(n+1)] for _ in range(m+1)]\n",
    "    \n",
    "    for i in range(1,m+1): \n",
    "        dp[i][0] = i\n",
    "    for j in range(1, n+1):\n",
    "        dp[0][j] = j\n",
    "    \n",
    "    for i in range(1,m+1):\n",
    "        for j in range(1,n+1):\n",
    "            if s1[i-1] == s2[j-1]:\n",
    "                dp[i][j] = dp[i-1][j-1]\n",
    "            else:\n",
    "                dp[i][j] = min(dp[i][j-1] + 1, dp[i-1][j] + 1, dp[i-1][j-1] + delta(s1[i-1], s2[j-1]))\n",
    "                \n",
    "    return dp"
   ]
  },
  {
   "cell_type": "code",
   "execution_count": 16,
   "id": "c1d0b7cf",
   "metadata": {},
   "outputs": [
    {
     "data": {
      "text/plain": [
       "'Edit distance for (wojtk, wjeek) : 3'"
      ]
     },
     "execution_count": 16,
     "metadata": {},
     "output_type": "execute_result"
    }
   ],
   "source": [
    "\"Edit distance for (wojtk, wjeek) : \" + str(edit_distance(\"wojtk\", \"wjeek\")[-1][-1])"
   ]
  },
  {
   "cell_type": "markdown",
   "id": "00fcac40",
   "metadata": {},
   "source": [
    "### 2. Na podstawie poprzedniego punktu zaimplementuj prostą wizualizację działania algorytmu, poprzez wskazanie kolejnych wersji pierwszego łańcucha, w których dokonywana jest określona zmiana. \"Wizualizacja\" może działać w trybie tekstowym. Np. zmiana łańcuch \"los\" w \"kloc\" może być zrealizowana następująco: klos (dodanie litery k) kloc (zamiana s->c)"
   ]
  },
  {
   "cell_type": "code",
   "execution_count": 76,
   "id": "212429a9",
   "metadata": {},
   "outputs": [],
   "source": [
    "def printer(s1, s2, dp):\n",
    "    m, n = len(s1), len(s2)\n",
    "    print(\"Before: \" + s1)\n",
    "    print(\"After: \" + s2)\n",
    "    print(\"---------------------------------\")\n",
    "    print(\"--------------------------------- \\n\")\n",
    "    substitute_str = \"REPLACE:  {}  ->  {}\"\n",
    "    delete_str = \"REMOVE:   {}  ->  {}\"\n",
    "    insert_str = \"INSERT:   {}  ->  {}\"\n",
    "\n",
    "    while m > 0 and n > 0:\n",
    "        \n",
    "        if s1[m-1] != s2[n-1]:\n",
    "            substitute = dp[m-1][n-1] + delta(s1[m-1], s2[n-1])\n",
    "            delete = dp[m-1][n] + 1\n",
    "            \n",
    "            if dp[m][n] == substitute:\n",
    "                operation = substitute_str.format(s1[m-1], s2[n-1])\n",
    "                s1 = s1[:m-1] + s2[n-1] + s1[m:]\n",
    "                m -= 1\n",
    "                n -= 1\n",
    "            elif dp[m][n] == delete:\n",
    "                operation = delete_str.format(s1[m-1], s2[n-1:])\n",
    "                s1 = s1[:m-1] + s1[m:]\n",
    "                m -= 1\n",
    "            else:\n",
    "                operation = insert_str.format(s2[n-1], s1[m:])\n",
    "                s1 = s1[:m] + s2[n-1] + s1[m:]\n",
    "                n -= 1\n",
    "                \n",
    "            print(operation)\n",
    "            print(\"NOW: {}\".format(s1))\n",
    "            print(\"---------------------------------\")\n",
    "            \n",
    "        else:\n",
    "            m, n = m-1, n-1\n",
    "\n",
    "    while m > 0:\n",
    "        operation = delete_str.format(s1[m-1], s2[n:])\n",
    "        s1 = s1[:m-1] + s1[m:]\n",
    "        print(operation)\n",
    "        print(\"NOW: {}\".format(s1))\n",
    "        print(\"---------------------------------\")\n",
    "        m -= 1\n",
    "\n",
    "    while n > 0:\n",
    "        operation = insert_str.format(s2[n-1], s1[m:])\n",
    "        s1 = s1[:m] + s2[n-1] + s1[m:]\n",
    "        print(operation)\n",
    "        print(\"NOW: {}\".format(s1))\n",
    "        print(\"---------------------------------\")\n",
    "        n -= 1\n",
    "        \n",
    "    print(\"\\nEquals? \" + str(s1==s2))\n",
    "        \n",
    "def visualization(s1, s2):\n",
    "    dp = edit_distance(s1, s2)\n",
    "    printer(s1,s2,dp)"
   ]
  },
  {
   "cell_type": "markdown",
   "id": "ff9930e3",
   "metadata": {},
   "source": [
    "### 3. Przedstaw wynik działania algorytmu z p. 2 dla następujących par łańcuchów:"
   ]
  },
  {
   "cell_type": "code",
   "execution_count": 77,
   "id": "f3f4abc0",
   "metadata": {},
   "outputs": [
    {
     "name": "stdout",
     "output_type": "stream",
     "text": [
      "Before: los\n",
      "After: kloc\n",
      "---------------------------------\n",
      "--------------------------------- \n",
      "\n",
      "REPLACE:  s  ->  c\n",
      "NOW: loc\n",
      "---------------------------------\n",
      "INSERT:   k  ->  loc\n",
      "NOW: kloc\n",
      "---------------------------------\n",
      "\n",
      "Equals? True\n"
     ]
    }
   ],
   "source": [
    "visualization(\"los\", \"kloc\")"
   ]
  },
  {
   "cell_type": "code",
   "execution_count": 78,
   "id": "39ac86f5",
   "metadata": {},
   "outputs": [
    {
     "name": "stdout",
     "output_type": "stream",
     "text": [
      "Before: Łódź\n",
      "After: Lodz\n",
      "---------------------------------\n",
      "--------------------------------- \n",
      "\n",
      "REPLACE:  ź  ->  z\n",
      "NOW: Łódz\n",
      "---------------------------------\n",
      "REPLACE:  ó  ->  o\n",
      "NOW: Łodz\n",
      "---------------------------------\n",
      "REPLACE:  Ł  ->  L\n",
      "NOW: Lodz\n",
      "---------------------------------\n",
      "\n",
      "Equals? True\n"
     ]
    }
   ],
   "source": [
    "visualization(\"Łódź\", \"Lodz\")"
   ]
  },
  {
   "cell_type": "code",
   "execution_count": 79,
   "id": "43dee082",
   "metadata": {},
   "outputs": [
    {
     "name": "stdout",
     "output_type": "stream",
     "text": [
      "Before: kwintesencja\n",
      "After: quintessence\n",
      "---------------------------------\n",
      "--------------------------------- \n",
      "\n",
      "REPLACE:  a  ->  e\n",
      "NOW: kwintesencje\n",
      "---------------------------------\n",
      "REMOVE:   j  ->  ce\n",
      "NOW: kwintesence\n",
      "---------------------------------\n",
      "INSERT:   s  ->  sence\n",
      "NOW: kwintessence\n",
      "---------------------------------\n",
      "REPLACE:  w  ->  u\n",
      "NOW: kuintessence\n",
      "---------------------------------\n",
      "REPLACE:  k  ->  q\n",
      "NOW: quintessence\n",
      "---------------------------------\n",
      "\n",
      "Equals? True\n"
     ]
    }
   ],
   "source": [
    "visualization(\"kwintesencja\", \"quintessence\")"
   ]
  },
  {
   "cell_type": "code",
   "execution_count": 80,
   "id": "fc81e825",
   "metadata": {},
   "outputs": [
    {
     "name": "stdout",
     "output_type": "stream",
     "text": [
      "Before: ATGAATCTTACCGCCTCG\n",
      "After: ATGAGGCTCTGGCCCCTG\n",
      "---------------------------------\n",
      "--------------------------------- \n",
      "\n",
      "REMOVE:   C  ->  TG\n",
      "NOW: ATGAATCTTACCGCCTG\n",
      "---------------------------------\n",
      "REPLACE:  G  ->  C\n",
      "NOW: ATGAATCTTACCCCCTG\n",
      "---------------------------------\n",
      "REPLACE:  C  ->  G\n",
      "NOW: ATGAATCTTAGCCCCTG\n",
      "---------------------------------\n",
      "REPLACE:  A  ->  G\n",
      "NOW: ATGAATCTTGGCCCCTG\n",
      "---------------------------------\n",
      "INSERT:   C  ->  TGGCCCCTG\n",
      "NOW: ATGAATCTCTGGCCCCTG\n",
      "---------------------------------\n",
      "REPLACE:  T  ->  G\n",
      "NOW: ATGAAGCTCTGGCCCCTG\n",
      "---------------------------------\n",
      "REPLACE:  A  ->  G\n",
      "NOW: ATGAGGCTCTGGCCCCTG\n",
      "---------------------------------\n",
      "\n",
      "Equals? True\n"
     ]
    }
   ],
   "source": [
    "visualization(\"ATGAATCTTACCGCCTCG\", \"ATGAGGCTCTGGCCCCTG\")"
   ]
  },
  {
   "cell_type": "markdown",
   "id": "662b6732",
   "metadata": {},
   "source": [
    "### 4. Zaimplementuj algorytm obliczania najdłuższego wspólnego podciągu dla pary ciągów elementów."
   ]
  },
  {
   "cell_type": "code",
   "execution_count": 110,
   "id": "c942ca9f",
   "metadata": {},
   "outputs": [],
   "source": [
    "def LCS(A,B):\n",
    "    n, m = len(A), len(B)\n",
    "    dp = [[0] * (m+1) for _ in range(n+1)]\n",
    "    \n",
    "    for i in range(n):\n",
    "        for j in range(m):\n",
    "            if A[i] == B[j]:\n",
    "                dp[i+1][j+1] = dp[i][j] + 1\n",
    "            else:\n",
    "                dp[i+1][j+1] = max(dp[i+1][j], dp[i][j+1])\n",
    "                \n",
    "    return dp"
   ]
  },
  {
   "cell_type": "markdown",
   "id": "3df1a230",
   "metadata": {},
   "source": [
    "### 5. Korzystając z gotowego tokenizera (np spaCy - https://spacy.io/api/tokenizer) dokonaj podziału załączonego tekstu na tokeny."
   ]
  },
  {
   "cell_type": "code",
   "execution_count": 100,
   "id": "ed0d2804",
   "metadata": {},
   "outputs": [],
   "source": [
    "nlp = spacy.load(\"pl_core_news_md\")  \n",
    "file_path = \"romeo-i-julia-700.txt\"\n",
    "tokenizer = nlp.tokenizer\n",
    "tokens = []\n",
    "\n",
    "with open(file_path, encoding=\"utf-8\") as f:\n",
    "    text = f.read()\n",
    "    tokens = tokenizer(text)"
   ]
  },
  {
   "cell_type": "markdown",
   "id": "89d22a6d",
   "metadata": {},
   "source": [
    "### 6. Stwórz 2 wersje załączonego tekstu, w których usunięto 3% losowych tokenów."
   ]
  },
  {
   "cell_type": "code",
   "execution_count": 103,
   "id": "88ce5323",
   "metadata": {},
   "outputs": [],
   "source": [
    "def remove_tokens(tokens):\n",
    "    new = []\n",
    "    for token in tokens:\n",
    "        if randint(1, 100) > 3:\n",
    "            new.append(token.text_with_ws)\n",
    "    return new\n",
    "\n",
    "new1 = remove_tokens(tokens)\n",
    "new2 = remove_tokens(tokens)\n",
    "\n",
    "with open(\"v1.txt\", \"w\", encoding=\"utf-8\") as f:\n",
    "    for token in new1:\n",
    "        f.write(token)\n",
    "\n",
    "with open(\"v2.txt\", \"w\", encoding=\"utf-8\") as f:\n",
    "    for token in new2:\n",
    "        f.write(token)"
   ]
  },
  {
   "cell_type": "markdown",
   "id": "6a1b5735",
   "metadata": {},
   "source": [
    "### 7. Oblicz długość najdłuższego podciągu wspólnych tokenów dla tych tekstów. Traktujemy teraz token (wyraz) jako podstawową, niepodzielną jednostkę ciągu. "
   ]
  },
  {
   "cell_type": "code",
   "execution_count": 105,
   "id": "06feaae8",
   "metadata": {},
   "outputs": [
    {
     "name": "stdout",
     "output_type": "stream",
     "text": [
      "Longest common subsequence length: 2542\n"
     ]
    }
   ],
   "source": [
    "print(\"Longest common subsequence length: \" + str(LCS(new1, new2)))"
   ]
  },
  {
   "cell_type": "markdown",
   "id": "c9a97f77",
   "metadata": {},
   "source": [
    "### 8. Korzystając z algorytmu z punktu 4 skonstruuj narzędzie, o działaniu podobnym do narzędzia diff, tzn. wskazującego w dwóch plikach linie, które się różnią. Na wyjściu narzędzia powinny znaleźć się elementy, które nie należą do najdłuższego wspólnego podciągu. Należy wskazać skąd dana linia pochodzi (< > - pierwszy/drugi plik) oraz numer linii w danym pliku. Traktujemy teraz całą linię jako podstawową, niepodzielną jednostkę ciągu."
   ]
  },
  {
   "cell_type": "code",
   "execution_count": 108,
   "id": "aa7e397e",
   "metadata": {},
   "outputs": [],
   "source": [
    "def diff(file1, file2):\n",
    "    \n",
    "    with open(file1, encoding=\"utf-8\") as f1, open(file2, encoding=\"utf-8\") as f2:\n",
    "        text1 = f1.read().splitlines()\n",
    "        text2 = f2.read().splitlines()\n",
    "\n",
    "    dp = LCS(text1,text2)            \n",
    "    diff_lines = []\n",
    "    n, m = len(text1), len(text2)\n",
    "    i, j = n, m\n",
    "    \n",
    "    while i > 0 and j > 0:\n",
    "        if text1[i-1] == text2[j-1]:\n",
    "            i, j = i-1, j-1\n",
    "        elif dp[i-1][j] >= dp[i][j-1]:\n",
    "            diff_lines.append((\"<\", i, text1[i-1]))\n",
    "            i -= 1\n",
    "        else:\n",
    "            diff_lines.append((\">\", j, text2[j-1]))\n",
    "            j -= 1\n",
    "            \n",
    "    while i > 0:\n",
    "        diff_lines.append((\"<\", i, text1[i-1]))\n",
    "        i -= 1\n",
    "    while j > 0:\n",
    "        diff_lines.append((\">\", j, text2[j-1]))\n",
    "        j -= 1\n",
    "\n",
    "    return reversed(diff_lines)"
   ]
  },
  {
   "cell_type": "markdown",
   "id": "726bf3a4",
   "metadata": {},
   "source": [
    "### 9. Przedstaw wynik działania narzędzia na tekstach z punktu 6. Zwróć uwagę na dodanie znaków przejścia do nowej linii, które są usuwane w trakcie tokenizacji."
   ]
  },
  {
   "cell_type": "code",
   "execution_count": 111,
   "id": "6ada0614",
   "metadata": {
    "scrolled": false
   },
   "outputs": [
    {
     "name": "stdout",
     "output_type": "stream",
     "text": [
      "> 1 William Shakespeare\n",
      "< 1 William \n",
      "> 11  * — książę panujący w Weronie\n",
      "> 12  * PARYS — młody szlachetnego rodu, krewny księcia\n",
      "< 11  * ESKALUS — książę panujący w Weronie\n",
      "< 12  * PARYS — młody Weroneńczyk szlachetnego rodu, księcia\n",
      "> 14  * STARZEC — stryjeczny brat Kapuleta\n",
      "> 15  * ROMEO — syn Montekiego\n",
      "> 16  * MERKUCJO — krewny księcia\n",
      "< 14  * STARZEC — stryjeczny brat Kapuleta* ROMEO — syn Montekiego\n",
      "< 15  * MERKUCJO — księcia\n",
      "< 23  * APTEKARZ\n",
      "< 24  TRZECH MUZYKANTÓW\n",
      "< 25  * PAŹ PARYSA\n",
      "> 25  * TRZECH \n",
      "> 26  * PAŹ PARYSA* PIOTR\n",
      "> 27  * DOWÓDCA WARTY\n",
      "> 28  * PANI MONTEKI — małżonka Montekiego\n",
      "> 29  * PANI KAPULET — małżonka Kapuleta\n",
      "< 27  * DOWÓDCA WARTY* PANI MONTEKI — małżonka Montekiego* PANI KAPULET małżonka Kapuleta\n",
      "> 32  * Obywatele weroneńscy, różne osoby płci obojej, liczący się do przyjaciół obu domów, maski, straż wojskowa i inne osoby.\n",
      "< 30  * Obywatele weroneńscy, różne osoby płci obojej, liczący się do przyjaciół obu domów, maski, straż wojskowa i osoby.\n",
      "> 45 Dwa rody, zacne jednako i sławne —\n",
      "< 43 Dwa rody, zacne jednako sławne —\n",
      "> 58 Dwugodzinnego treścią przedstawienia,Które otoczcie względy,\n",
      "< 56 Dwugodzinnego treścią przedstawienia,\n",
      "< 57 \n",
      "< 58 Które otoczcie cierpliwymi względy,\n",
      "> 70 / Plac publiczny. Samson i Grzegorz uzbrojeni w tarcze i miecze. /SAMSON\n",
      "< 70 / Plac publiczny. Wchodzą Samson i Grzegorz uzbrojeni w tarcze i miecze. /\n",
      "< 71 \n",
      "< 72 \n",
      "< 73 SAMSON\n",
      "> 77 Ma się rozumieć, bobyśmy byli zdziercami.\n",
      "< 80 się rozumieć, bobyśmy byli zdziercami.\n",
      "> 82 Ale będziemy darli koty, jak z nami zadrą.\n",
      "< 85 Ale będziemy koty, jak z nami zadrą.\n",
      "> 92 Mam zwyczaj drapać zaraz, jak mię kto rozrucha.\n",
      "< 95 Mam zwyczaj zaraz, mię kto rozrucha.\n",
      "> 102 Te psy z domu Montekich rozruchać mię mogą bardzo łatwo.\n",
      "< 105 Te psy z domu Montekich rozruchać mię bardzo łatwo.\n",
      "> 112 Te psy z domu Montekich rozruchać mię mogą tylko do na miejscu. Będę jak mur dla każdego mężczyzny i każdej kobiety z tego domu.\n",
      "< 115 Te psy z Montekich rozruchać mię mogą tylko do stania na miejscu. Będę jak mur dla każdego mężczyzny i każdej kobiety z tego .\n",
      "> 117 To właśnie twoją słabą stronę; mur dla nikogo niestraszny i tylko słabi go się trzymają.\n",
      "< 120 To właśnie pokazuje twoją stronę; mur nikogo niestraszny i tylko słabi go się trzymają.\n",
      "> 127 Spór jest tylko między naszymi panami i między nami, ich ludźmi.\n",
      "< 130 Spór jest tylko między naszymi panami i między nami, ludźmi.\n",
      "> 132 Mniejsza mi o to, będę nieubłagany. Pobiwszy ludziwywrę wściekłość na kobietach: rzeź między nimi sprawię.\n",
      "< 135 Mniejsza mi o , będę nieubłagany. Pobiwszy ludzi, wywrę wściekłość na kobietach: rzeź między nimi sprawię.\n",
      "> 142 Nie inaczej: wtłoczę miecz w każdą po kolei. Wiadomo, że do lwów liczę.\n",
      "< 145 Nie inaczej: wtłoczę miecz w każdą po kolei. Wiadomo, że się do liczę\n",
      "> 152 SAMSON\n",
      "< 155 \n",
      "> 174 Miejmy prawo sobą, niech oni zaczną.\n",
      "< 177 Miejmy prawo za sobą, niech oni zaczną.\n",
      "> 179 Marsa przechodzącniech go sobie, jak chcą, tłumaczą.\n",
      "< 182 Marsa im nastawię przechodząc; niech go sobie, jak chcą, tłumaczą.\n",
      "> 184 Nie jak chcą, ale jak śmią. Ja im gębę wykrzywię; hańba im, jeśli to ścierpią.\n",
      "< 187 Nie jak chcą, ale jak śmią. Ja im wykrzywię; hańba im, jeśli to ścierpią.\n",
      "> 204 / do Grzegorza /\n",
      "< 207 / do /\n",
      "> 206 Będziemy–ż mieli prawo za sobą, jak powiem: jest?\n",
      "< 209 Będziemy–ż mieli prawo za sobą, jak : tak jest?\n",
      "> 257 Nie inaczej; lepszy.\n",
      "< 260 inaczej; lepszy.\n",
      "> 274 / Rozdziela ich mieczem. /\n",
      "< 277 / Rozdziela ich swoim . \n",
      "> 276 / Wchodzi Tybalt. /\n",
      "< 279 / Wchodzi Tybalt. \n",
      "> 287 Przywracam tylko pokójWłóż miecz nazad\n",
      "> 288 Albo wraz ze mną rozdziel nim tych ludzi.\n",
      "< 290 Przywracam tylko pokój. Włóż miecz nazad\n",
      "< 291 wraz ze mną rozdziel nim tych ludzi.\n",
      "> 294 Tego wyrazu, tak jak nienawidzę\n",
      "< 297 Tego wyrazu, tak nienawidzę\n",
      "> 298 / Walczą. Nadchodzi kilku przyjaciół obu partii i mieszają się do zwady; wkrótce potem wchodzą mieszczanie z pałkami. /\n",
      "< 301 / Walczą. Nadchodzi kilku przyjaciół obu partii i mieszają się do zwadywkrótce potem wchodzą mieszczanie z pałkami. /\n",
      "> 303 Hola! berdyszów! pałek! Dalej po nich!\n",
      "< 306 Hola! berdyszów! pałek! Dalej nich!\n",
      "> 307 \n",
      "> 309 KAPULET\n",
      "> 311 Co za hałas? Podajcie mi długi\n",
      "< 312 KAPULETCo za hałas? Podajcie mi długi\n",
      "> 315 PANI KAPULET\n",
      "< 316 PANI \n",
      "> 317 kulęco ci z miecza?\n",
      "< 318 Raczej kulę; co ci z miecza?\n",
      "> 322 Miecz, mówię! Stary Monteki nadchodzi.\n",
      "> 323 I szydnie swoją klingą mi urąga.\n",
      "< 323 , mówię! Stary Monteki nadchodzi\n",
      "< 324 I szydnie swoją klingą urąga.\n",
      "> 325 / Wchodzą Monteki i Pani Monteki/\n",
      "< 326 / Wchodzą Monteki i Pani Monteki. /\n",
      "> 339 Nie cię na krok, gdy wróg przed tobą\n",
      "< 340 Nie puszczę cię na krok, gdy wróg przed tobą.\n",
      "> 346 Zapamiętali niesforni poddani,\n",
      "> 347 Bezcześciciele bratniej stali! Cóż to,\n",
      "< 347 Zapamiętali niesforni poddani\n",
      "< 348 Bezcześciciele bratniej stali! Cóż to\n",
      "> 350 W własnych żył swoich źródle purpurowym;\n",
      "< 351 własnych żył swoich źródle purpurowym;\n",
      "> 356 Przez was, Monteki oraz Kapulecie,\n",
      "> 357 Trzykroć już spokój miasta zakłóciły,\n",
      "> 358 Tak że poważni wiekiem i zasługą\n",
      "< 357 Przez was, Monteki oraz Kapulecie,Trzykroć już spokój miasta zakłóciły,Tak że poważni wiekiem i zasługą\n",
      "> 360 Porzucić wygodne przybory\n",
      "< 359 Porzucić swoje wygodne przybory\n",
      "> 362 By zardzewiałym ostrzem zardzewiałe\n",
      "< 361 zardzewiałym ostrzem zardzewiałe\n",
      "> 372 Pod karą śmierci, aby się rozeszli\n",
      "< 371 Pod karą śmierci, aby się rozeszli.\n",
      "> 380 Był żeś tu wtedy, gdy się to zaczęło?\n",
      "< 379 żeś tu wtedy, gdy się to zaczęło?\n",
      "> 386 I wasi już się bili, kiedym nadszedł;Dobyłem broni, aby ich rozdzielić:\n",
      "> 387 Wtem wpadł Tybalt z gołym mieczem,\n",
      "> 388 I zionąc mi w uszy wyzwanie,\n",
      "> 389 Jął się wywijać nim i siec powietrze,\n",
      "> 390 Które świszczało tylko szydząc z marnych\n",
      "< 385 I wasi już się bili, kiedym nadszedł;\n",
      "< 386 Dobyłem broni, aby ich rozdzielić:\n",
      "< 387 Wtem wpadł szalony Tybalt z gołym mieczem,\n",
      "< 388 I harde zionąc mi w uszy wyzwanie,\n",
      "< 389 Jął się wywijać nim i siec powietrze,Które świszczało tylko szydząc z marnych\n",
      "> 392 Cięcia pchnięcia , zbiegł się\n",
      "< 391 Cięcia i pchnięcia zamieniali, zbiegł się\n",
      "> 408 W sykomorowy ów gaj, co się \n",
      "> 409 Ku południowi od naszego miasta.\n",
      "> 410 Tam, już tak ranosyn wasz przechadzał.\n",
      "> 411 go , pobiegłem ku niemu;\n",
      "< 407 W sykomorowy ów gaj, co się ciągnie\n",
      "< 408 Ku od naszego miasta.\n",
      "< 409 Tam, już tak rano, syn wasz się przechadzał.\n",
      "< 410 Ledwiem go ujrzał, pobiegłem ku niemu;\n",
      "> 415 Mierząc mym (serce bowiem\n",
      "< 414 Mierząc mym własnym (serce nasze bowiem\n",
      "> 426 A — swego oblicza chmurami,\n",
      "< 425 A chmury — swego oblicza chmurami,\n",
      "> 430 On, uciekając od widoku światła,\n",
      "< 429 On, uciekając widoku światła,\n",
      "> 434 W czarne bezdroża dusza zajdzie,\n",
      "< 433 W czarne bezdroża dusza jego zajdzie,\n",
      "> 445 Nie znam i z wydobyć nie mogę.\n",
      "< 444 Nie znam i z niego wydobyć nie mogę.\n",
      "> 455 Wybadywałem i sam, i przez drugich,\n",
      "> 456 Lecz on jedyny swych smutków.\n",
      "< 454 Wybadywałem i sam, i przez ,\n",
      "< 455 Lecz on jedyny powiernik swych smutków.\n",
      "> 459 Jak pączek kwiatu, co robak gryzie,\n",
      "< 458 Jak pączek kwiatu, co go robak gryzie,\n",
      "> 462 Gdybyśmy mogli dojść tych trosk zarodka,\n",
      "< 461 Gdybyśmy mogli dojść tych trosk zarodka\n",
      "> 471 Wyrwę mu piersi cierpienia tajone.\n",
      "< 470 Wyrwę mu z piersi cierpienia tajone.\n",
      "> 476 Obyś w tej sprawie, co nam serce rani,\n",
      "< 475 Obyś w tej , co nam serce rani,\n",
      "> 482 BENWOLIODzień dobry, bracie.\n",
      "< 481 BENWOLIO\n",
      "< 483 Dzień dobry, bracie.\n",
      "> 485 ROMEO\n",
      "> 487                         Jeszczeż nie ?\n",
      "< 486 ROMEO\n",
      "< 488                         Jeszcze–ż nie ?\n",
      "< 491 BENWOLIO\n",
      "> 493 \n",
      "> 495 ROMEO\n",
      "> 497                         Jak nudnie\n",
      "> 498 Wloką się chwile. –ż to rodzice\n",
      "> 499 spiesznie w tamtą zboczyli ulicę?\n",
      "< 496 ROMEOJak nudnie\n",
      "< 497 Wloką się chwile. Moi–ż to rodzice\n",
      "< 498 Tak spiesznie w tamtą zboczyli ulicę?\n",
      "> 504 Tak jest. Lecz cóż tak chwile twoje dłuży?\n",
      "< 503 Tak jest. Lecz cóż tak chwile twoje ?\n",
      "> 528 \n",
      "> 529 Brak jej tam, skąd bym pragnął wzajemności.\n",
      "< 528 Brak jej tam, bym pragnął wzajemności.\n",
      "> 532 BENWOLIO\n",
      "> 534 Niestety! Czemuż, zdając się ,\n",
      "< 531 BENWOLIONiestety! Czemuż, zdając się niebianką,\n",
      "> 544 grze tu nienawiść wielka, i miłość.\n",
      "< 541 W grze tu nienawiść wielka, lecz i miłość.\n",
      "> 546 Szorstka miłości! nienawiści tkliwa!\n",
      "> 547 narodzone z niczego! Pieszczoto\n",
      "> 548 ! Poważna pustoto!\n",
      "< 543 miłości! nienawiści tkliwa!\n",
      "< 544 Coś narodzone z niczego! Pieszczoto\n",
      "< 545 Odpychająca! Poważna pustoto!\n",
      "> 551 Śnie bez snu! Taką to w sobie zawiłość,\n",
      "< 548 Śnie bez ! Taką to w sobie zawiłość,\n",
      "> 563 Nad czympoczciwa duszo?\n",
      "< 560 Nad czym, poczciwa duszo?\n",
      "> 574                         A więc strzała\n",
      "> 575 Miłości nawet odbitkę działa?\n",
      "> 576 Dość mi już ciężył mój smutek, ty jego\n",
      "> 577 Brzemię powiększasz przewyżką twojego;\n",
      "< 571                         A strzała\n",
      "< 572 Miłości nawet przez odbitkę działa?\n",
      "< 573 Dość mi już ciężył mój smutek, jego\n",
      "< 574 Brzemię przewyżką twojego;\n",
      "> 579 Nie ulgą, ale nowym jest kamieniem\n",
      "< 576 Nie ulgąnowym jest kamieniem\n",
      "> 583 Morze łez, w którym nieszczęśliwy tonie.\n",
      "> 584 Czymże jest więcej? Istnym amalgamem,\n",
      "< 580 Morze łezw którym nieszczęśliwy tonie.\n",
      "< 581 jest więcej? Istnym amalgamem,\n",
      "> 593                         Zaczekaj! krzywdę byś mi sprawił,Gdybyś mą przyjaźń z kwitkiem tak zostawił.\n",
      "< 590                         Zaczekajkrzywdę byś mi sprawił,\n",
      "< 591 Gdybyś mą przyjaźń z kwitkiem tak zostawił.\n",
      "> 598 Ach! ja nie jestem tu, nie jestem sobą;\n",
      "> 599 To nie Romeo, co rozmawia z tobą.\n",
      "< 596 Ach! ja nie jestem tu, jestem sobą;\n",
      "< 597 To nie Romeo, co rozmawia z .\n",
      "> 604 Kogóż to kochasz? mów!\n",
      "< 602 to kochasz? mów\n",
      "> 617 Kogóż to kochaszPowiedz\n",
      "< 615 Kogóż to kochasz? Powiedz.\n"
     ]
    },
    {
     "name": "stdout",
     "output_type": "stream",
     "text": [
      "> 623 testament: będzież to wezwanieDobre dla tego, kto jest tak złym stanie?\n",
      "< 621 Pisać testament: będzie–ż to wezwanie\n",
      "< 622 Dobre dla tego, kto jest w tak złym stanie?\n",
      "> 635 Biegle celujesz. I ta, którą kocham,Jest piękna.\n",
      "< 634 Biegle celujesz. I ta, którą kocham,\n",
      "< 635 Jest piękna.\n",
      "> 638 BENWOLIOW piękny trafić najłatwiej.\n",
      "< 638 BENWOLIO\n",
      "< 639 \n",
      "< 640                         W piękny cel trafić najłatwiej.\n",
      "> 643 A właśnieś chybił. Niczym tu kołczany\n",
      "< 645 A właśnieś chybiłNiczym tu kołczany\n",
      "> 648 Odpiera szturmy spojrzeń ;\n",
      "< 650 Odpiera szturmy spojrzeń napastniczych;\n",
      "> 651 Że kiedy umrze, do grobu z nią zstąpi\n",
      "> 652 Całe bogactwo, którego tak skąpi.\n",
      "< 653 Że kiedy umrze, do z nią zstąpi\n",
      "< 654 Całe bogactwo, którego tak .\n",
      "> 657 Wiecznie–ż chce sama zostać z swym bogactwem?ROMEO\n",
      "< 659 Wiecznie–ż chce sama zostać z swym bogactwem?\n",
      "> 659 Tak jest; i skąpstwo to jest ,\n",
      "> 660 Bo piękność, którą własna srogość \n",
      "> 661 Całą potomność piękności pozbawia\n",
      "> 662 Zbyt ona piękna, zbyt mądra zarazem;\n",
      "> 663 Zbyt mądrze piękna: stąd istnym jest głazem\n",
      "< 661 \n",
      "< 662 ROMEO\n",
      "< 663 \n",
      "< 664 Tak jest; i skąpstwo to jest marnotrawstwem,\n",
      "< 665 Bo piękność, którą własna srogość strawia,\n",
      "< 666 Całą potomność pozbawia.\n",
      "< 667 Zbyt ona piękna, mądra zarazem;\n",
      "< 668 Zbyt mądrze : stąd istnym jest głazem.\n",
      "> 665 Temu skazanym wieczne cierpieć męki.\n",
      "< 670 Temu skazanym - wieczne cierpieć męki.\n",
      "> 675 Doradź–że także, jakim bym sposobem\n",
      "< 680 Doradź–że , jakim bym sposobem\n",
      "> 682 Rozpatrywania w innych pięknościach.\n",
      "< 687 Rozpatrywania się w innych pięknościach.\n"
     ]
    }
   ],
   "source": [
    "result = diff(\"v1.txt\", \"v2.txt\")\n",
    "for line in result:\n",
    "    print(line[0], line[1], line[2])"
   ]
  }
 ],
 "metadata": {
  "kernelspec": {
   "display_name": "Python 3 (ipykernel)",
   "language": "python",
   "name": "python3"
  },
  "language_info": {
   "codemirror_mode": {
    "name": "ipython",
    "version": 3
   },
   "file_extension": ".py",
   "mimetype": "text/x-python",
   "name": "python",
   "nbconvert_exporter": "python",
   "pygments_lexer": "ipython3",
   "version": "3.9.12"
  }
 },
 "nbformat": 4,
 "nbformat_minor": 5
}
