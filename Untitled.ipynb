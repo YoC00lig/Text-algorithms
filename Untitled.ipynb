{
 "cells": [
  {
   "cell_type": "markdown",
   "id": "f869faf6",
   "metadata": {},
   "source": [
    "# Algorytmy tekstowe - laboratorium 1"
   ]
  },
  {
   "cell_type": "markdown",
   "id": "ffc69bab",
   "metadata": {},
   "source": [
    "# Zaimplementuj w Pythonie algorytmy wyszukiwania wzorców:\n",
    "<ul>\n",
    "    <li>naiwny</li>\n",
    "    <li>automat skończony </li>\n",
    "    <li>algorytm KMP </li>\n",
    "</ul>"
   ]
  },
  {
   "cell_type": "markdown",
   "id": "db24a1be",
   "metadata": {},
   "source": [
    "Algorytm naiwny:"
   ]
  },
  {
   "cell_type": "code",
   "execution_count": 1,
   "id": "36e253f9",
   "metadata": {},
   "outputs": [],
   "source": [
    "def naive(text, pattern): # O(nm - m^2 + m)\n",
    "    result = []\n",
    "    for s in range(len(text)-len(pattern)+1):\n",
    "        if text[s:s+len(pattern)] == pattern:\n",
    "            result.append(s)\n",
    "    return result"
   ]
  },
  {
   "cell_type": "markdown",
   "id": "73c1345c",
   "metadata": {},
   "source": [
    "Automat skończony:"
   ]
  },
  {
   "cell_type": "code",
   "execution_count": 2,
   "id": "b07d3788",
   "metadata": {},
   "outputs": [],
   "source": [
    "def transition(pattern):\n",
    "    letters = set(pattern)\n",
    "    result = []\n",
    "    for q in range(0, len(pattern) + 1):\n",
    "        result.append({})\n",
    "        for letter in letters:\n",
    "            k = min(len(pattern)+1, q+2)\n",
    "            while True:\n",
    "                k -= 1\n",
    "                if k == 0 or pattern[:k] == (pattern[:q] + letter)[-k:]:\n",
    "                    break\n",
    "            result[q][letter] = k\n",
    "\n",
    "    return result\n",
    "\n",
    "def fa_matching(text, pattern):\n",
    "    q = 0\n",
    "    delta = transition(pattern)\n",
    "    length = len(delta) - 1\n",
    "    result = []\n",
    "\n",
    "    for i in range(0, len(text)):\n",
    "        if text[i] in delta[q]:\n",
    "            q = delta[q][text[i]]\n",
    "            if (q == length):\n",
    "                result.append(i+1-q)\n",
    "            \n",
    "    return result"
   ]
  },
  {
   "cell_type": "markdown",
   "id": "c7020782",
   "metadata": {},
   "source": [
    "Algorytm Knutha-Morrisa-Pratta:"
   ]
  },
  {
   "cell_type": "code",
   "execution_count": 3,
   "id": "2e8d3c0f",
   "metadata": {},
   "outputs": [],
   "source": [
    "def prefix_function(pattern):\n",
    "    pi = [0]\n",
    "    k = 0\n",
    "    for q in range(1,len(pattern)):\n",
    "        while k > 0 and pattern[k] != pattern[q]:\n",
    "            k = pi[k-1]\n",
    "        if pattern[k] == pattern[q]:\n",
    "            k += 1\n",
    "        pi.append(k)\n",
    "    return pi\n",
    "\n",
    "def KMP(text, pattern):\n",
    "    pi = prefix_function(pattern)\n",
    "    q = 0\n",
    "    result = []\n",
    "    \n",
    "    for i in range(0, len(text)):\n",
    "        while q > 0 and pattern[q] != text[i]:\n",
    "            q = pi[q-1]\n",
    "        if pattern[q] == text[i]:\n",
    "            q += 1\n",
    "        if q == len(pattern):\n",
    "            q = pi[q-1]\n",
    "            result.append(i+1-q)\n",
    "    return result\n",
    "    "
   ]
  },
  {
   "cell_type": "markdown",
   "id": "3727ff77",
   "metadata": {},
   "source": [
    "# Zaimplementuj testy porównujące szybkość działania wyżej wymienionych algorytmów, z rozbiciem na czas pre-processingu oraz czas wyszukiwania wzorca w tekście"
   ]
  },
  {
   "cell_type": "code",
   "execution_count": 4,
   "id": "f7888c3d",
   "metadata": {},
   "outputs": [],
   "source": [
    "import time\n",
    "\n",
    "def check_time(function_id, text, pattern):\n",
    "    preprocessing_time, function_time = 0, 0\n",
    "    \n",
    "    if function_id == \"Algorytm naiwny\":\n",
    "        start_preprocessing = time.time()\n",
    "        end_preprocessing = time.time()\n",
    "\n",
    "        start_function = time.time()\n",
    "        naive(text, pattern)\n",
    "        end_function = time.time()\n",
    "    \n",
    "    elif function_id == \"Automat skończony\":\n",
    "        start_preprocessing = time.time()\n",
    "        transition(pattern)\n",
    "        end_preprocessing = time.time()\n",
    "\n",
    "        start_function = time.time()\n",
    "        fa_matching(text, pattern)\n",
    "        end_function = time.time()\n",
    "    \n",
    "    else:\n",
    "        start_preprocessing = time.time()\n",
    "        prefix_function(pattern)\n",
    "        end_preprocessing = time.time()\n",
    "\n",
    "        start_function = time.time()\n",
    "        KMP(text, pattern)\n",
    "        end_function = time.time()\n",
    "        \n",
    "    preprocessing_time = end_preprocessing - start_preprocessing\n",
    "    function_time = end_function - start_function\n",
    "    \n",
    "    print(\"\\nFunkcja: \" + function_id)\n",
    "    print(f\"Czas preprocessingu: {preprocessing_time}\")\n",
    "    print(f\"Czas wyszukiwania wzorca: {function_time}\")       "
   ]
  },
  {
   "cell_type": "markdown",
   "id": "98a159e0",
   "metadata": {},
   "source": [
    "testy:"
   ]
  },
  {
   "cell_type": "code",
   "execution_count": 5,
   "id": "f5ecc83d",
   "metadata": {},
   "outputs": [
    {
     "name": "stdout",
     "output_type": "stream",
     "text": [
      "\n",
      "Funkcja: Algorytm naiwny\n",
      "Czas preprocessingu: 0.0\n",
      "Czas wyszukiwania wzorca: 1.2874603271484375e-05\n",
      "\n",
      "Funkcja: Automat skończony\n",
      "Czas preprocessingu: 0.0001728534698486328\n",
      "Czas wyszukiwania wzorca: 0.00013113021850585938\n",
      "\n",
      "Funkcja: Algorytm Knutha-Morrisa-Pratta\n",
      "Czas preprocessingu: 5.0067901611328125e-06\n",
      "Czas wyszukiwania wzorca: 1.430511474609375e-05\n"
     ]
    }
   ],
   "source": [
    "text = \"abcdefghijklmnopqrstuvwxyz\"\n",
    "pattern = \"lmnopq\"\n",
    "\n",
    "check_time(\"Algorytm naiwny\", text, pattern)\n",
    "check_time(\"Automat skończony\", text, pattern)\n",
    "check_time(\"Algorytm Knutha-Morrisa-Pratta\", text, pattern)"
   ]
  },
  {
   "cell_type": "markdown",
   "id": "b89e8a4a",
   "metadata": {},
   "source": [
    "# Znajdź wszystkie wystąpienia wzorców \"pan\" oraz \"pani\" w załączonym pliku, za pomocą każdego algorytmu. W raporcie zamieść liczbę dopasowań każdego ze wzorców osobno dla każdego algorytmu. Upewnij się, że każdy algorytm zwraca taką samą liczbę dopasowań"
   ]
  },
  {
   "cell_type": "code",
   "execution_count": 12,
   "id": "d9055852",
   "metadata": {},
   "outputs": [],
   "source": [
    "def find_pattern(file, pattern):\n",
    "    result1, result2, result3 = None, None, None\n",
    "    \n",
    "    with open(file, \"r\") as file:\n",
    "        \n",
    "        text = file.read()\n",
    "        \n",
    "        result1 = naive(text,pattern)\n",
    "        print(f\"Algorytm naiwny - liczba dopasowań: {len(result1)}\")\n",
    "        result2 = fa_matching(text, pattern)\n",
    "        print(f\"Automat skończony - liczba dopasowań: {len(result2)}\")\n",
    "        result3 = KMP(text, pattern)\n",
    "        print(f\"Algorytm Knutha-Morrisa-Pratta - liczba dopasowań: {len(result3)}\")\n",
    "        \n",
    "    if len(result1) == len(result2) and len(result2) == len(result3):\n",
    "        print(f\"\\nWszystkie algorytmy zwróciły taką samą liczbę dopasowań: {len(result1)}\")\n",
    "    else:\n",
    "        print(\"Algorytmy zwróciły inną liczbę dopasowań.\")\n",
    "        "
   ]
  },
  {
   "cell_type": "code",
   "execution_count": 15,
   "id": "5991c269",
   "metadata": {},
   "outputs": [
    {
     "name": "stdout",
     "output_type": "stream",
     "text": [
      "----------Wzorzec 'pan'----------\n",
      "Algorytm naiwny - liczba dopasowań: 401\n",
      "Automat skończony - liczba dopasowań: 1900\n",
      "Algorytm Knutha-Morrisa-Pratta - liczba dopasowań: 401\n",
      "Algorytmy zwróciły inną liczbę dopasowań.\n",
      "\n",
      "----------Wzorzec 'pani'----------\n",
      "Algorytm naiwny - liczba dopasowań: 100\n",
      "Automat skończony - liczba dopasowań: 538\n",
      "Algorytm Knutha-Morrisa-Pratta - liczba dopasowań: 100\n",
      "Algorytmy zwróciły inną liczbę dopasowań.\n"
     ]
    }
   ],
   "source": [
    "print(\"----------Wzorzec 'pan'----------\")\n",
    "find_pattern(\"pan-tadeusz.txt\", \"pan\")\n",
    "print(\"\\n----------Wzorzec 'pani'----------\")\n",
    "find_pattern(\"pan-tadeusz.txt\", \"pani\")"
   ]
  },
  {
   "cell_type": "code",
   "execution_count": null,
   "id": "eddf8fc8",
   "metadata": {},
   "outputs": [],
   "source": []
  }
 ],
 "metadata": {
  "kernelspec": {
   "display_name": "Python 3 (ipykernel)",
   "language": "python",
   "name": "python3"
  },
  "language_info": {
   "codemirror_mode": {
    "name": "ipython",
    "version": 3
   },
   "file_extension": ".py",
   "mimetype": "text/x-python",
   "name": "python",
   "nbconvert_exporter": "python",
   "pygments_lexer": "ipython3",
   "version": "3.9.12"
  }
 },
 "nbformat": 4,
 "nbformat_minor": 5
}
