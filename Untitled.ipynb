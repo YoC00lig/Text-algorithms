{
 "cells": [
  {
   "cell_type": "markdown",
   "id": "f869faf6",
   "metadata": {},
   "source": [
    "# Algorytmy tekstowe - laboratorium 1"
   ]
  },
  {
   "cell_type": "markdown",
   "id": "ffc69bab",
   "metadata": {},
   "source": [
    "# 1. Zaimplementuj w Pythonie algorytmy wyszukiwania wzorców:\n",
    "<ul>\n",
    "    <li>naiwny</li>\n",
    "    <li>automat skończony </li>\n",
    "    <li>algorytm KMP </li>\n",
    "</ul>"
   ]
  },
  {
   "cell_type": "markdown",
   "id": "db24a1be",
   "metadata": {},
   "source": [
    "# Algorytm naiwny:"
   ]
  },
  {
   "cell_type": "code",
   "execution_count": 18,
   "id": "36e253f9",
   "metadata": {},
   "outputs": [],
   "source": [
    "def naive(text, pattern): # O(nm - m^2 + m)\n",
    "    result = []\n",
    "    for s in range(len(text)-len(pattern)+1):\n",
    "        if text[s:s+len(pattern)] == pattern:\n",
    "            result.append(s)\n",
    "    return result"
   ]
  },
  {
   "cell_type": "markdown",
   "id": "73c1345c",
   "metadata": {},
   "source": [
    "# Automat skończony:"
   ]
  },
  {
   "cell_type": "markdown",
   "id": "b2e5aa6d",
   "metadata": {},
   "source": [
    "preprocessing"
   ]
  },
  {
   "cell_type": "code",
   "execution_count": 19,
   "id": "b07d3788",
   "metadata": {},
   "outputs": [],
   "source": [
    "def transition(pattern):\n",
    "    letters = set(pattern)\n",
    "    result = []\n",
    "    for q in range(0, len(pattern) + 1):\n",
    "        result.append({})\n",
    "        for letter in letters:\n",
    "            k = min(len(pattern)+1, q+2)\n",
    "            while True:\n",
    "                k -= 1\n",
    "                if k == 0 or pattern[:k] == (pattern[:q] + letter)[-k:]:\n",
    "                    break\n",
    "            result[q][letter] = k\n",
    "\n",
    "    return result"
   ]
  },
  {
   "cell_type": "markdown",
   "id": "53cceaff",
   "metadata": {},
   "source": [
    "bez preprocessingu:"
   ]
  },
  {
   "cell_type": "code",
   "execution_count": 20,
   "id": "988cfb2f",
   "metadata": {},
   "outputs": [],
   "source": [
    "def fa_matching_without_preprocessing(text, pattern, delta):\n",
    "    q = 0\n",
    "    delta = transition(pattern)\n",
    "    length = len(delta) - 1\n",
    "    result = []\n",
    "\n",
    "    for i in range(0, len(text)):\n",
    "        if text[i] in delta[q]:\n",
    "            q = delta[q][text[i]]\n",
    "            if (q == length):\n",
    "                result.append(i+1-q)\n",
    "        else:\n",
    "            q = 0\n",
    "            \n",
    "    return result"
   ]
  },
  {
   "cell_type": "markdown",
   "id": "fb2cd0b3",
   "metadata": {},
   "source": [
    "z preprocessingiem:"
   ]
  },
  {
   "cell_type": "code",
   "execution_count": 21,
   "id": "a6bcced3",
   "metadata": {},
   "outputs": [],
   "source": [
    "def fa_matching(text, pattern):\n",
    "    q = 0\n",
    "    delta = transition(pattern)\n",
    "    length = len(delta) - 1\n",
    "    result = []\n",
    "\n",
    "    for i in range(0, len(text)):\n",
    "        if text[i] in delta[q]:\n",
    "            q = delta[q][text[i]]\n",
    "            if (q == length):\n",
    "                result.append(i+1-q)\n",
    "        else:\n",
    "            q = 0\n",
    "            \n",
    "    return result"
   ]
  },
  {
   "cell_type": "markdown",
   "id": "c7020782",
   "metadata": {},
   "source": [
    "# Algorytm Knutha-Morrisa-Pratta:"
   ]
  },
  {
   "cell_type": "markdown",
   "id": "7ed52837",
   "metadata": {},
   "source": [
    "preprocessing:"
   ]
  },
  {
   "cell_type": "code",
   "execution_count": 15,
   "id": "2e8d3c0f",
   "metadata": {},
   "outputs": [],
   "source": [
    "def prefix_function(pattern):\n",
    "    pi = [0]\n",
    "    k = 0\n",
    "    for q in range(1,len(pattern)):\n",
    "        while k > 0 and pattern[k] != pattern[q]:\n",
    "            k = pi[k-1]\n",
    "        if pattern[k] == pattern[q]:\n",
    "            k += 1\n",
    "        pi.append(k)\n",
    "    return pi\n",
    "    "
   ]
  },
  {
   "cell_type": "markdown",
   "id": "e892b72e",
   "metadata": {},
   "source": [
    "bez preprocessingu:"
   ]
  },
  {
   "cell_type": "code",
   "execution_count": 22,
   "id": "acd251b3",
   "metadata": {},
   "outputs": [],
   "source": [
    "def KMP_without_preprocessing(text, pattern, pi):\n",
    "    q = 0\n",
    "    result = []\n",
    "    \n",
    "    for i in range(0, len(text)):\n",
    "        while q > 0 and pattern[q] != text[i]:\n",
    "            q = pi[q-1]\n",
    "        if pattern[q] == text[i]:\n",
    "            q += 1\n",
    "        if q == len(pattern):\n",
    "            q = pi[q-1]\n",
    "            result.append(i+1-q)\n",
    "    return result"
   ]
  },
  {
   "cell_type": "markdown",
   "id": "80624458",
   "metadata": {},
   "source": [
    "z preprocessingiem:"
   ]
  },
  {
   "cell_type": "code",
   "execution_count": 23,
   "id": "62cd5eff",
   "metadata": {},
   "outputs": [],
   "source": [
    "def KMP(text, pattern):\n",
    "    pi = prefix_function(pattern)\n",
    "    q = 0\n",
    "    result = []\n",
    "    \n",
    "    for i in range(0, len(text)):\n",
    "        while q > 0 and pattern[q] != text[i]:\n",
    "            q = pi[q-1]\n",
    "        if pattern[q] == text[i]:\n",
    "            q += 1\n",
    "        if q == len(pattern):\n",
    "            q = pi[q-1]\n",
    "            result.append(i+1-q)\n",
    "    return result"
   ]
  },
  {
   "cell_type": "markdown",
   "id": "3727ff77",
   "metadata": {},
   "source": [
    "# 2. Zaimplementuj testy porównujące szybkość działania wyżej wymienionych algorytmów, z rozbiciem na czas pre-processingu oraz czas wyszukiwania wzorca w tekście"
   ]
  },
  {
   "cell_type": "code",
   "execution_count": 32,
   "id": "f7888c3d",
   "metadata": {},
   "outputs": [],
   "source": [
    "import time\n",
    "\n",
    "def check_time(algorithm, algorith_without_preprocessing ,text, pattern, flag, function_id):\n",
    "    preprocessing_time, function_time = 0, 0\n",
    " \n",
    "    if function_id != \"Algorytm naiwny\":\n",
    "        start_preprocessing = time.time()\n",
    "        data = algorithm(pattern)\n",
    "        end_preprocessing = time.time()\n",
    "    \n",
    "        start_function = time.time()\n",
    "        algorith_without_preprocessing(text, pattern, data)\n",
    "        end_function = time.time()\n",
    "    else:\n",
    "        start_preprocessing = time.time()\n",
    "        result = []\n",
    "        end_preprocessing = time.time()\n",
    "        \n",
    "        start_function = time.time()\n",
    "        algorith_without_preprocessing(text, pattern)\n",
    "        end_function = time.time()\n",
    "        \n",
    "    preprocessing_time = end_preprocessing - start_preprocessing\n",
    "    function_time = end_function - start_function\n",
    "    \n",
    "    if flag:\n",
    "        print(\"\\nFunkcja: \" + function_id)\n",
    "        print(f\"Czas preprocessingu: {preprocessing_time}\")\n",
    "        print(f\"Czas wyszukiwania wzorca: {function_time}\")  \n",
    "    else:\n",
    "        return preprocessing_time, function_time"
   ]
  },
  {
   "cell_type": "markdown",
   "id": "98a159e0",
   "metadata": {},
   "source": [
    "testy:"
   ]
  },
  {
   "cell_type": "code",
   "execution_count": 33,
   "id": "f5ecc83d",
   "metadata": {},
   "outputs": [
    {
     "name": "stdout",
     "output_type": "stream",
     "text": [
      "\n",
      "Funkcja: Algorytm naiwny\n",
      "Czas preprocessingu: 0.0\n",
      "Czas wyszukiwania wzorca: 0.941626787185669\n",
      "\n",
      "Funkcja: Automat skończony\n",
      "Czas preprocessingu: 0.663701057434082\n",
      "Czas wyszukiwania wzorca: 1.0681891441345215\n",
      "\n",
      "Funkcja: Algorytm Knutha-Morrisa-Pratta\n",
      "Czas preprocessingu: 0.0002961158752441406\n",
      "Czas wyszukiwania wzorca: 0.777756929397583\n"
     ]
    }
   ],
   "source": [
    "text =  \"ABABDABACDABABCABABE\" * 100000\n",
    "pattern = \"ABABCABAB\" * 100\n",
    "\n",
    "check_time(naive, naive, text, pattern, True, \"Algorytm naiwny\")\n",
    "check_time(transition, fa_matching_without_preprocessing, text, pattern, True, \"Automat skończony\")\n",
    "check_time(prefix_function, KMP_without_preprocessing, text, pattern, True, \"Algorytm Knutha-Morrisa-Pratta\")"
   ]
  },
  {
   "cell_type": "markdown",
   "id": "b89e8a4a",
   "metadata": {},
   "source": [
    "# 3. Znajdź wszystkie wystąpienia wzorców \"pan\" oraz \"pani\" w załączonym pliku, za pomocą każdego algorytmu. W raporcie zamieść liczbę dopasowań każdego ze wzorców osobno dla każdego algorytmu. Upewnij się, że każdy algorytm zwraca taką samą liczbę dopasowań"
   ]
  },
  {
   "cell_type": "code",
   "execution_count": 34,
   "id": "d9055852",
   "metadata": {},
   "outputs": [],
   "source": [
    "def find_pattern(file, pattern):\n",
    "    result1, result2, result3 = None, None, None\n",
    "    \n",
    "    with open(file, \"r\") as file:\n",
    "        \n",
    "        text = file.read()\n",
    "        \n",
    "        result1 = naive(text,pattern)\n",
    "        print(f\"Algorytm naiwny - liczba dopasowań: {len(result1)}\")\n",
    "        result2 = fa_matching(text, pattern)\n",
    "        print(f\"Automat skończony - liczba dopasowań: {len(result2)}\")\n",
    "        result3 = KMP(text, pattern)\n",
    "        print(f\"Algorytm Knutha-Morrisa-Pratta - liczba dopasowań: {len(result3)}\")\n",
    "        \n",
    "    if len(result1) == len(result2) and len(result2) == len(result3):\n",
    "        print(f\"\\nWszystkie algorytmy zwróciły taką samą liczbę dopasowań: {len(result1)}\")\n",
    "    else:\n",
    "        print(\"Liczba dopasowań jest różna dla algorytmów.\")\n",
    "        "
   ]
  },
  {
   "cell_type": "code",
   "execution_count": 35,
   "id": "5991c269",
   "metadata": {},
   "outputs": [
    {
     "name": "stdout",
     "output_type": "stream",
     "text": [
      "---------- Wzorzec 'pan' ----------\n",
      "Algorytm naiwny - liczba dopasowań: 401\n",
      "Automat skończony - liczba dopasowań: 401\n",
      "Algorytm Knutha-Morrisa-Pratta - liczba dopasowań: 401\n",
      "\n",
      "Wszystkie algorytmy zwróciły taką samą liczbę dopasowań: 401\n",
      "\n",
      "---------- Wzorzec 'pani' ----------\n",
      "Algorytm naiwny - liczba dopasowań: 100\n",
      "Automat skończony - liczba dopasowań: 100\n",
      "Algorytm Knutha-Morrisa-Pratta - liczba dopasowań: 100\n",
      "\n",
      "Wszystkie algorytmy zwróciły taką samą liczbę dopasowań: 100\n"
     ]
    }
   ],
   "source": [
    "print(\"---------- Wzorzec 'pan' ----------\")\n",
    "find_pattern(\"pan-tadeusz.txt\", \"pan\")\n",
    "print(\"\\n---------- Wzorzec 'pani' ----------\")\n",
    "find_pattern(\"pan-tadeusz.txt\", \"pani\")"
   ]
  },
  {
   "cell_type": "markdown",
   "id": "7000dbf5",
   "metadata": {},
   "source": [
    "# 4. Porównaj szybkość działania algorytmów dla problemu z p. 3, z uwzględnieniem czasu pre-processingu oraz czasu dopasowania. Pomiar czasu powinien być przeprowadzony co najmniej 5-krotnie i przedstawione w formie tabeli oraz wykresu, uwzględniającego czas minimalny, maksymalny oraz średni czas "
   ]
  },
  {
   "cell_type": "code",
   "execution_count": 39,
   "id": "c5b8efad",
   "metadata": {},
   "outputs": [
    {
     "data": {
      "text/html": [
       "<div>\n",
       "<style scoped>\n",
       "    .dataframe tbody tr th:only-of-type {\n",
       "        vertical-align: middle;\n",
       "    }\n",
       "\n",
       "    .dataframe tbody tr th {\n",
       "        vertical-align: top;\n",
       "    }\n",
       "\n",
       "    .dataframe thead th {\n",
       "        text-align: right;\n",
       "    }\n",
       "</style>\n",
       "<table border=\"1\" class=\"dataframe\">\n",
       "  <thead>\n",
       "    <tr style=\"text-align: right;\">\n",
       "      <th></th>\n",
       "      <th>Algorytm</th>\n",
       "      <th>Czas preprocessingu</th>\n",
       "      <th>Czas wyszukiwania wzorca</th>\n",
       "      <th>Czas rzeczywisty</th>\n",
       "    </tr>\n",
       "  </thead>\n",
       "  <tbody>\n",
       "    <tr>\n",
       "      <th>0</th>\n",
       "      <td>Algorytm naiwny</td>\n",
       "      <td>7.152557e-07</td>\n",
       "      <td>1.037929</td>\n",
       "      <td>1.037930</td>\n",
       "    </tr>\n",
       "    <tr>\n",
       "      <th>1</th>\n",
       "      <td>Algorytm naiwny</td>\n",
       "      <td>1.192093e-06</td>\n",
       "      <td>1.036297</td>\n",
       "      <td>1.036298</td>\n",
       "    </tr>\n",
       "    <tr>\n",
       "      <th>2</th>\n",
       "      <td>Algorytm naiwny</td>\n",
       "      <td>9.536743e-07</td>\n",
       "      <td>1.045097</td>\n",
       "      <td>1.045098</td>\n",
       "    </tr>\n",
       "    <tr>\n",
       "      <th>3</th>\n",
       "      <td>Algorytm naiwny</td>\n",
       "      <td>0.000000e+00</td>\n",
       "      <td>1.048883</td>\n",
       "      <td>1.048883</td>\n",
       "    </tr>\n",
       "    <tr>\n",
       "      <th>4</th>\n",
       "      <td>Algorytm naiwny</td>\n",
       "      <td>0.000000e+00</td>\n",
       "      <td>1.046993</td>\n",
       "      <td>1.046993</td>\n",
       "    </tr>\n",
       "    <tr>\n",
       "      <th>5</th>\n",
       "      <td>Automat skończony</td>\n",
       "      <td>8.177757e-05</td>\n",
       "      <td>0.495926</td>\n",
       "      <td>0.496007</td>\n",
       "    </tr>\n",
       "    <tr>\n",
       "      <th>6</th>\n",
       "      <td>Automat skończony</td>\n",
       "      <td>8.821487e-05</td>\n",
       "      <td>0.493181</td>\n",
       "      <td>0.493269</td>\n",
       "    </tr>\n",
       "    <tr>\n",
       "      <th>7</th>\n",
       "      <td>Automat skończony</td>\n",
       "      <td>8.630753e-05</td>\n",
       "      <td>0.491525</td>\n",
       "      <td>0.491611</td>\n",
       "    </tr>\n",
       "    <tr>\n",
       "      <th>8</th>\n",
       "      <td>Automat skończony</td>\n",
       "      <td>9.107590e-05</td>\n",
       "      <td>0.493458</td>\n",
       "      <td>0.493549</td>\n",
       "    </tr>\n",
       "    <tr>\n",
       "      <th>9</th>\n",
       "      <td>Automat skończony</td>\n",
       "      <td>8.797646e-05</td>\n",
       "      <td>0.492349</td>\n",
       "      <td>0.492437</td>\n",
       "    </tr>\n",
       "    <tr>\n",
       "      <th>10</th>\n",
       "      <td>Algorytm Knutha-Morrisa-Pratta</td>\n",
       "      <td>1.192093e-05</td>\n",
       "      <td>0.846629</td>\n",
       "      <td>0.846641</td>\n",
       "    </tr>\n",
       "    <tr>\n",
       "      <th>11</th>\n",
       "      <td>Algorytm Knutha-Morrisa-Pratta</td>\n",
       "      <td>1.478195e-05</td>\n",
       "      <td>0.852328</td>\n",
       "      <td>0.852343</td>\n",
       "    </tr>\n",
       "    <tr>\n",
       "      <th>12</th>\n",
       "      <td>Algorytm Knutha-Morrisa-Pratta</td>\n",
       "      <td>1.239777e-05</td>\n",
       "      <td>0.852646</td>\n",
       "      <td>0.852659</td>\n",
       "    </tr>\n",
       "    <tr>\n",
       "      <th>13</th>\n",
       "      <td>Algorytm Knutha-Morrisa-Pratta</td>\n",
       "      <td>1.287460e-05</td>\n",
       "      <td>0.852082</td>\n",
       "      <td>0.852095</td>\n",
       "    </tr>\n",
       "    <tr>\n",
       "      <th>14</th>\n",
       "      <td>Algorytm Knutha-Morrisa-Pratta</td>\n",
       "      <td>1.382828e-05</td>\n",
       "      <td>0.852559</td>\n",
       "      <td>0.852573</td>\n",
       "    </tr>\n",
       "  </tbody>\n",
       "</table>\n",
       "</div>"
      ],
      "text/plain": [
       "                          Algorytm  Czas preprocessingu  \\\n",
       "0                  Algorytm naiwny         7.152557e-07   \n",
       "1                  Algorytm naiwny         1.192093e-06   \n",
       "2                  Algorytm naiwny         9.536743e-07   \n",
       "3                  Algorytm naiwny         0.000000e+00   \n",
       "4                  Algorytm naiwny         0.000000e+00   \n",
       "5                Automat skończony         8.177757e-05   \n",
       "6                Automat skończony         8.821487e-05   \n",
       "7                Automat skończony         8.630753e-05   \n",
       "8                Automat skończony         9.107590e-05   \n",
       "9                Automat skończony         8.797646e-05   \n",
       "10  Algorytm Knutha-Morrisa-Pratta         1.192093e-05   \n",
       "11  Algorytm Knutha-Morrisa-Pratta         1.478195e-05   \n",
       "12  Algorytm Knutha-Morrisa-Pratta         1.239777e-05   \n",
       "13  Algorytm Knutha-Morrisa-Pratta         1.287460e-05   \n",
       "14  Algorytm Knutha-Morrisa-Pratta         1.382828e-05   \n",
       "\n",
       "    Czas wyszukiwania wzorca  Czas rzeczywisty  \n",
       "0                   1.037929          1.037930  \n",
       "1                   1.036297          1.036298  \n",
       "2                   1.045097          1.045098  \n",
       "3                   1.048883          1.048883  \n",
       "4                   1.046993          1.046993  \n",
       "5                   0.495926          0.496007  \n",
       "6                   0.493181          0.493269  \n",
       "7                   0.491525          0.491611  \n",
       "8                   0.493458          0.493549  \n",
       "9                   0.492349          0.492437  \n",
       "10                  0.846629          0.846641  \n",
       "11                  0.852328          0.852343  \n",
       "12                  0.852646          0.852659  \n",
       "13                  0.852082          0.852095  \n",
       "14                  0.852559          0.852573  "
      ]
     },
     "execution_count": 39,
     "metadata": {},
     "output_type": "execute_result"
    }
   ],
   "source": [
    "import pandas as pd\n",
    "\n",
    "df = pd.DataFrame()\n",
    "preprocessing_tab, function, algo_type, total = [], [], [], []\n",
    "\n",
    "\n",
    "for algorithm, preprocessing, function_id in [(naive, naive, \"Algorytm naiwny\"), (fa_matching_without_preprocessing, transition, \"Automat skończony\"), (KMP_without_preprocessing, prefix_function, \"Algorytm Knutha-Morrisa-Pratta\")]:\n",
    "    for _ in range(5):\n",
    "            \n",
    "        preprocessing_time1, function_time1 = check_time(preprocessing,algorithm, text, \"pan\", False, function_id)\n",
    "        preprocessing_time2, function_time2 = check_time(preprocessing,algorithm, text, \"pani\", False, function_id)\n",
    "        preprocessing_tab.append(preprocessing_time1 + preprocessing_time2)\n",
    "        function.append(function_time1 + function_time2)\n",
    "        total.append(preprocessing_time1 + preprocessing_time2 + function_time1 + function_time2)\n",
    "        algo_type.append(function_id)\n",
    "            \n",
    "df['Algorytm'] = algo_type\n",
    "df['Czas preprocessingu'] = preprocessing_tab\n",
    "df['Czas wyszukiwania wzorca'] = function\n",
    "df['Czas rzeczywisty'] = total\n",
    "\n",
    "df"
   ]
  },
  {
   "cell_type": "markdown",
   "id": "36dd7d72",
   "metadata": {},
   "source": [
    "Wykresy:"
   ]
  },
  {
   "cell_type": "code",
   "execution_count": null,
   "id": "a22a98b6",
   "metadata": {},
   "outputs": [],
   "source": []
  },
  {
   "cell_type": "markdown",
   "id": "c571905d",
   "metadata": {},
   "source": [
    "# 5. Zaproponuj tekst oraz wzorzec, dla którego zmierzony czas działania algorytmów 2 oraz 3 (uwzględniający tylko dopasowanie, bez pre-processingu) będzie co najmniej 5-krotnie krótszy niż dla algorytmu naiwnego. Uruchom każdy algorytm na zadanym wzorcu i tekście, w celu sprawdzenia, czy zmierzony czas jest faktycznie co najmniej 5-krotnie krótszy"
   ]
  },
  {
   "cell_type": "code",
   "execution_count": null,
   "id": "092ba267",
   "metadata": {},
   "outputs": [],
   "source": [
    "text = \"aaaa\" * 1000000\n",
    "pattern = \"a\" * 100000\n",
    "\n",
    "naive_method = check_time(naive, naive, text, pattern, False, \"Algorytm naiwny\")[1]\n",
    "fa_method = check_time(transition, fa_matching_without_preprocessing, text, pattern, False, \"Automat skończony\")[1]\n",
    "kmp_method = check_time(prefix_function, KMP_without_preprocessing,text, pattern, False, \"Algorytm Knutha-Morrisa-Pratta\")[1]\n",
    "\n",
    "print(f\"Algorytm naiwny: {naive_method}\")\n",
    "print(f\"Automat skończony: {fa_method}\")\n",
    "print(f\"Algorytm Knutha-Morrisa-Pratta: {kmp_method}\")\n",
    "\n",
    "answer = naive_method >= 5*fa_method and naive_method >= 5*kmp_method\n",
    "print(f\"Czy algorytm naiwny dla tego przypadku jest co najmniej 5 razy wolniejszy? {answer}\")\n"
   ]
  },
  {
   "cell_type": "markdown",
   "id": "82c72755",
   "metadata": {},
   "source": [
    "# 6. Przedstaw wnioski wynikające z przeprowadzonych eksperymentów, ze szczególnym uwzględnieniem praktycznych konsekwencji wynikających z różnic pomiędzy zaimplementowanymi algorytmami"
   ]
  },
  {
   "cell_type": "markdown",
   "id": "a735ec38",
   "metadata": {},
   "source": [
    "<ul> \n",
    "    <li> Wyniki pomiarów przedstawione w formie tabeli sugerują, że algorytm naiwny jest najwolniejszy, a automat skończony najszybszy w przypadku przeszukiwania tekstu w poszukiwaniu wzorców \"pan\" i \"pani\". Algorytm Knutha-Morrisa-Pratta jest szybszy niż algorytm naiwny, ale wolniejszy niż automat skończony.</li>\n",
    "</ul>"
   ]
  },
  {
   "cell_type": "code",
   "execution_count": null,
   "id": "343a1931",
   "metadata": {},
   "outputs": [],
   "source": []
  }
 ],
 "metadata": {
  "kernelspec": {
   "display_name": "Python 3 (ipykernel)",
   "language": "python",
   "name": "python3"
  },
  "language_info": {
   "codemirror_mode": {
    "name": "ipython",
    "version": 3
   },
   "file_extension": ".py",
   "mimetype": "text/x-python",
   "name": "python",
   "nbconvert_exporter": "python",
   "pygments_lexer": "ipython3",
   "version": "3.9.12"
  }
 },
 "nbformat": 4,
 "nbformat_minor": 5
}
