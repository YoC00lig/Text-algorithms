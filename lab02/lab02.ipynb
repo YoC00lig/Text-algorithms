{
 "cells": [
  {
   "cell_type": "markdown",
   "id": "c50e3fd5",
   "metadata": {},
   "source": [
    "# Algorytmy tekstowe - laboraorium 2"
   ]
  },
  {
   "cell_type": "markdown",
   "id": "fa7cecb0",
   "metadata": {},
   "source": [
    "# 1. Zadanie polega na implementacji dwóch algorytmów kompresji:\n",
    "\n",
    "### 1. statycznego algorytmu Huffmana (2 p)"
   ]
  },
  {
   "cell_type": "code",
   "execution_count": 119,
   "id": "01c38214",
   "metadata": {},
   "outputs": [],
   "source": [
    "from queue import PriorityQueue\n",
    "from collections import Counter\n",
    "\n",
    "class Node:\n",
    "    def __init__(self, frequency, sign=None):\n",
    "        self.frequency = frequency\n",
    "        self.sign = sign\n",
    "        self.left = None\n",
    "        self.right = None\n",
    "\n",
    "    def __lt__(self, other):\n",
    "        return self.frequency < other.frequency\n",
    "\n",
    "\n",
    "def build_tree_static(signs):\n",
    "    frequencies = Counter(signs)\n",
    "    nodes = [Node(frequencies[sign], sign) for sign in frequencies]\n",
    "    pq = PriorityQueue()\n",
    "    root = None\n",
    "    \n",
    "    for node in nodes:\n",
    "        pq.put(node)\n",
    "    \n",
    "    while True:\n",
    "        left = pq.get()\n",
    "        right = pq.get()\n",
    "        parent = Node(left.frequency + right.frequency)\n",
    "        parent.left, parent.right = left, right\n",
    "        pq.put(parent)\n",
    "        \n",
    "        if pq.qsize() == 1: # root\n",
    "            root = pq.get()\n",
    "            break\n",
    "\n",
    "    return root\n",
    "\n",
    "\n",
    "def build_code_table(node, codes = {}, code = \"\"):\n",
    "    if node.sign is not None:\n",
    "        codes[node.sign] = code\n",
    "        \n",
    "    if node.left is not None:\n",
    "        build_code_table(node.left, codes, code + \"0\")\n",
    "    if node.right is not None:\n",
    "        build_code_table(node.right, codes, code + \"1\")\n",
    "\n",
    "    return codes\n",
    "\n",
    "def static_huffman_encode(data):\n",
    "    root = build_tree_static(data)\n",
    "    codes = build_code_table(root)\n",
    "    \n",
    "    result = \"\"\n",
    "    \n",
    "    for sign in data:\n",
    "        result += codes[sign]\n",
    "        \n",
    "    return result, root\n",
    "\n",
    "def static_huffman_decode(encoded_data, root):\n",
    "    decoded_data = \"\"\n",
    "    node = root\n",
    "\n",
    "    for bit in encoded_data:\n",
    "        if bit == \"1\": node = node.right\n",
    "        else: node = node.left\n",
    "\n",
    "        if node.sign is not None:\n",
    "            decoded_data += node.sign\n",
    "            node = root\n",
    "\n",
    "    return decoded_data"
   ]
  },
  {
   "cell_type": "markdown",
   "id": "293b4072",
   "metadata": {},
   "source": [
    "Test działnia:"
   ]
  },
  {
   "cell_type": "code",
   "execution_count": 120,
   "id": "74097b2f",
   "metadata": {},
   "outputs": [
    {
     "name": "stdout",
     "output_type": "stream",
     "text": [
      "Encoded data: 01111100100010101111100\n",
      "Is implemented correctly?: True\n"
     ]
    }
   ],
   "source": [
    "data = \"abracadabra\"\n",
    "result, root = static_huffman_encode(data)\n",
    "print(\"Encoded data: \" + result)\n",
    "print(\"Is implemented correctly?: \" + str(data == static_huffman_decode(result, root)))"
   ]
  },
  {
   "cell_type": "markdown",
   "id": "d40bb183",
   "metadata": {},
   "source": [
    "### 2. dynamicznego algorytmu Huffmana (3 p)"
   ]
  },
  {
   "cell_type": "code",
   "execution_count": 125,
   "id": "4670953e",
   "metadata": {},
   "outputs": [],
   "source": [
    "class Node:\n",
    "    def __init__(self, sign=None, weight=0, parent=None, left=None, right=None):\n",
    "        self.sign = sign\n",
    "        self.weight = weight\n",
    "        self.parent = parent\n",
    "        self.left = left\n",
    "        self.right = right\n",
    "        \n",
    "    def __lt__(self, other):\n",
    "        return self.weight < other.weight\n",
    "\n",
    "def update_tree(node): # przechodzenie po drzewie metoda bottom-up i naprawianie drzewa\n",
    "    parent = node.parent\n",
    "    \n",
    "    if parent is None: # mamy korzeń - koniec rekurencji, nie trzeba już nic poprawiać\n",
    "        return\n",
    "    \n",
    "    nodes = [parent.left, parent.right]\n",
    "    \n",
    "    if nodes[0].weight > nodes[1].weight or nodes[0] is not node:\n",
    "        nodes[0], nodes[1] = nodes[1], nodes[0]\n",
    "        \n",
    "    update_tree(parent)\n",
    "\n",
    "def get_code(node):\n",
    "    code = []\n",
    "    while node.parent is not None:\n",
    "        if node == node.parent.left:\n",
    "            code.append('0')\n",
    "        else:\n",
    "            code.append('1')\n",
    "        node = node.parent\n",
    "    return list(reversed(code))\n",
    "\n",
    "def build_tree_dynamic(data): # tworzenie drzewa Huffmana, łączy dwa najmniejsze węzły w kazdym kroku \n",
    "    sign_nodes = {}\n",
    "    \n",
    "    for sign in data: # inicjalizacja każdego znaku jako Node w slowniku node'ów\n",
    "        sign_nodes[sign] = sign_nodes.get(sign, Node(sign, 0))\n",
    "        sign_nodes[sign].weight += 1\n",
    "\n",
    "    leaves = list(sign_nodes.values())\n",
    "    \n",
    "    while len(leaves) > 1:\n",
    "        leaves.sort(key=lambda n: (n.weight, id(n)))\n",
    "        left, right = leaves.pop(0), leaves.pop(0)\n",
    "        parent = Node(None, left.weight + right.weight, None, left, right)\n",
    "        left.parent = right.parent = parent\n",
    "        leaves.append(parent)\n",
    "    \n",
    "    return leaves[0], sign_nodes\n",
    "\n",
    "## kodowanie i dekodowanie\n",
    "def dynamic_huffman_encode(data):\n",
    "    root, sign_nodes = build_tree_dynamic(data)\n",
    "    bits = []\n",
    "    for sign in data:\n",
    "        bits.extend(get_code(sign_nodes[sign]))\n",
    "    return ''.join(bits), root\n",
    "\n",
    "def dynamic_huffman_decode(bits, root):\n",
    "    current = root\n",
    "    signs = []\n",
    "    for bit in bits:\n",
    "        if bit == '0':\n",
    "            current = current.left\n",
    "        else:\n",
    "            current = current.right\n",
    "        if current.sign is not None:\n",
    "            signs.append(current.sign)\n",
    "            current = root\n",
    "    return ''.join(signs)"
   ]
  },
  {
   "cell_type": "markdown",
   "id": "55e832b5",
   "metadata": {},
   "source": [
    "Test działania:"
   ]
  },
  {
   "cell_type": "code",
   "execution_count": 126,
   "id": "12120cab",
   "metadata": {},
   "outputs": [
    {
     "name": "stdout",
     "output_type": "stream",
     "text": [
      "Encoded data: 01111001100011010111100\n",
      "Is implemented correctly?: True\n"
     ]
    }
   ],
   "source": [
    "data = \"abracadabra\"\n",
    "result, root = dynamic_huffman_encode(data)\n",
    "print(\"Encoded data: \" + result)\n",
    "print(\"Is implemented correctly?: \" + str(data == dynamic_huffman_decode(result, root)))"
   ]
  },
  {
   "cell_type": "markdown",
   "id": "e0113dcd",
   "metadata": {},
   "source": [
    "# Dla każdego z algorytmów należy wykonać następujące zadania:"
   ]
  },
  {
   "cell_type": "markdown",
   "id": "b9a36962",
   "metadata": {},
   "source": [
    "#### Opracować format pliku przechowującego dane. Zwróć uwagę na dwie kwestie:"
   ]
  },
  {
   "cell_type": "markdown",
   "id": "d69a28a9",
   "metadata": {},
   "source": [
    "<ol>\n",
    "    <li> Liczba bitów wynikowego pliku nie musi być podzielna przez 8, ale z dysku zawsze odczytujemy pełne bajty, dlatego ważne jest, aby jakoś rozwiązać ten problem. W przeciwnym razie po dekompresji można uzyskać nadmiarowe dane. </li>\n",
    "    <li> Plik wynikowy musi być binarny, tzn. rozwiązanie nie może zakładać, że w pliku tym zapisywane są 0 i 1 jako znaki ASCII. </li>\n",
    "</ol>"
   ]
  },
  {
   "cell_type": "markdown",
   "id": "cad9df47",
   "metadata": {},
   "source": [
    "#### Pomysł:"
   ]
  },
  {
   "cell_type": "markdown",
   "id": "d1c07297",
   "metadata": {},
   "source": [
    "Na początku pliku zapisywana jest wartość paddingu, która określa liczbę bitów na końcu zakodowanych danych, które należy zignorować przy dekompresji (aby dlugosc tekstu byla podzielna przez 8 dodano na koniec w brakujące miejsca 0). Następnie każde 8 bitów zakodowanych danych są zapisywane jako pojedynczy bajt w pliku binarnym. "
   ]
  },
  {
   "cell_type": "markdown",
   "id": "165cec51",
   "metadata": {},
   "source": [
    "# Zaimplementować algorytm kompresji i dekompresji danych dla tego formatu pliku."
   ]
  },
  {
   "cell_type": "markdown",
   "id": "6595a976",
   "metadata": {},
   "source": [
    "#### Huffman statyczny:"
   ]
  },
  {
   "cell_type": "code",
   "execution_count": 121,
   "id": "c7049dc4",
   "metadata": {},
   "outputs": [],
   "source": [
    "def static_huffman_encode_file(data, output_file):\n",
    "    root = build_tree_static(data)\n",
    "    codes = build_code_table(root)\n",
    "    \n",
    "    encoded_data = \"\"\n",
    "    \n",
    "    for sign in data:\n",
    "        encoded_data += codes[sign]\n",
    "    \n",
    "    # Obliczam, ile zer jest potrzebnych na końcu, aby uzupełnić ostatni bajt.\n",
    "    padding = 8 - (len(encoded_data) % 8)\n",
    "    encoded_data += padding * \"0\"\n",
    "    \n",
    "\n",
    "    with open(output_file, \"wb\") as file:\n",
    "        # na początku pliku jest wpisana ilosc zer do zignorowania\n",
    "        file.write(bytes([padding]))\n",
    "        \n",
    "        # wpisywanie zakodowanych znakow do pliku\n",
    "        for i in range(0, len(encoded_data), 8):\n",
    "            byte = encoded_data[i:i+8]\n",
    "            file.write(bytes([int(byte, 2)]))\n",
    "    \n",
    "    return root\n",
    "\n",
    "\n",
    "def static_huffman_decode_file(input_file, root):\n",
    "\n",
    "    with open(input_file, \"rb\") as file:\n",
    "        # wczytanie ilosci zer do zignorowania\n",
    "        padding = file.read(1)[0]\n",
    "        \n",
    "        # wczytywanie kodow z pliku \n",
    "        encoded_data = \"\"\n",
    "        byte = file.read(1)\n",
    "        while byte:\n",
    "            encoded_data += bin(byte[0])[2:].zfill(8)\n",
    "            byte = file.read(1)\n",
    "    \n",
    "    # usuwanie dodanych zer z konca\n",
    "    encoded_data = encoded_data[:-padding]\n",
    "    \n",
    "    decoded_data = \"\"\n",
    "    node = root\n",
    "    \n",
    "    for bit in encoded_data:\n",
    "        if bit == \"1\": node = node.right\n",
    "        else: node = node.left\n",
    "\n",
    "        if node.sign is not None:\n",
    "            decoded_data += node.sign\n",
    "            node = root\n",
    "\n",
    "    return decoded_data"
   ]
  },
  {
   "cell_type": "markdown",
   "id": "fabd626a",
   "metadata": {},
   "source": [
    "Testowanie:"
   ]
  },
  {
   "cell_type": "code",
   "execution_count": 122,
   "id": "9c6da051",
   "metadata": {},
   "outputs": [
    {
     "name": "stdout",
     "output_type": "stream",
     "text": [
      "Implemented correctly\n"
     ]
    }
   ],
   "source": [
    "data = \"aabbbcdddde\"\n",
    "encoded_file = \"encoded.bin\"\n",
    "decoded_file = \"decoded.txt\"\n",
    "\n",
    "# kodowanie\n",
    "root = static_huffman_encode_file(data, encoded_file)\n",
    "\n",
    "# dekodowanie\n",
    "decoded_data = static_huffman_decode_file(encoded_file, root)\n",
    "\n",
    "with open(decoded_file, \"w\") as file:\n",
    "    file.write(decoded_data)\n",
    "\n",
    "# sprawdzenie poprawności\n",
    "with open(decoded_file, \"r\") as file:\n",
    "    if file.read() == data:\n",
    "        print(\"Implemented correctly\")"
   ]
  },
  {
   "cell_type": "markdown",
   "id": "575fe17e",
   "metadata": {},
   "source": [
    "#### Huffman dynamiczny:"
   ]
  },
  {
   "cell_type": "code",
   "execution_count": 130,
   "id": "846cd7e0",
   "metadata": {},
   "outputs": [],
   "source": [
    "def dynamic_huffman_encode_file(data, output_file):\n",
    "    root, codes = build_tree_dynamic(data)\n",
    "    \n",
    "    encoded_data = \"\"\n",
    "    \n",
    "    for sign in data:\n",
    "        encoded_data += codes[sign].sign\n",
    "        \n",
    "    bits = []\n",
    "    for sign in encoded_data:\n",
    "        bits.extend(get_code(codes[sign]))\n",
    "        \n",
    "    encoded_data = ''.join(bits)\n",
    "    \n",
    "    # Obliczam, ile zer jest potrzebnych na końcu, aby uzupełnić ostatni bajt.\n",
    "    padding = 8 - (len(encoded_data) % 8)\n",
    "    encoded_data += padding * \"0\"\n",
    "    \n",
    "\n",
    "    with open(output_file, \"wb\") as file:\n",
    "        # na początku pliku jest wpisana ilosc zer do zignorowania\n",
    "        file.write(bytes([padding]))\n",
    "        \n",
    "        # wpisywanie zakodowanych znakow do pliku\n",
    "        for i in range(0, len(encoded_data), 8):\n",
    "            byte = encoded_data[i:i+8]\n",
    "            file.write(bytes([int(byte, 2)]))\n",
    "    \n",
    "    return root\n",
    "\n",
    "def dynamic_huffman_decode_file(input_file, root):\n",
    "\n",
    "    with open(input_file, \"rb\") as file:\n",
    "        # wczytanie ilosci zer do zignorowania\n",
    "        padding = file.read(1)[0]\n",
    "        \n",
    "        # wczytywanie kodow z pliku \n",
    "        encoded_data = \"\"\n",
    "        byte = file.read(1)\n",
    "        while byte:\n",
    "            encoded_data += bin(byte[0])[2:].zfill(8)\n",
    "            byte = file.read(1)\n",
    "    \n",
    "    # usuwanie dodanych zer z konca\n",
    "    encoded_data = encoded_data[:-padding]\n",
    "    \n",
    "    decoded_data = \"\"\n",
    "    node = root\n",
    "    \n",
    "    for bit in encoded_data:\n",
    "        if bit == \"1\": node = node.right\n",
    "        else: node = node.left\n",
    "\n",
    "        if node.sign is not None:\n",
    "            decoded_data += node.sign\n",
    "            node = root\n",
    "\n",
    "    return decoded_data"
   ]
  },
  {
   "cell_type": "markdown",
   "id": "a6cbe783",
   "metadata": {},
   "source": [
    "Testowanie:"
   ]
  },
  {
   "cell_type": "code",
   "execution_count": 132,
   "id": "123e3e70",
   "metadata": {},
   "outputs": [
    {
     "name": "stdout",
     "output_type": "stream",
     "text": [
      "Implemented correctly\n"
     ]
    }
   ],
   "source": [
    "data = \"aabbbcdddde\"\n",
    "encoded_file = \"encoded1.bin\"\n",
    "decoded_file = \"decoded1.txt\"\n",
    "\n",
    "# kodowanie\n",
    "root = dynamic_huffman_encode_file(data, encoded_file)\n",
    "\n",
    "# dekodowanie\n",
    "decoded_data = dynamic_huffman_decode_file(encoded_file, root)\n",
    "with open(decoded_file, \"w\") as file:\n",
    "    file.write(decoded_data)\n",
    "\n",
    "# sprawdzenie poprawności\n",
    "with open(decoded_file, \"r\") as file:\n",
    "    if file.read() == data:\n",
    "        print(\"Implemented correctly\")"
   ]
  },
  {
   "cell_type": "markdown",
   "id": "1e82820c",
   "metadata": {},
   "source": [
    "# Zmierzyć współczynnik kompresji (wyrażone w procentach: 1 - plik_skompresowany / plik_nieskompresowany) dla plików o rozmiarach: 1kB, 10kB, 100kB, 1MB, o różnej zawartości:"
   ]
  },
  {
   "cell_type": "markdown",
   "id": "5ed28551",
   "metadata": {},
   "source": [
    "<ol>\n",
    "    <li>wybrany przez Ciebie plik tekstowy z projektu <a href=\"https://www.gutenberg.org\">Gutenberg</a>,</li>\n",
    "    <li>wybrany przez Ciebie plik z kodem źródłowym <a href=\"https://github.com/torvalds/linux\">jądra Linuksa</a>, </li>\n",
    "    <li>plik ze znakami losowanymi z rozkładu jednostajnego - należy uwzględnić wszystkie 256 wartości, a nie tylko znaki drukowalne. </li>\n",
    "</ol>"
   ]
  },
  {
   "cell_type": "markdown",
   "id": "613f033c",
   "metadata": {},
   "source": [
    "# W sumie w punkcie 3 należy przeprowadzić analizę dla łącznie 12 plików (4 rozmiary x 3 typy plików)."
   ]
  },
  {
   "cell_type": "code",
   "execution_count": null,
   "id": "dfce22e0",
   "metadata": {},
   "outputs": [],
   "source": []
  },
  {
   "cell_type": "code",
   "execution_count": null,
   "id": "889012bf",
   "metadata": {},
   "outputs": [],
   "source": []
  },
  {
   "cell_type": "markdown",
   "id": "d7e7f237",
   "metadata": {},
   "source": [
    "# Zmierzyć czas kompresji i dekompresji dla plików z punktu 3."
   ]
  },
  {
   "cell_type": "markdown",
   "id": "3f4b608b",
   "metadata": {},
   "source": [
    "Pomocnicze funkcje:"
   ]
  },
  {
   "cell_type": "code",
   "execution_count": null,
   "id": "6867f7c4",
   "metadata": {},
   "outputs": [],
   "source": []
  },
  {
   "cell_type": "markdown",
   "id": "9f783f3f",
   "metadata": {},
   "source": [
    "Podpunkt 1:"
   ]
  },
  {
   "cell_type": "code",
   "execution_count": null,
   "id": "5f5c290f",
   "metadata": {},
   "outputs": [],
   "source": []
  },
  {
   "cell_type": "markdown",
   "id": "8ad743c2",
   "metadata": {},
   "source": [
    "Podpunkt 2"
   ]
  },
  {
   "cell_type": "code",
   "execution_count": null,
   "id": "17858614",
   "metadata": {},
   "outputs": [],
   "source": []
  },
  {
   "cell_type": "markdown",
   "id": "6efff40c",
   "metadata": {},
   "source": [
    "Podpunkt 3:"
   ]
  },
  {
   "cell_type": "code",
   "execution_count": null,
   "id": "d1d8f0b8",
   "metadata": {},
   "outputs": [],
   "source": []
  }
 ],
 "metadata": {
  "kernelspec": {
   "display_name": "Python 3 (ipykernel)",
   "language": "python",
   "name": "python3"
  },
  "language_info": {
   "codemirror_mode": {
    "name": "ipython",
    "version": 3
   },
   "file_extension": ".py",
   "mimetype": "text/x-python",
   "name": "python",
   "nbconvert_exporter": "python",
   "pygments_lexer": "ipython3",
   "version": "3.9.12"
  }
 },
 "nbformat": 4,
 "nbformat_minor": 5
}
