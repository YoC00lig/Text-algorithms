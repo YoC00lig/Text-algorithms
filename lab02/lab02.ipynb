{
 "cells": [
  {
   "cell_type": "markdown",
   "id": "c50e3fd5",
   "metadata": {},
   "source": [
    "# Algorytmy tekstowe - laboraorium 2"
   ]
  },
  {
   "cell_type": "markdown",
   "id": "cc82fea4",
   "metadata": {},
   "source": [
    "Importowanie bibliotek i potrzebnych struktur:"
   ]
  },
  {
   "cell_type": "code",
   "execution_count": 29,
   "id": "d5d6b438",
   "metadata": {},
   "outputs": [],
   "source": [
    "from queue import PriorityQueue\n",
    "from collections import Counter\n",
    "import random\n",
    "import os\n",
    "import pandas as pd\n",
    "import time\n",
    "import matplotlib.pyplot as plt"
   ]
  },
  {
   "cell_type": "markdown",
   "id": "fa7cecb0",
   "metadata": {},
   "source": [
    "# 1. Zadanie polega na implementacji dwóch algorytmów kompresji:\n",
    "\n",
    "### 1. statycznego algorytmu Huffmana (2 p)"
   ]
  },
  {
   "cell_type": "code",
   "execution_count": 2,
   "id": "01c38214",
   "metadata": {},
   "outputs": [],
   "source": [
    "class Node1:\n",
    "    def __init__(self, frequency, sign=None):\n",
    "        self.frequency = frequency\n",
    "        self.sign = sign\n",
    "        self.left = None\n",
    "        self.right = None\n",
    "\n",
    "    def __lt__(self, other):\n",
    "        return self.frequency < other.frequency\n",
    "\n",
    "\n",
    "def build_tree_static(signs):\n",
    "    frequencies = Counter(signs)\n",
    "    nodes = [Node1(frequencies[sign], sign) for sign in frequencies]\n",
    "    pq = PriorityQueue()\n",
    "    root = None\n",
    "    \n",
    "    for node in nodes:\n",
    "        pq.put(node)\n",
    "    \n",
    "    while True:\n",
    "        left = pq.get()\n",
    "        right = pq.get()\n",
    "        parent = Node1(left.frequency + right.frequency)\n",
    "        parent.left, parent.right = left, right\n",
    "        pq.put(parent)\n",
    "        \n",
    "        if pq.qsize() == 1: # root\n",
    "            root = pq.get()\n",
    "            break\n",
    "\n",
    "    return root\n",
    "\n",
    "\n",
    "def build_code_table(node, codes = {}, code = \"\"):\n",
    "    if node.sign is not None:\n",
    "        codes[node.sign] = code\n",
    "        \n",
    "    if node.left is not None:\n",
    "        build_code_table(node.left, codes, code + \"0\")\n",
    "    if node.right is not None:\n",
    "        build_code_table(node.right, codes, code + \"1\")\n",
    "\n",
    "    return codes\n",
    "\n",
    "def static_huffman_encode(data):\n",
    "    root = build_tree_static(data)\n",
    "    codes = build_code_table(root)\n",
    "    \n",
    "    result = \"\"\n",
    "    \n",
    "    for sign in data:\n",
    "        result += codes[sign]\n",
    "        \n",
    "    return result, root\n",
    "\n",
    "def static_huffman_decode(encoded_data, root):\n",
    "    decoded_data = \"\"\n",
    "    node = root\n",
    "\n",
    "    for bit in encoded_data:\n",
    "        if bit == \"1\": node = node.right\n",
    "        else: node = node.left\n",
    "\n",
    "        if node.sign is not None:\n",
    "            decoded_data += node.sign\n",
    "            node = root\n",
    "\n",
    "    return decoded_data"
   ]
  },
  {
   "cell_type": "markdown",
   "id": "c7cf6682",
   "metadata": {},
   "source": [
    "Test działnia:"
   ]
  },
  {
   "cell_type": "code",
   "execution_count": 3,
   "id": "03ab5f07",
   "metadata": {},
   "outputs": [
    {
     "name": "stdout",
     "output_type": "stream",
     "text": [
      "Encoded data: 01111100100010101111100\n",
      "Is implemented correctly?: True\n"
     ]
    }
   ],
   "source": [
    "data = \"abracadabra\"\n",
    "result, root = static_huffman_encode(data)\n",
    "print(\"Encoded data: \" + result)\n",
    "print(\"Is implemented correctly?: \" + str(data == static_huffman_decode(result, root)))"
   ]
  },
  {
   "cell_type": "markdown",
   "id": "d40bb183",
   "metadata": {},
   "source": [
    "### 2. dynamicznego algorytmu Huffmana (3 p)"
   ]
  },
  {
   "cell_type": "code",
   "execution_count": 8,
   "id": "42d064e9",
   "metadata": {},
   "outputs": [],
   "source": [
    "class Node2:\n",
    "    def __init__(self, sign=None, weight=0, parent=None, left=None, right=None):\n",
    "        self.sign = sign\n",
    "        self.weight = weight\n",
    "        self.parent = parent\n",
    "        self.left = left\n",
    "        self.right = right\n",
    "        \n",
    "    def __lt__(self, other):\n",
    "        return self.weight < other.weight\n",
    "\n",
    "def update_tree(node): # przechodzenie po drzewie metoda bottom-up i naprawianie drzewa\n",
    "    parent = node.parent\n",
    "    \n",
    "    if parent is None: # mamy korzeń - koniec rekurencji, nie trzeba już nic poprawiać\n",
    "        return\n",
    "    \n",
    "    nodes = [parent.left, parent.right]\n",
    "    \n",
    "    if nodes[0].weight > nodes[1].weight or nodes[0] is not node:\n",
    "        nodes[0], nodes[1] = nodes[1], nodes[0]\n",
    "        \n",
    "    update_tree(parent)\n",
    "\n",
    "def get_code(node):\n",
    "    code = []\n",
    "    while node.parent is not None:\n",
    "        if node == node.parent.left:\n",
    "            code.append('0')\n",
    "        else:\n",
    "            code.append('1')\n",
    "        node = node.parent\n",
    "    return list(reversed(code))\n",
    "\n",
    "def build_tree_dynamic(data): # tworzenie drzewa Huffmana, łączy dwa najmniejsze węzły w kazdym kroku \n",
    "    sign_nodes = {}\n",
    "    \n",
    "    for sign in data: # inicjalizacja każdego znaku jako Node w slowniku node'ów\n",
    "        sign = str(sign)\n",
    "        sign_nodes[sign] = sign_nodes.get(sign, Node2(sign=sign,weight= 0))\n",
    "        sign_nodes[sign].weight += 1\n",
    "\n",
    "    leaves = list(sign_nodes.values())\n",
    "    \n",
    "    while len(leaves) > 1:\n",
    "        leaves.sort(key=lambda n: (n.weight, id(n)))\n",
    "        left, right = leaves.pop(0), leaves.pop(0)\n",
    "        parent = Node2(None, left.weight + right.weight, None, left, right)\n",
    "        left.parent = right.parent = parent\n",
    "        leaves.append(parent)\n",
    "\n",
    "    \n",
    "    return leaves[0], sign_nodes\n",
    "\n",
    "## kodowanie i dekodowanie\n",
    "def dynamic_huffman_encode(data):\n",
    "    root, sign_nodes = build_tree_dynamic(data)\n",
    "    bits = []\n",
    "    for sign in data:\n",
    "        bits.extend(get_code(sign_nodes[sign]))\n",
    "    return ''.join(bits), root\n",
    "\n",
    "def dynamic_huffman_decode(bits, root):\n",
    "    current = root\n",
    "    signs = []\n",
    "    for bit in bits:\n",
    "        if bit == '0':\n",
    "            current = current.left\n",
    "        else:\n",
    "            current = current.right\n",
    "        if current.sign is not None:\n",
    "            signs.append(current.sign)\n",
    "            current = root\n",
    "    return ''.join(signs)"
   ]
  },
  {
   "cell_type": "markdown",
   "id": "88bca8b3",
   "metadata": {},
   "source": [
    "Test działania:"
   ]
  },
  {
   "cell_type": "code",
   "execution_count": 9,
   "id": "c700b779",
   "metadata": {},
   "outputs": [
    {
     "name": "stdout",
     "output_type": "stream",
     "text": [
      "Encoded data: 01111001100011010111100\n",
      "Is implemented correctly?: True\n"
     ]
    }
   ],
   "source": [
    "data = \"abracadabra\"\n",
    "result, root = dynamic_huffman_encode(data)\n",
    "print(\"Encoded data: \" + result)\n",
    "print(\"Is implemented correctly?: \" + str(data == dynamic_huffman_decode(result, root)))"
   ]
  },
  {
   "cell_type": "markdown",
   "id": "428e104b",
   "metadata": {},
   "source": [
    "# Dla każdego z algorytmów należy wykonać następujące zadania:"
   ]
  },
  {
   "cell_type": "markdown",
   "id": "550e5bfa",
   "metadata": {},
   "source": [
    "#### Opracować format pliku przechowującego dane. Zwróć uwagę na dwie kwestie:"
   ]
  },
  {
   "cell_type": "markdown",
   "id": "13205d4e",
   "metadata": {},
   "source": [
    "<ol>\n",
    "    <li> Liczba bitów wynikowego pliku nie musi być podzielna przez 8, ale z dysku zawsze odczytujemy pełne bajty, dlatego ważne jest, aby jakoś rozwiązać ten problem. W przeciwnym razie po dekompresji można uzyskać nadmiarowe dane. </li>\n",
    "    <li> Plik wynikowy musi być binarny, tzn. rozwiązanie nie może zakładać, że w pliku tym zapisywane są 0 i 1 jako znaki ASCII. </li>\n",
    "</ol>"
   ]
  },
  {
   "cell_type": "markdown",
   "id": "00e4808d",
   "metadata": {},
   "source": [
    "#### Pomysł:"
   ]
  },
  {
   "cell_type": "markdown",
   "id": "16c6dec7",
   "metadata": {},
   "source": [
    "Na początku pliku zapisywana jest wartość paddingu, która określa liczbę bitów na końcu zakodowanych danych, które należy zignorować przy dekompresji (aby dlugosc tekstu byla podzielna przez 8 dodano na koniec w brakujące miejsca 0). Następnie każde 8 bitów zakodowanych danych są zapisywane jako pojedynczy bajt w pliku binarnym. "
   ]
  },
  {
   "cell_type": "markdown",
   "id": "7942e74c",
   "metadata": {},
   "source": [
    "# Zaimplementować algorytm kompresji i dekompresji danych dla tego formatu pliku."
   ]
  },
  {
   "cell_type": "markdown",
   "id": "3b9c6ba7",
   "metadata": {},
   "source": [
    "#### Huffman statyczny:"
   ]
  },
  {
   "cell_type": "code",
   "execution_count": 10,
   "id": "5f76c574",
   "metadata": {},
   "outputs": [],
   "source": [
    "def static_huffman_encode_file(data, output_file):\n",
    "    root = build_tree_static(data)\n",
    "    codes = build_code_table(root)\n",
    "    \n",
    "    encoded_data = \"\"\n",
    "    \n",
    "    for sign in data:\n",
    "        encoded_data += codes[sign]\n",
    "    \n",
    "    # Obliczam, ile zer jest potrzebnych na końcu, aby uzupełnić ostatni bajt.\n",
    "    padding = 8 - (len(encoded_data) % 8)\n",
    "    encoded_data += padding * \"0\"\n",
    "    \n",
    "\n",
    "    with open(output_file, \"wb\") as file:\n",
    "        # na początku pliku jest wpisana ilosc zer do zignorowania\n",
    "        file.write(bytes([padding]))\n",
    "        \n",
    "        # wpisywanie zakodowanych znakow do pliku\n",
    "        for i in range(0, len(encoded_data), 8):\n",
    "            byte = encoded_data[i:i+8]\n",
    "            file.write(bytes([int(byte, 2)]))\n",
    "    \n",
    "    return root, output_file\n",
    "\n",
    "\n",
    "def static_huffman_decode_file(input_file, root):\n",
    "\n",
    "    with open(input_file, \"rb\") as file:\n",
    "        # wczytanie ilosci zer do zignorowania\n",
    "        padding = file.read(1)[0]\n",
    "        \n",
    "        # wczytywanie kodow z pliku \n",
    "        encoded_data = \"\"\n",
    "        byte = file.read(1)\n",
    "        while byte:\n",
    "            encoded_data += bin(byte[0])[2:].zfill(8)\n",
    "            byte = file.read(1)\n",
    "    \n",
    "    # usuwanie dodanych zer z konca\n",
    "    encoded_data = encoded_data[:-padding]\n",
    "    \n",
    "    decoded_data = \"\"\n",
    "    node = root\n",
    "    \n",
    "    for bit in encoded_data:\n",
    "        if bit == \"1\": node = node.right\n",
    "        else: node = node.left\n",
    "\n",
    "        if node.sign is not None:\n",
    "            decoded_data += node.sign\n",
    "            node = root\n",
    "\n",
    "    return decoded_data"
   ]
  },
  {
   "cell_type": "markdown",
   "id": "935dc78a",
   "metadata": {},
   "source": [
    "Testowanie:"
   ]
  },
  {
   "cell_type": "code",
   "execution_count": 11,
   "id": "e62ae7f8",
   "metadata": {},
   "outputs": [
    {
     "name": "stdout",
     "output_type": "stream",
     "text": [
      "Implemented correctly\n"
     ]
    }
   ],
   "source": [
    "data = \"aabbbcdddde\"\n",
    "encoded_file = \"encoded.bin\"\n",
    "decoded_file = \"decoded.txt\"\n",
    "\n",
    "# kodowanie\n",
    "root, _ = static_huffman_encode_file(data, encoded_file)\n",
    "\n",
    "# dekodowanie\n",
    "decoded_data = static_huffman_decode_file(encoded_file, root)\n",
    "\n",
    "with open(decoded_file, \"w\") as file:\n",
    "    file.write(decoded_data)\n",
    "\n",
    "# sprawdzenie poprawności\n",
    "with open(decoded_file, \"r\") as file:\n",
    "    if file.read() == data:\n",
    "        print(\"Implemented correctly\")"
   ]
  },
  {
   "cell_type": "markdown",
   "id": "3b97595b",
   "metadata": {},
   "source": [
    "#### Huffman dynamiczny:"
   ]
  },
  {
   "cell_type": "code",
   "execution_count": 12,
   "id": "be2e6dab",
   "metadata": {},
   "outputs": [],
   "source": [
    "def dynamic_huffman_encode_file(data, output_file):\n",
    "    root, codes = build_tree_dynamic(data)\n",
    "    \n",
    "    encoded_data = \"\"\n",
    "    \n",
    "    for sign in data:\n",
    "        encoded_data += codes[sign].sign\n",
    "    \n",
    "    bits = []\n",
    "    for i in encoded_data:\n",
    "        bits.extend(get_code(codes[i]))\n",
    "        \n",
    "    encoded_data = ''.join(bits)\n",
    "    \n",
    "    # Obliczam, ile zer jest potrzebnych na końcu, aby uzupełnić ostatni bajt.\n",
    "    padding = 8 - (len(encoded_data) % 8)\n",
    "    encoded_data += padding * \"0\"\n",
    "    \n",
    "\n",
    "    with open(output_file, \"wb\") as file:\n",
    "        # na początku pliku jest wpisana ilosc zer do zignorowania\n",
    "        file.write(bytes([padding]))\n",
    "        \n",
    "        # wpisywanie zakodowanych znakow do pliku\n",
    "        for i in range(0, len(encoded_data), 8):\n",
    "            byte = encoded_data[i:i+8]\n",
    "            file.write(bytes([int(byte, 2)]))\n",
    "    \n",
    "    return root, output_file\n",
    "\n",
    "def dynamic_huffman_decode_file(input_file, root):\n",
    "\n",
    "    with open(input_file, \"rb\") as file:\n",
    "        # wczytanie ilosci zer do zignorowania\n",
    "        padding = file.read(1)[0]\n",
    "        \n",
    "        # wczytywanie kodow z pliku \n",
    "        encoded_data = \"\"\n",
    "        byte = file.read(1)\n",
    "        while byte:\n",
    "            encoded_data += bin(byte[0])[2:].zfill(8)\n",
    "            byte = file.read(1)\n",
    "    \n",
    "    # usuwanie dodanych zer z konca\n",
    "    encoded_data = encoded_data[:-padding]\n",
    "    \n",
    "    decoded_data = \"\"\n",
    "    node = root\n",
    "    \n",
    "    for bit in encoded_data:\n",
    "        if bit == \"1\": node = node.right\n",
    "        else: node = node.left\n",
    "\n",
    "        if node.sign is not None:\n",
    "            decoded_data += node.sign\n",
    "            node = root\n",
    "\n",
    "    return decoded_data"
   ]
  },
  {
   "cell_type": "markdown",
   "id": "21ed80fa",
   "metadata": {},
   "source": [
    "Testowanie:"
   ]
  },
  {
   "cell_type": "code",
   "execution_count": 13,
   "id": "7b6229b4",
   "metadata": {},
   "outputs": [
    {
     "name": "stdout",
     "output_type": "stream",
     "text": [
      "Implemented correctly\n"
     ]
    }
   ],
   "source": [
    "data = \"aabbbcdddde\"\n",
    "encoded_file = \"encoded1.bin\"\n",
    "decoded_file = \"decoded1.txt\"\n",
    "\n",
    "# kodowanie\n",
    "root, output_file = dynamic_huffman_encode_file(data, encoded_file)\n",
    "\n",
    "# dekodowanie\n",
    "decoded_data = dynamic_huffman_decode_file(encoded_file, root)\n",
    "with open(decoded_file, \"w\") as file:\n",
    "    file.write(decoded_data)\n",
    "\n",
    "# sprawdzenie poprawności\n",
    "with open(decoded_file, \"r\") as file:\n",
    "    if file.read() == data:\n",
    "        print(\"Implemented correctly\")"
   ]
  },
  {
   "cell_type": "markdown",
   "id": "18e4e79c",
   "metadata": {},
   "source": [
    "# Zmierzyć współczynnik kompresji (wyrażone w procentach: 1 - plik_skompresowany / plik_nieskompresowany) dla plików o rozmiarach: 1kB, 10kB, 100kB, 1MB, o różnej zawartości:"
   ]
  },
  {
   "cell_type": "markdown",
   "id": "641457e9",
   "metadata": {},
   "source": [
    "<ol>\n",
    "    <li>wybrany przez Ciebie plik tekstowy z projektu <a href=\"https://www.gutenberg.org\">Gutenberg</a>,</li>\n",
    "    <li>wybrany przez Ciebie plik z kodem źródłowym <a href=\"https://github.com/torvalds/linux\">jądra Linuksa</a>, </li>\n",
    "    <li>plik ze znakami losowanymi z rozkładu jednostajnego - należy uwzględnić wszystkie 256 wartości, a nie tylko znaki drukowalne. </li>\n",
    "</ol>"
   ]
  },
  {
   "cell_type": "markdown",
   "id": "86fe1589",
   "metadata": {},
   "source": [
    "# W sumie w punkcie 3 należy przeprowadzić analizę dla łącznie 12 plików (4 rozmiary x 3 typy plików)."
   ]
  },
  {
   "cell_type": "code",
   "execution_count": 14,
   "id": "f0877b20",
   "metadata": {},
   "outputs": [],
   "source": [
    "all_files = [\"test/all1K.txt\", \"test/all10K.txt\", \"test/all100K.txt\", \"test/all1M.txt\",\n",
    "             \"test/plik1K.txt\", \"test/plik10K.txt\", \"test/plik100K.txt\", \"test/plik1M.txt\",\n",
    "             \"test/linux1K.txt\", \"test/linux10K.txt\", \"test/linux100K.txt\", \"test/linux1M.txt\"]"
   ]
  },
  {
   "cell_type": "markdown",
   "id": "d8413fa8",
   "metadata": {},
   "source": [
    "### Funkcje pomocnicze: "
   ]
  },
  {
   "cell_type": "markdown",
   "id": "8e9d161f",
   "metadata": {},
   "source": [
    "Funkcja obliczająca współczynnik kompresji:"
   ]
  },
  {
   "cell_type": "code",
   "execution_count": 15,
   "id": "e4d3ad0d",
   "metadata": {},
   "outputs": [],
   "source": [
    "def compression_ratio(given_file, coded_file):\n",
    "    return 1 - os.path.getsize(coded_file) / os.path.getsize(given_file)"
   ]
  },
  {
   "cell_type": "markdown",
   "id": "4cc8d67e",
   "metadata": {},
   "source": [
    "Funkcja do zaprezentowania danych:"
   ]
  },
  {
   "cell_type": "code",
   "execution_count": 20,
   "id": "fc7614c5",
   "metadata": {},
   "outputs": [],
   "source": [
    "def get_frame(function_name, function):\n",
    "    df = pd.DataFrame()\n",
    "    df['Nazwa pliku'] = all_files\n",
    "    df[\"Metoda\"] = [function_name] * len(all_files)\n",
    "    \n",
    "    \n",
    "    ratios = []\n",
    "    before = []\n",
    "    after = []\n",
    "    id_ = 1 if function == static_huffman_encode_file else 2\n",
    "    \n",
    "    for file in all_files:\n",
    "        with open(file, 'r') as f:\n",
    "            content = f.read()\n",
    "            _, coded_file = function(content, \"result_\" + str(random.randint(1,20)) + str(id_))\n",
    "            before.append(os.path.getsize(file))\n",
    "            after.append(os.path.getsize(coded_file))\n",
    "            ratios.append(compression_ratio(file, coded_file))\n",
    "        \n",
    "    df[\"Współczynnik kompresji\"] = ratios\n",
    "    df[\"Przed kompresją\"] = before\n",
    "    df[\"Po kompresji\"] = after\n",
    "    \n",
    "    return df"
   ]
  },
  {
   "cell_type": "markdown",
   "id": "cc50b8a8",
   "metadata": {},
   "source": [
    "## Statyczne kodowanie Huffmana"
   ]
  },
  {
   "cell_type": "code",
   "execution_count": 21,
   "id": "2c3e21fc",
   "metadata": {},
   "outputs": [
    {
     "data": {
      "text/html": [
       "<div>\n",
       "<style scoped>\n",
       "    .dataframe tbody tr th:only-of-type {\n",
       "        vertical-align: middle;\n",
       "    }\n",
       "\n",
       "    .dataframe tbody tr th {\n",
       "        vertical-align: top;\n",
       "    }\n",
       "\n",
       "    .dataframe thead th {\n",
       "        text-align: right;\n",
       "    }\n",
       "</style>\n",
       "<table border=\"1\" class=\"dataframe\">\n",
       "  <thead>\n",
       "    <tr style=\"text-align: right;\">\n",
       "      <th></th>\n",
       "      <th>Nazwa pliku</th>\n",
       "      <th>Metoda</th>\n",
       "      <th>Współczynnik kompresji</th>\n",
       "      <th>Przed kompresją</th>\n",
       "      <th>Po kompresji</th>\n",
       "    </tr>\n",
       "  </thead>\n",
       "  <tbody>\n",
       "    <tr>\n",
       "      <th>0</th>\n",
       "      <td>test/all1K.txt</td>\n",
       "      <td>Statyczny algorytm Huffmana</td>\n",
       "      <td>0.127791</td>\n",
       "      <td>1299</td>\n",
       "      <td>1133</td>\n",
       "    </tr>\n",
       "    <tr>\n",
       "      <th>1</th>\n",
       "      <td>test/all10K.txt</td>\n",
       "      <td>Statyczny algorytm Huffmana</td>\n",
       "      <td>0.129274</td>\n",
       "      <td>10265</td>\n",
       "      <td>8938</td>\n",
       "    </tr>\n",
       "    <tr>\n",
       "      <th>2</th>\n",
       "      <td>test/all100K.txt</td>\n",
       "      <td>Statyczny algorytm Huffmana</td>\n",
       "      <td>0.129552</td>\n",
       "      <td>102530</td>\n",
       "      <td>89247</td>\n",
       "    </tr>\n",
       "    <tr>\n",
       "      <th>3</th>\n",
       "      <td>test/all1M.txt</td>\n",
       "      <td>Statyczny algorytm Huffmana</td>\n",
       "      <td>0.129570</td>\n",
       "      <td>1025300</td>\n",
       "      <td>892452</td>\n",
       "    </tr>\n",
       "    <tr>\n",
       "      <th>4</th>\n",
       "      <td>test/plik1K.txt</td>\n",
       "      <td>Statyczny algorytm Huffmana</td>\n",
       "      <td>0.387855</td>\n",
       "      <td>1021</td>\n",
       "      <td>625</td>\n",
       "    </tr>\n",
       "    <tr>\n",
       "      <th>5</th>\n",
       "      <td>test/plik10K.txt</td>\n",
       "      <td>Statyczny algorytm Huffmana</td>\n",
       "      <td>0.385615</td>\n",
       "      <td>8161</td>\n",
       "      <td>5014</td>\n",
       "    </tr>\n",
       "    <tr>\n",
       "      <th>6</th>\n",
       "      <td>test/plik100K.txt</td>\n",
       "      <td>Statyczny algorytm Huffmana</td>\n",
       "      <td>0.452473</td>\n",
       "      <td>103237</td>\n",
       "      <td>56525</td>\n",
       "    </tr>\n",
       "    <tr>\n",
       "      <th>7</th>\n",
       "      <td>test/plik1M.txt</td>\n",
       "      <td>Statyczny algorytm Huffmana</td>\n",
       "      <td>0.431150</td>\n",
       "      <td>1029780</td>\n",
       "      <td>585790</td>\n",
       "    </tr>\n",
       "    <tr>\n",
       "      <th>8</th>\n",
       "      <td>test/linux1K.txt</td>\n",
       "      <td>Statyczny algorytm Huffmana</td>\n",
       "      <td>0.361391</td>\n",
       "      <td>1093</td>\n",
       "      <td>698</td>\n",
       "    </tr>\n",
       "    <tr>\n",
       "      <th>9</th>\n",
       "      <td>test/linux10K.txt</td>\n",
       "      <td>Statyczny algorytm Huffmana</td>\n",
       "      <td>0.343721</td>\n",
       "      <td>9755</td>\n",
       "      <td>6402</td>\n",
       "    </tr>\n",
       "    <tr>\n",
       "      <th>10</th>\n",
       "      <td>test/linux100K.txt</td>\n",
       "      <td>Statyczny algorytm Huffmana</td>\n",
       "      <td>0.348737</td>\n",
       "      <td>103978</td>\n",
       "      <td>67717</td>\n",
       "    </tr>\n",
       "    <tr>\n",
       "      <th>11</th>\n",
       "      <td>test/linux1M.txt</td>\n",
       "      <td>Statyczny algorytm Huffmana</td>\n",
       "      <td>0.348750</td>\n",
       "      <td>1039780</td>\n",
       "      <td>677157</td>\n",
       "    </tr>\n",
       "  </tbody>\n",
       "</table>\n",
       "</div>"
      ],
      "text/plain": [
       "           Nazwa pliku                       Metoda  Współczynnik kompresji  \\\n",
       "0       test/all1K.txt  Statyczny algorytm Huffmana                0.127791   \n",
       "1      test/all10K.txt  Statyczny algorytm Huffmana                0.129274   \n",
       "2     test/all100K.txt  Statyczny algorytm Huffmana                0.129552   \n",
       "3       test/all1M.txt  Statyczny algorytm Huffmana                0.129570   \n",
       "4      test/plik1K.txt  Statyczny algorytm Huffmana                0.387855   \n",
       "5     test/plik10K.txt  Statyczny algorytm Huffmana                0.385615   \n",
       "6    test/plik100K.txt  Statyczny algorytm Huffmana                0.452473   \n",
       "7      test/plik1M.txt  Statyczny algorytm Huffmana                0.431150   \n",
       "8     test/linux1K.txt  Statyczny algorytm Huffmana                0.361391   \n",
       "9    test/linux10K.txt  Statyczny algorytm Huffmana                0.343721   \n",
       "10  test/linux100K.txt  Statyczny algorytm Huffmana                0.348737   \n",
       "11    test/linux1M.txt  Statyczny algorytm Huffmana                0.348750   \n",
       "\n",
       "    Przed kompresją  Po kompresji  \n",
       "0              1299          1133  \n",
       "1             10265          8938  \n",
       "2            102530         89247  \n",
       "3           1025300        892452  \n",
       "4              1021           625  \n",
       "5              8161          5014  \n",
       "6            103237         56525  \n",
       "7           1029780        585790  \n",
       "8              1093           698  \n",
       "9              9755          6402  \n",
       "10           103978         67717  \n",
       "11          1039780        677157  "
      ]
     },
     "execution_count": 21,
     "metadata": {},
     "output_type": "execute_result"
    }
   ],
   "source": [
    "df = get_frame(\"Statyczny algorytm Huffmana\", static_huffman_encode_file)\n",
    "df"
   ]
  },
  {
   "cell_type": "markdown",
   "id": "2cad83d6",
   "metadata": {},
   "source": [
    "## Dynamiczne kodowanie Huffmana"
   ]
  },
  {
   "cell_type": "code",
   "execution_count": 22,
   "id": "e1284963",
   "metadata": {},
   "outputs": [
    {
     "data": {
      "text/html": [
       "<div>\n",
       "<style scoped>\n",
       "    .dataframe tbody tr th:only-of-type {\n",
       "        vertical-align: middle;\n",
       "    }\n",
       "\n",
       "    .dataframe tbody tr th {\n",
       "        vertical-align: top;\n",
       "    }\n",
       "\n",
       "    .dataframe thead th {\n",
       "        text-align: right;\n",
       "    }\n",
       "</style>\n",
       "<table border=\"1\" class=\"dataframe\">\n",
       "  <thead>\n",
       "    <tr style=\"text-align: right;\">\n",
       "      <th></th>\n",
       "      <th>Nazwa pliku</th>\n",
       "      <th>Metoda</th>\n",
       "      <th>Współczynnik kompresji</th>\n",
       "      <th>Przed kompresją</th>\n",
       "      <th>Po kompresji</th>\n",
       "    </tr>\n",
       "  </thead>\n",
       "  <tbody>\n",
       "    <tr>\n",
       "      <th>0</th>\n",
       "      <td>test/all1K.txt</td>\n",
       "      <td>Dynamiczny algorytm Huffmana</td>\n",
       "      <td>0.127791</td>\n",
       "      <td>1299</td>\n",
       "      <td>1133</td>\n",
       "    </tr>\n",
       "    <tr>\n",
       "      <th>1</th>\n",
       "      <td>test/all10K.txt</td>\n",
       "      <td>Dynamiczny algorytm Huffmana</td>\n",
       "      <td>0.129274</td>\n",
       "      <td>10265</td>\n",
       "      <td>8938</td>\n",
       "    </tr>\n",
       "    <tr>\n",
       "      <th>2</th>\n",
       "      <td>test/all100K.txt</td>\n",
       "      <td>Dynamiczny algorytm Huffmana</td>\n",
       "      <td>0.129552</td>\n",
       "      <td>102530</td>\n",
       "      <td>89247</td>\n",
       "    </tr>\n",
       "    <tr>\n",
       "      <th>3</th>\n",
       "      <td>test/all1M.txt</td>\n",
       "      <td>Dynamiczny algorytm Huffmana</td>\n",
       "      <td>0.129570</td>\n",
       "      <td>1025300</td>\n",
       "      <td>892452</td>\n",
       "    </tr>\n",
       "    <tr>\n",
       "      <th>4</th>\n",
       "      <td>test/plik1K.txt</td>\n",
       "      <td>Dynamiczny algorytm Huffmana</td>\n",
       "      <td>0.387855</td>\n",
       "      <td>1021</td>\n",
       "      <td>625</td>\n",
       "    </tr>\n",
       "    <tr>\n",
       "      <th>5</th>\n",
       "      <td>test/plik10K.txt</td>\n",
       "      <td>Dynamiczny algorytm Huffmana</td>\n",
       "      <td>0.385615</td>\n",
       "      <td>8161</td>\n",
       "      <td>5014</td>\n",
       "    </tr>\n",
       "    <tr>\n",
       "      <th>6</th>\n",
       "      <td>test/plik100K.txt</td>\n",
       "      <td>Dynamiczny algorytm Huffmana</td>\n",
       "      <td>0.452473</td>\n",
       "      <td>103237</td>\n",
       "      <td>56525</td>\n",
       "    </tr>\n",
       "    <tr>\n",
       "      <th>7</th>\n",
       "      <td>test/plik1M.txt</td>\n",
       "      <td>Dynamiczny algorytm Huffmana</td>\n",
       "      <td>0.431150</td>\n",
       "      <td>1029780</td>\n",
       "      <td>585790</td>\n",
       "    </tr>\n",
       "    <tr>\n",
       "      <th>8</th>\n",
       "      <td>test/linux1K.txt</td>\n",
       "      <td>Dynamiczny algorytm Huffmana</td>\n",
       "      <td>0.361391</td>\n",
       "      <td>1093</td>\n",
       "      <td>698</td>\n",
       "    </tr>\n",
       "    <tr>\n",
       "      <th>9</th>\n",
       "      <td>test/linux10K.txt</td>\n",
       "      <td>Dynamiczny algorytm Huffmana</td>\n",
       "      <td>0.343721</td>\n",
       "      <td>9755</td>\n",
       "      <td>6402</td>\n",
       "    </tr>\n",
       "    <tr>\n",
       "      <th>10</th>\n",
       "      <td>test/linux100K.txt</td>\n",
       "      <td>Dynamiczny algorytm Huffmana</td>\n",
       "      <td>0.348737</td>\n",
       "      <td>103978</td>\n",
       "      <td>67717</td>\n",
       "    </tr>\n",
       "    <tr>\n",
       "      <th>11</th>\n",
       "      <td>test/linux1M.txt</td>\n",
       "      <td>Dynamiczny algorytm Huffmana</td>\n",
       "      <td>0.348750</td>\n",
       "      <td>1039780</td>\n",
       "      <td>677157</td>\n",
       "    </tr>\n",
       "  </tbody>\n",
       "</table>\n",
       "</div>"
      ],
      "text/plain": [
       "           Nazwa pliku                        Metoda  Współczynnik kompresji  \\\n",
       "0       test/all1K.txt  Dynamiczny algorytm Huffmana                0.127791   \n",
       "1      test/all10K.txt  Dynamiczny algorytm Huffmana                0.129274   \n",
       "2     test/all100K.txt  Dynamiczny algorytm Huffmana                0.129552   \n",
       "3       test/all1M.txt  Dynamiczny algorytm Huffmana                0.129570   \n",
       "4      test/plik1K.txt  Dynamiczny algorytm Huffmana                0.387855   \n",
       "5     test/plik10K.txt  Dynamiczny algorytm Huffmana                0.385615   \n",
       "6    test/plik100K.txt  Dynamiczny algorytm Huffmana                0.452473   \n",
       "7      test/plik1M.txt  Dynamiczny algorytm Huffmana                0.431150   \n",
       "8     test/linux1K.txt  Dynamiczny algorytm Huffmana                0.361391   \n",
       "9    test/linux10K.txt  Dynamiczny algorytm Huffmana                0.343721   \n",
       "10  test/linux100K.txt  Dynamiczny algorytm Huffmana                0.348737   \n",
       "11    test/linux1M.txt  Dynamiczny algorytm Huffmana                0.348750   \n",
       "\n",
       "    Przed kompresją  Po kompresji  \n",
       "0              1299          1133  \n",
       "1             10265          8938  \n",
       "2            102530         89247  \n",
       "3           1025300        892452  \n",
       "4              1021           625  \n",
       "5              8161          5014  \n",
       "6            103237         56525  \n",
       "7           1029780        585790  \n",
       "8              1093           698  \n",
       "9              9755          6402  \n",
       "10           103978         67717  \n",
       "11          1039780        677157  "
      ]
     },
     "execution_count": 22,
     "metadata": {},
     "output_type": "execute_result"
    }
   ],
   "source": [
    "df = get_frame(\"Dynamiczny algorytm Huffmana\", dynamic_huffman_encode_file)\n",
    "df"
   ]
  },
  {
   "cell_type": "markdown",
   "id": "17db34c7",
   "metadata": {},
   "source": [
    "# Zmierzyć czas kompresji i dekompresji dla plików z punktu 3."
   ]
  },
  {
   "cell_type": "markdown",
   "id": "add56756",
   "metadata": {},
   "source": [
    "Pomocnicze funkcje:"
   ]
  },
  {
   "cell_type": "code",
   "execution_count": 27,
   "id": "275bbbf6",
   "metadata": {},
   "outputs": [],
   "source": [
    "def check_time(encode, decode):\n",
    "    decompression_time = []\n",
    "    compression_time = []\n",
    "\n",
    "    id_ = 3 if encode == static_huffman_encode_file else 4\n",
    "    \n",
    "    for file in all_files:\n",
    "        with open(file, 'r') as f:\n",
    "            \n",
    "            file_name = \"result_\" + str(random.randint(1,200)) + str(id_)\n",
    "            \n",
    "            content = f.read()\n",
    "            start = time.time()\n",
    "            root, encoded_file = encode(content, file_name)\n",
    "            end = time.time()\n",
    "            \n",
    "            compression_time.append(end-start)\n",
    "            \n",
    "            start = time.time()\n",
    "            decode(file_name, root)\n",
    "            end = time.time()\n",
    "            \n",
    "            decompression_time.append(end-start)\n",
    "            \n",
    "    return compression_time, decompression_time"
   ]
  },
  {
   "cell_type": "markdown",
   "id": "d833bbac",
   "metadata": {},
   "source": [
    "testowanie:"
   ]
  },
  {
   "cell_type": "code",
   "execution_count": 28,
   "id": "890b1384",
   "metadata": {},
   "outputs": [
    {
     "data": {
      "text/html": [
       "<div>\n",
       "<style scoped>\n",
       "    .dataframe tbody tr th:only-of-type {\n",
       "        vertical-align: middle;\n",
       "    }\n",
       "\n",
       "    .dataframe tbody tr th {\n",
       "        vertical-align: top;\n",
       "    }\n",
       "\n",
       "    .dataframe thead th {\n",
       "        text-align: right;\n",
       "    }\n",
       "</style>\n",
       "<table border=\"1\" class=\"dataframe\">\n",
       "  <thead>\n",
       "    <tr style=\"text-align: right;\">\n",
       "      <th></th>\n",
       "      <th>Nazwa pliku</th>\n",
       "      <th>Czas kompresji dla statycznego Huffmana</th>\n",
       "      <th>Czas dekompresji dla statycznego Huffmana</th>\n",
       "      <th>Czas kompresji dla dynamicznego Huffmana</th>\n",
       "      <th>Czas dekompresji dla dynamicznego Huffmana</th>\n",
       "    </tr>\n",
       "  </thead>\n",
       "  <tbody>\n",
       "    <tr>\n",
       "      <th>0</th>\n",
       "      <td>test/all1K.txt</td>\n",
       "      <td>0.004541</td>\n",
       "      <td>0.002246</td>\n",
       "      <td>0.009131</td>\n",
       "      <td>0.002287</td>\n",
       "    </tr>\n",
       "    <tr>\n",
       "      <th>1</th>\n",
       "      <td>test/all10K.txt</td>\n",
       "      <td>0.011848</td>\n",
       "      <td>0.017502</td>\n",
       "      <td>0.055961</td>\n",
       "      <td>0.017625</td>\n",
       "    </tr>\n",
       "    <tr>\n",
       "      <th>2</th>\n",
       "      <td>test/all100K.txt</td>\n",
       "      <td>0.097617</td>\n",
       "      <td>0.181615</td>\n",
       "      <td>0.543872</td>\n",
       "      <td>0.175473</td>\n",
       "    </tr>\n",
       "    <tr>\n",
       "      <th>3</th>\n",
       "      <td>test/all1M.txt</td>\n",
       "      <td>0.959737</td>\n",
       "      <td>1.845948</td>\n",
       "      <td>5.429621</td>\n",
       "      <td>1.772790</td>\n",
       "    </tr>\n",
       "    <tr>\n",
       "      <th>4</th>\n",
       "      <td>test/plik1K.txt</td>\n",
       "      <td>0.001651</td>\n",
       "      <td>0.001334</td>\n",
       "      <td>0.004820</td>\n",
       "      <td>0.001826</td>\n",
       "    </tr>\n",
       "    <tr>\n",
       "      <th>5</th>\n",
       "      <td>test/plik10K.txt</td>\n",
       "      <td>0.007341</td>\n",
       "      <td>0.010345</td>\n",
       "      <td>0.039518</td>\n",
       "      <td>0.009834</td>\n",
       "    </tr>\n",
       "    <tr>\n",
       "      <th>6</th>\n",
       "      <td>test/plik100K.txt</td>\n",
       "      <td>0.073041</td>\n",
       "      <td>0.122767</td>\n",
       "      <td>0.409812</td>\n",
       "      <td>0.116901</td>\n",
       "    </tr>\n",
       "    <tr>\n",
       "      <th>7</th>\n",
       "      <td>test/plik1M.txt</td>\n",
       "      <td>0.721972</td>\n",
       "      <td>1.261340</td>\n",
       "      <td>4.187400</td>\n",
       "      <td>1.272867</td>\n",
       "    </tr>\n",
       "    <tr>\n",
       "      <th>8</th>\n",
       "      <td>test/linux1K.txt</td>\n",
       "      <td>0.002097</td>\n",
       "      <td>0.001444</td>\n",
       "      <td>0.005424</td>\n",
       "      <td>0.001427</td>\n",
       "    </tr>\n",
       "    <tr>\n",
       "      <th>9</th>\n",
       "      <td>test/linux10K.txt</td>\n",
       "      <td>0.008980</td>\n",
       "      <td>0.013475</td>\n",
       "      <td>0.043980</td>\n",
       "      <td>0.012638</td>\n",
       "    </tr>\n",
       "    <tr>\n",
       "      <th>10</th>\n",
       "      <td>test/linux100K.txt</td>\n",
       "      <td>0.080065</td>\n",
       "      <td>0.143997</td>\n",
       "      <td>0.459443</td>\n",
       "      <td>0.136568</td>\n",
       "    </tr>\n",
       "    <tr>\n",
       "      <th>11</th>\n",
       "      <td>test/linux1M.txt</td>\n",
       "      <td>0.824496</td>\n",
       "      <td>1.423760</td>\n",
       "      <td>4.598855</td>\n",
       "      <td>1.395754</td>\n",
       "    </tr>\n",
       "  </tbody>\n",
       "</table>\n",
       "</div>"
      ],
      "text/plain": [
       "           Nazwa pliku  Czas kompresji dla statycznego Huffmana  \\\n",
       "0       test/all1K.txt                                 0.004541   \n",
       "1      test/all10K.txt                                 0.011848   \n",
       "2     test/all100K.txt                                 0.097617   \n",
       "3       test/all1M.txt                                 0.959737   \n",
       "4      test/plik1K.txt                                 0.001651   \n",
       "5     test/plik10K.txt                                 0.007341   \n",
       "6    test/plik100K.txt                                 0.073041   \n",
       "7      test/plik1M.txt                                 0.721972   \n",
       "8     test/linux1K.txt                                 0.002097   \n",
       "9    test/linux10K.txt                                 0.008980   \n",
       "10  test/linux100K.txt                                 0.080065   \n",
       "11    test/linux1M.txt                                 0.824496   \n",
       "\n",
       "    Czas dekompresji dla statycznego Huffmana  \\\n",
       "0                                    0.002246   \n",
       "1                                    0.017502   \n",
       "2                                    0.181615   \n",
       "3                                    1.845948   \n",
       "4                                    0.001334   \n",
       "5                                    0.010345   \n",
       "6                                    0.122767   \n",
       "7                                    1.261340   \n",
       "8                                    0.001444   \n",
       "9                                    0.013475   \n",
       "10                                   0.143997   \n",
       "11                                   1.423760   \n",
       "\n",
       "    Czas kompresji dla dynamicznego Huffmana  \\\n",
       "0                                   0.009131   \n",
       "1                                   0.055961   \n",
       "2                                   0.543872   \n",
       "3                                   5.429621   \n",
       "4                                   0.004820   \n",
       "5                                   0.039518   \n",
       "6                                   0.409812   \n",
       "7                                   4.187400   \n",
       "8                                   0.005424   \n",
       "9                                   0.043980   \n",
       "10                                  0.459443   \n",
       "11                                  4.598855   \n",
       "\n",
       "    Czas dekompresji dla dynamicznego Huffmana  \n",
       "0                                     0.002287  \n",
       "1                                     0.017625  \n",
       "2                                     0.175473  \n",
       "3                                     1.772790  \n",
       "4                                     0.001826  \n",
       "5                                     0.009834  \n",
       "6                                     0.116901  \n",
       "7                                     1.272867  \n",
       "8                                     0.001427  \n",
       "9                                     0.012638  \n",
       "10                                    0.136568  \n",
       "11                                    1.395754  "
      ]
     },
     "execution_count": 28,
     "metadata": {},
     "output_type": "execute_result"
    }
   ],
   "source": [
    "def test_all():\n",
    "    compression_time, decompression_time = check_time(static_huffman_encode_file, static_huffman_decode_file)\n",
    "    df1 = pd.DataFrame()\n",
    "    df1['Nazwa pliku'] = all_files\n",
    "    df1[\"Czas kompresji dla statycznego Huffmana\"] = compression_time\n",
    "    df1[\"Czas dekompresji dla statycznego Huffmana\"] = decompression_time\n",
    "    \n",
    "    compression_time, decompression_time = check_time(dynamic_huffman_encode_file, dynamic_huffman_decode_file)\n",
    "    df1[\"Czas kompresji dla dynamicznego Huffmana\"] = compression_time\n",
    "    df1[\"Czas dekompresji dla dynamicznego Huffmana\"] = decompression_time\n",
    "    \n",
    "    return df1\n",
    "\n",
    "df1 = test_all()\n",
    "df1"
   ]
  },
  {
   "cell_type": "markdown",
   "id": "91eda2f6",
   "metadata": {},
   "source": [
    "## Wykres:"
   ]
  },
  {
   "cell_type": "markdown",
   "id": "e8d1065d",
   "metadata": {},
   "source": [
    "### Czas kompresji:"
   ]
  },
  {
   "cell_type": "code",
   "execution_count": 40,
   "id": "4625e2ef",
   "metadata": {},
   "outputs": [
    {
     "data": {
      "image/png": "[encoded data removed]",
      "text/plain": [
       "<Figure size 1116x576 with 1 Axes>"
      ]
     },
     "metadata": {
      "needs_background": "light"
     },
     "output_type": "display_data"
    }
   ],
   "source": [
    "fig, ax = plt.subplots(figsize=(15.5, 8))\n",
    "\n",
    "ax.bar(df1[\"Nazwa pliku\"], df1[\"Czas kompresji dla dynamicznego Huffmana\"], label=\"Czas kompresji dla dynamicznego Huffmana\")\n",
    "ax.bar(df1[\"Nazwa pliku\"], df1[\"Czas kompresji dla statycznego Huffmana\"], label=\"Czas kompresji dla statycznego Huffmana\")\n",
    "\n",
    "ax.set_title(\"Czasy kompresji dla dynamicznego i statycznego kodowania Huffmana\")\n",
    "ax.set_xlabel(\"nazwa pliku\")\n",
    "ax.set_ylabel(\"Czas\")\n",
    "ax.legend()\n",
    "\n",
    "plt.show()"
   ]
  },
  {
   "cell_type": "markdown",
   "id": "5138766c",
   "metadata": {},
   "source": [
    "### Czas dekompresji"
   ]
  },
  {
   "cell_type": "code",
   "execution_count": 39,
   "id": "df9fa2f1",
   "metadata": {},
   "outputs": [
    {
     "data": {
      "image/png": "[encoded data removed]",
      "text/plain": [
       "<Figure size 1116x576 with 1 Axes>"
      ]
     },
     "metadata": {
      "needs_background": "light"
     },
     "output_type": "display_data"
    }
   ],
   "source": [
    "fig, ax = plt.subplots(figsize=(15.5, 8))\n",
    "\n",
    "ax.bar(df1[\"Nazwa pliku\"], df1[\"Czas dekompresji dla statycznego Huffmana\"], label=\"Czas dekompresji dla statycznego Huffmana\")\n",
    "ax.bar(df1[\"Nazwa pliku\"], df1[\"Czas dekompresji dla dynamicznego Huffmana\"], label=\"Czas dekompresji dla dynamicznego Huffmana\")\n",
    "\n",
    "ax.set_title(\"Czasy dekompresji dla dynamicznego i statycznego kodowania Huffmana\")\n",
    "ax.set_xlabel(\"nazwa pliku\")\n",
    "ax.set_ylabel(\"Czas\")\n",
    "ax.legend()\n",
    "\n",
    "plt.show()"
   ]
  },
  {
   "cell_type": "markdown",
   "id": "756fe81a",
   "metadata": {},
   "source": [
    "# Wnioski: "
   ]
  },
  {
   "cell_type": "markdown",
   "id": "fe0381bf",
   "metadata": {},
   "source": [
    "<ol> \n",
    "    <li> Dla wszystkich sprawdzanych przypadków zaimplementowane algorytmy kodowania oraz dekodowania Huffmana zadziałały poprawnie i wyniki były zgodne z oczekiwanymi. Tekst otrzymany po dekodowaniu był równy tekstowi otrzymanemu na wejściu. </li>\n",
    "    <li> Patrząc na uzyskane wyniki w tabeli oraz wykresy nasuwa się wniosek, że algorytmowi \"dynamicznemu\" o wiele dłużej zajmuje kompresja, natomiast wypada on odrobinę lepiej dla większych plików w przypadku dekompresji. </li>\n",
    "    <li>Ostatecznie wybór między statycznym a dynamicznym kodowaniem Huffmana zależy od charakterystyki danych, które chcemy kompresować. Dynamiczne kodowanie Huffmana jest użyteczne, gdy nie znamy częstości występowania symboli na wstępie i potrzebujemy przetwarzać dane na bieżąco. Statyczne kodowanie Huffmana jest dobrym wyborem, gdy dysponujemy dokładną wiedzą na temat częstości występowania symboli w zbiorze danych.  </li>\n",
    "    \n",
    "</ol>"
   ]
  }
 ],
 "metadata": {
  "kernelspec": {
   "display_name": "Python 3 (ipykernel)",
   "language": "python",
   "name": "python3"
  },
  "language_info": {
   "codemirror_mode": {
    "name": "ipython",
    "version": 3
   },
   "file_extension": ".py",
   "mimetype": "text/x-python",
   "name": "python",
   "nbconvert_exporter": "python",
   "pygments_lexer": "ipython3",
   "version": "3.9.12"
  }
 },
 "nbformat": 4,
 "nbformat_minor": 5
}
