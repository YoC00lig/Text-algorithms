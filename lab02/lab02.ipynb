{
 "cells": [
  {
   "cell_type": "markdown",
   "id": "c50e3fd5",
   "metadata": {},
   "source": [
    "# Algorytmy tekstowe - laboraorium 2"
   ]
  },
  {
   "cell_type": "markdown",
   "id": "fa7cecb0",
   "metadata": {},
   "source": [
    "# 1. Zadanie polega na implementacji dwóch algorytmów kompresji:\n",
    "\n",
    "### 1. statycznego algorytmu Huffmana (2 p)"
   ]
  },
  {
   "cell_type": "code",
   "execution_count": 35,
   "id": "01c38214",
   "metadata": {},
   "outputs": [],
   "source": [
    "from queue import PriorityQueue\n",
    "from collections import Counter\n",
    "\n",
    "class Node:\n",
    "    def __init__(self, frequency, sign=None):\n",
    "        self.frequency = frequency\n",
    "        self.sign = sign\n",
    "        self.left = None\n",
    "        self.right = None\n",
    "\n",
    "    def __lt__(self, other):\n",
    "        return self.frequency < other.frequency\n",
    "\n",
    "\n",
    "def build_tree(signs):\n",
    "    frequencies = Counter(signs)\n",
    "    nodes = [Node(frequencies[sign], sign) for sign in frequencies]\n",
    "    pq = PriorityQueue()\n",
    "    root = None\n",
    "    \n",
    "    for node in nodes:\n",
    "        pq.put(node)\n",
    "    \n",
    "    while True:\n",
    "        left = pq.get()\n",
    "        right = pq.get()\n",
    "        parent = Node(left.frequency + right.frequency)\n",
    "        parent.left, parent.right = left, right\n",
    "        pq.put(parent)\n",
    "        \n",
    "        if pq.qsize() == 1: # root\n",
    "            root = pq.get()\n",
    "            break\n",
    "\n",
    "    return root\n",
    "\n",
    "\n",
    "def build_code_table(node, codes = {}, code = \"\"):\n",
    "    if node.sign is not None:\n",
    "        codes[node.sign] = code\n",
    "        \n",
    "    if node.left is not None:\n",
    "        build_code_table(node.left, codes, code + \"0\")\n",
    "    if node.right is not None:\n",
    "        build_code_table(node.right, codes, code + \"1\")\n",
    "\n",
    "    return codes\n",
    "\n",
    "def static_huffman_encode(data):\n",
    "    root = build_tree(data)\n",
    "    codes = build_code_table(root)\n",
    "    \n",
    "    result = \"\"\n",
    "    \n",
    "    for sign in data:\n",
    "        result += codes[sign]\n",
    "        \n",
    "    return result, root\n",
    "\n",
    "def static_huffman_decode(encoded_data, root):\n",
    "    decoded_data = \"\"\n",
    "    node = root\n",
    "\n",
    "    for bit in encoded_data:\n",
    "        if bit == \"1\": node = node.right\n",
    "        else: node = node.left\n",
    "\n",
    "        if node.sign is not None:\n",
    "            decoded_data += node.sign\n",
    "            node = root\n",
    "\n",
    "    return decoded_data"
   ]
  },
  {
   "cell_type": "markdown",
   "id": "7902c042",
   "metadata": {},
   "source": [
    "Test działnia:"
   ]
  },
  {
   "cell_type": "code",
   "execution_count": 36,
   "id": "1a5862ec",
   "metadata": {},
   "outputs": [
    {
     "name": "stdout",
     "output_type": "stream",
     "text": [
      "Encoded data: 01111100100010101111100\n",
      "Is implemented correctly?: True\n"
     ]
    }
   ],
   "source": [
    "data = \"abracadabra\"\n",
    "result, root = static_huffman_encode(data)\n",
    "print(\"Encoded data: \" + result)\n",
    "print(\"Is implemented correctly?: \" + str(data == static_huffman_decode(result, root)))"
   ]
  },
  {
   "cell_type": "markdown",
   "id": "d40bb183",
   "metadata": {},
   "source": [
    "### 2. dynamicznego algorytmu Huffmana (3 p)"
   ]
  },
  {
   "cell_type": "code",
   "execution_count": 53,
   "id": "c30a797f",
   "metadata": {},
   "outputs": [],
   "source": [
    "class Node:\n",
    "    def __init__(self, sign=None, weight=0, parent=None, left=None, right=None):\n",
    "        self.sign = sign\n",
    "        self.weight = weight\n",
    "        self.parent = parent\n",
    "        self.left = left\n",
    "        self.right = right\n",
    "\n",
    "def update_tree(node): # przechodzenie po drzewie metoda bottom-up\n",
    "    parent = node.parent\n",
    "    \n",
    "    if parent is None: # mamy korzeń - koniec rekurencji, nie trzeba już nic poprawiać\n",
    "        return\n",
    "    \n",
    "    nodes = [parent.left, parent.right]\n",
    "    \n",
    "    if nodes[0].weight > nodes[1].weight or nodes[0] is not node:\n",
    "        nodes[0], nodes[1] = nodes[1], nodes[0]\n",
    "        \n",
    "    update_tree(parent)\n",
    "\n",
    "def get_code(node):\n",
    "    code = []\n",
    "    while node.parent is not None:\n",
    "        if node == node.parent.left:\n",
    "            code.append('0')\n",
    "        else:\n",
    "            code.append('1')\n",
    "        node = node.parent\n",
    "    return list(reversed(code))\n",
    "\n",
    "def build_tree(data):\n",
    "    symbol_nodes = {}\n",
    "    for sign in data:\n",
    "        symbol_nodes[sign] = symbol_nodes.get(sign, Node(sign, 0))\n",
    "        symbol_nodes[sign].weight += 1\n",
    "\n",
    "    leaves = list(symbol_nodes.values())\n",
    "    \n",
    "    while len(leaves) > 1:\n",
    "        leaves.sort(key=lambda n: (n.weight, id(n)))\n",
    "        left, right = leaves.pop(0), leaves.pop(0)\n",
    "        parent = Node(left.weight + right.weight, left, right)\n",
    "        left.parent = right.parent = parent\n",
    "        leaves.append(parent)\n",
    "    \n",
    "    return leaves[0], symbol_nodes\n",
    "\n",
    "## kodowanie i dekodowanie\n",
    "def dynamic_huffman_encode(data):\n",
    "    root, symbol_nodes = build_tree(data)\n",
    "    bits = []\n",
    "    for sign in data:\n",
    "        bits.extend(get_code(symbol_nodes[sign]))\n",
    "    return ''.join(bits), root\n",
    "\n",
    "def dynamic_huffman_decode(bits, root):\n",
    "    current = root\n",
    "    signs = []\n",
    "    for bit in bits:\n",
    "        if bit == '0': current = current.left\n",
    "        else: current = current.right\n",
    "            \n",
    "        if current.sign is not None:\n",
    "            signs.append(current.sign)\n",
    "            current = root\n",
    "            \n",
    "    return ''.join(signs)"
   ]
  },
  {
   "cell_type": "markdown",
   "id": "90515916",
   "metadata": {},
   "source": [
    "Test działania:"
   ]
  },
  {
   "cell_type": "code",
   "execution_count": 54,
   "id": "6f87285e",
   "metadata": {},
   "outputs": [
    {
     "name": "stdout",
     "output_type": "stream",
     "text": [
      "Encoded data: 01111100100010101111100\n",
      "Is implemented correctly?: True\n"
     ]
    }
   ],
   "source": [
    "data = \"abracadabra\"\n",
    "result, root = dynamic_huffman_encode(data)\n",
    "print(\"Encoded data: \" + result)\n",
    "print(\"Is implemented correctly?: \" + str(data == dynamic_huffman_decode(result, root)))"
   ]
  },
  {
   "cell_type": "code",
   "execution_count": null,
   "id": "43d2e616",
   "metadata": {},
   "outputs": [],
   "source": []
  }
 ],
 "metadata": {
  "kernelspec": {
   "display_name": "Python 3 (ipykernel)",
   "language": "python",
   "name": "python3"
  },
  "language_info": {
   "codemirror_mode": {
    "name": "ipython",
    "version": 3
   },
   "file_extension": ".py",
   "mimetype": "text/x-python",
   "name": "python",
   "nbconvert_exporter": "python",
   "pygments_lexer": "ipython3",
   "version": "3.9.12"
  }
 },
 "nbformat": 4,
 "nbformat_minor": 5
}
