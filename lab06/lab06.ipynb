{
 "cells": [
  {
   "cell_type": "code",
   "execution_count": 3,
   "id": "218d4e66",
   "metadata": {},
   "outputs": [],
   "source": [
    "import random\n",
    "import string\n",
    "import time"
   ]
  },
  {
   "cell_type": "markdown",
   "id": "b2ff50a3",
   "metadata": {},
   "source": [
    "# 1. Przyjmij następujący zbiór danych wejściowych:"
   ]
  },
  {
   "cell_type": "code",
   "execution_count": 4,
   "id": "f8277ef5",
   "metadata": {},
   "outputs": [],
   "source": [
    "data1 = \"bbb$\"\n",
    "data2 = \"aabbabd\"\n",
    "data3 = \"ababcd\"\n",
    "data4 = \"abaababaabaabaabab$\"\n",
    "data5 = ''.join(random.choices(string.ascii_lowercase, k=100))\n",
    "data6 = None\n",
    "\n",
    "with open('1997_714_head.txt', 'r') as file:\n",
    "    data6 = file.read()"
   ]
  },
  {
   "cell_type": "markdown",
   "id": "597169ec",
   "metadata": {},
   "source": [
    "# 2. Upewnij się, że każdy łańcuch na końcu posiada unikalny znak (marker), a jeśli go nie ma, to dodaj ten znak."
   ]
  },
  {
   "cell_type": "code",
   "execution_count": 5,
   "id": "1beb8405",
   "metadata": {},
   "outputs": [
    {
     "name": "stdout",
     "output_type": "stream",
     "text": [
      "Before: abc\n",
      "After: abc$\n",
      "-------------------\n",
      "Before: abcd$\n",
      "After: abcd$\n",
      "-------------------\n"
     ]
    }
   ],
   "source": [
    "def marker_check(text, marker='$'):\n",
    "    lines = text.splitlines()\n",
    "    processed = []\n",
    "\n",
    "    for line in lines:\n",
    "        if not line.endswith(marker):\n",
    "            line += marker\n",
    "        processed.append(line)\n",
    "\n",
    "    return '\\n'.join(processed)\n",
    "\n",
    "\n",
    "test_data = \"abc\"\n",
    "print(\"Before: \" + test_data)\n",
    "processed_data = marker_check(test_data)\n",
    "print(\"After: \" + processed_data)\n",
    "print(\"-------------------\")\n",
    "\n",
    "test_data = \"abcd$\"\n",
    "print(\"Before: \" + test_data)\n",
    "processed_data = marker_check(test_data)\n",
    "print(\"After: \" + processed_data)\n",
    "print(\"-------------------\")\n"
   ]
  },
  {
   "cell_type": "markdown",
   "id": "ff8ed2ca",
   "metadata": {},
   "source": [
    "# 3. Zaimplementuj algorytm konstruujący strukturę trie, która przechowuje wszystkie sufiksy łańcucha danego na wejściu."
   ]
  },
  {
   "cell_type": "code",
   "execution_count": 14,
   "id": "6f686d03",
   "metadata": {},
   "outputs": [],
   "source": [
    "class TrieNode:\n",
    "    def __init__(self, parent=None):\n",
    "        self.parent = parent\n",
    "        self.children = {}\n",
    "\n",
    "class Trie:\n",
    "    def __init__(self, text):\n",
    "        self.root = TrieNode()\n",
    "        self.build(text)\n",
    "\n",
    "    def build(self, text):\n",
    "        n = len(text)\n",
    "        for i in range(n):\n",
    "            suffix = text[i:]\n",
    "            node = self.root\n",
    "            for char in suffix:\n",
    "                # jeśli nie ma takiej literki to trzeba stworzyć nowy node\n",
    "                if char not in node.children:\n",
    "                    new = TrieNode(node)\n",
    "                    node.children[char] = new\n",
    "                node = node.children[char]\n",
    "\n",
    "    def search(self, pattern):\n",
    "        node = self.root\n",
    "        for char in pattern:\n",
    "            if char not in node.children:\n",
    "                return False\n",
    "            node = node.children[char]\n",
    "        return True"
   ]
  },
  {
   "cell_type": "markdown",
   "id": "6e733d3c",
   "metadata": {},
   "source": [
    "# 4. Zaimplementuj algorytm konstruujący drzewo sufiksów."
   ]
  },
  {
   "cell_type": "code",
   "execution_count": 15,
   "id": "8d31a173",
   "metadata": {},
   "outputs": [],
   "source": [
    "#TODO"
   ]
  },
  {
   "cell_type": "markdown",
   "id": "34e98251",
   "metadata": {},
   "source": [
    "# 5. Upewnij się, że powstałe struktury danych są poprawne. Możesz np. sprawdzić, czy struktura zawiera jakiś ciąg znaków i porównać wyniki z algorytmem wyszukiwania wzorców."
   ]
  },
  {
   "cell_type": "markdown",
   "id": "e80c14f9",
   "metadata": {},
   "source": [
    "Algorytm wyszukiwania wzorców (Algorytm Knutha-Morrisa-Pratta) został wzięty z laboratorium pierwszego."
   ]
  },
  {
   "cell_type": "code",
   "execution_count": 16,
   "id": "3222713c",
   "metadata": {},
   "outputs": [],
   "source": [
    "def prefix_function(pattern):\n",
    "    m = len(pattern)\n",
    "    pi = [0] * m\n",
    "    k = 0\n",
    "\n",
    "    for q in range(1, m):\n",
    "        while k > 0 and pattern[k] != pattern[q]:\n",
    "            k = pi[k-1]\n",
    "        if pattern[k] == pattern[q]:\n",
    "            k += 1\n",
    "        pi[q] = k\n",
    "\n",
    "    return pi\n",
    "\n",
    "\n",
    "def KMP(text, pattern):\n",
    "    n = len(text)\n",
    "    m = len(pattern)\n",
    "    pi = prefix_function(pattern)\n",
    "    q = 0\n",
    "    result = []\n",
    "\n",
    "    for i in range(n):\n",
    "        while q > 0 and pattern[q] != text[i]:\n",
    "            q = pi[q-1]\n",
    "        if pattern[q] == text[i]:\n",
    "            q += 1\n",
    "        if q == m:\n",
    "            result.append(i - m + 1)\n",
    "            q = pi[q-1]\n",
    "\n",
    "    return result"
   ]
  },
  {
   "cell_type": "markdown",
   "id": "e990b57a",
   "metadata": {},
   "source": [
    "Funkcja testująca:"
   ]
  },
  {
   "cell_type": "code",
   "execution_count": 17,
   "id": "6d23f8e5",
   "metadata": {},
   "outputs": [
    {
     "name": "stdout",
     "output_type": "stream",
     "text": [
      "Znaleziono wzorzec.\n",
      "Znaleziono wzorzec.\n",
      "Znaleziono wzorzec.\n",
      "Znaleziono wzorzec.\n"
     ]
    }
   ],
   "source": [
    "def test_(text, pattern):\n",
    "    trie = Trie(text)\n",
    "    trie_occurrence = trie.search(pattern)\n",
    "    occ = KMP(text, pattern)\n",
    "    kmp_occurrence = len(occ) > 0\n",
    "    if kmp_occurrence and trie_occurrence:\n",
    "        print(\"Znaleziono wzorzec.\")\n",
    "    else:\n",
    "        print(\"Nie znaleziono wzorca.\")\n",
    "\n",
    "        \n",
    "test_(\"bananasbananas\", \"ananas\")\n",
    "test_(\"aaaaaaaaaa\", \"a\")\n",
    "test_(\"bananasbananas\", \"banana\")\n",
    "test_(\"asd\",\"sd\")"
   ]
  },
  {
   "cell_type": "markdown",
   "id": "72ca3012",
   "metadata": {},
   "source": [
    "# 6. Porównaj szybkość działania algorytmów konstruujących struktury danych dla danych z p. 1 w następujących wariantach:\n",
    "<ul>\n",
    "<li>Trie - w wariancie, w którym kolejne sufiksy dodawane są przez przeszukiwanie głowy od korzenia drzewa (1p.),</li>\n",
    "<li>Trie - w wariancie, w którym kolejne sufiksy dodawane są poprzez dodanie kolejnej litery tekstu (1p.),</li>\n",
    "    <li>Drzewo sufiksów - algorytm Ukkonena (3p).</li>\n",
    "    </ul>"
   ]
  },
  {
   "cell_type": "code",
   "execution_count": 18,
   "id": "7b2319bb",
   "metadata": {},
   "outputs": [
    {
     "name": "stdout",
     "output_type": "stream",
     "text": [
      "Tests for data1\n",
      "----------------------\n",
      "Czas konstrukcji Trie: 1.811981201171875e-05 s\n",
      "\n",
      "Tests for data2\n",
      "----------------------\n",
      "Czas konstrukcji Trie: 2.9325485229492188e-05 s\n",
      "\n",
      "Tests for data3\n",
      "----------------------\n",
      "Czas konstrukcji Trie: 2.4080276489257812e-05 s\n",
      "\n",
      "Tests for data4\n",
      "----------------------\n",
      "Czas konstrukcji Trie: 0.00028705596923828125 s\n",
      "\n",
      "Tests for data5\n",
      "----------------------\n",
      "Czas konstrukcji Trie: 0.007759809494018555 s\n",
      "\n",
      "Tests for data6\n",
      "----------------------\n",
      "Czas konstrukcji Trie: 16.79684615135193 s\n"
     ]
    }
   ],
   "source": [
    "# ad1: Trie - w wariancie, w którym kolejne sufiksy dodawane\n",
    "# są przez przeszukiwanie głowy od korzenia drzewa\n",
    "\n",
    "def measure_time(data):\n",
    "    start_time = time.time()\n",
    "    trie = Trie(data)\n",
    "    time_trie = time.time() - start_time\n",
    "    print(f\"Czas konstrukcji Trie: {time_trie} s\")\n",
    "    \n",
    "print(\"Tests for data1\")\n",
    "print(\"----------------------\")\n",
    "measure_time(data1)\n",
    "print(\"\")\n",
    "print(\"Tests for data2\")\n",
    "print(\"----------------------\")\n",
    "measure_time(data2)\n",
    "print(\"\")\n",
    "print(\"Tests for data3\")\n",
    "print(\"----------------------\")\n",
    "measure_time(data3)\n",
    "print(\"\")\n",
    "print(\"Tests for data4\")\n",
    "print(\"----------------------\")\n",
    "measure_time(data4)\n",
    "print(\"\")\n",
    "print(\"Tests for data5\")\n",
    "print(\"----------------------\")\n",
    "measure_time(data5)\n",
    "print(\"\")\n",
    "print(\"Tests for data6\")\n",
    "print(\"----------------------\")\n",
    "measure_time(data6)"
   ]
  }
 ],
 "metadata": {
  "kernelspec": {
   "display_name": "Python 3 (ipykernel)",
   "language": "python",
   "name": "python3"
  },
  "language_info": {
   "codemirror_mode": {
    "name": "ipython",
    "version": 3
   },
   "file_extension": ".py",
   "mimetype": "text/x-python",
   "name": "python",
   "nbconvert_exporter": "python",
   "pygments_lexer": "ipython3",
   "version": "3.9.12"
  }
 },
 "nbformat": 4,
 "nbformat_minor": 5
}
