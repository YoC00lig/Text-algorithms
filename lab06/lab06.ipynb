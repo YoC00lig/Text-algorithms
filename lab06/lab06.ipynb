{
 "cells": [
  {
   "cell_type": "code",
   "execution_count": 2,
   "id": "7877a2ca",
   "metadata": {},
   "outputs": [],
   "source": [
    "import random\n",
    "import string\n"
   ]
  },
  {
   "cell_type": "markdown",
   "id": "c23f01fb",
   "metadata": {},
   "source": [
    "# 1. Przyjmij następujący zbiór danych wejściowych:"
   ]
  },
  {
   "cell_type": "code",
   "execution_count": 42,
   "id": "6aa08755",
   "metadata": {},
   "outputs": [],
   "source": [
    "data1 = \"bbb$\"\n",
    "data2 = \"aabbabd\"\n",
    "data3 = \"ababcd\"\n",
    "data4 = \"abaababaabaabaabab$\"\n",
    "data5 = ''.join(random.choices(string.ascii_lowercase, k=100))\n",
    "data6 = None\n",
    "\n",
    "with open('1997_714_head.txt', 'r') as file:\n",
    "    data6 = file.read()"
   ]
  },
  {
   "cell_type": "markdown",
   "id": "ce05d071",
   "metadata": {},
   "source": [
    "# 2. Upewnij się, że każdy łańcuch na końcu posiada unikalny znak (marker), a jeśli go nie ma, to dodaj ten znak."
   ]
  },
  {
   "cell_type": "code",
   "execution_count": 43,
   "id": "aa667333",
   "metadata": {},
   "outputs": [],
   "source": [
    "def marker_check(text, marker='$'):\n",
    "    lines = text.splitlines()\n",
    "    processed = []\n",
    "    \n",
    "    for line in lines:\n",
    "        if not line.endswith(marker):\n",
    "            line += marker\n",
    "        if marker in line: # jesli ma go w środku, to zostaje usunięty\n",
    "            line = line.replace(marker, '')\n",
    "        processed.append(line)\n",
    "    \n",
    "    return '\\n'.join(processed)"
   ]
  },
  {
   "cell_type": "markdown",
   "id": "695f535e",
   "metadata": {},
   "source": [
    "# 3. Zaimplementuj algorytm konstruujący strukturę trie, która przechowuje wszystkie sufiksy łańcucha danego na wejściu."
   ]
  },
  {
   "cell_type": "code",
   "execution_count": 55,
   "id": "e7493bfc",
   "metadata": {},
   "outputs": [],
   "source": [
    "class TrieNode:\n",
    "    def __init__(self):\n",
    "        self.children = {}\n",
    "\n",
    "\n",
    "class SuffixTrie:\n",
    "    def __init__(self, text):\n",
    "        self.root = TrieNode()\n",
    "        self.construct_(text)\n",
    "\n",
    "    def insert_(self, text, suffix):\n",
    "        node = self.root\n",
    "        for char in suffix:\n",
    "            if char not in node.children:\n",
    "                node.children[char] = TrieNode()\n",
    "            node = node.children[char]\n",
    "\n",
    "    def construct_(self, text):\n",
    "        n = len(text)\n",
    "        for i in range(n):\n",
    "            suffix = text[i:]\n",
    "            self.insert_(text, suffix)\n",
    "\n",
    "    def search_(self, suffix):\n",
    "        node = self.root\n",
    "        for char in suffix:\n",
    "            if char not in node.children:\n",
    "                return False\n",
    "            node = node.children[char]\n",
    "        return True\n",
    "    \n",
    "    def get_leaf_indices(self, node):\n",
    "        indices = []\n",
    "        if not node.children:\n",
    "            indices.append(node.index)\n",
    "        for child in node.children.values():\n",
    "            indices.extend(self.get_leaf_indices(child))\n",
    "        return indices\n",
    "\n",
    "    def get_occurrences(self, suffix):\n",
    "        node = self.root\n",
    "        for char in suffix:\n",
    "            if char not in node.children:\n",
    "                return []\n",
    "            node = node.children[char]\n",
    "        return self.get_leaf_indices(node)"
   ]
  },
  {
   "cell_type": "markdown",
   "id": "a8405ac0",
   "metadata": {},
   "source": [
    "# 4. Zaimplementuj algorytm konstruujący drzewo sufiksów."
   ]
  },
  {
   "cell_type": "code",
   "execution_count": 56,
   "id": "675d8ea0",
   "metadata": {},
   "outputs": [],
   "source": [
    "class SuffixTreeNode:\n",
    "    def __init__(self, char):\n",
    "        self.char = char\n",
    "        self.children = {}\n",
    "        self.indices = []\n",
    "\n",
    "\n",
    "class SuffixTree:\n",
    "    def __init__(self, text):\n",
    "        self.root = SuffixTreeNode('')\n",
    "        self.construct_(text)\n",
    "        \n",
    "    def insert_(self, suffix, index):\n",
    "        current_node = self.root\n",
    "        for char in suffix:\n",
    "            if char not in current_node.children:\n",
    "                current_node.children[char] = SuffixTreeNode(char)\n",
    "            current_node = current_node.children[char]\n",
    "        current_node.indices.append(index)\n",
    "\n",
    "    def construct_(self, text):\n",
    "        n = len(text)\n",
    "        for i in range(n):\n",
    "            self.insert_(text[i:], i)\n",
    "\n",
    "    def search_(self, suffix):\n",
    "        current_node = self.root\n",
    "        for char in suffix:\n",
    "            if char not in current_node.children:\n",
    "                return False\n",
    "            current_node = current_node.children[char]\n",
    "        return True\n",
    "\n",
    "    def get_leaf_indices(self, node):\n",
    "        indices = node.indices.copy()\n",
    "        for child in node.children.values():\n",
    "            indices.extend(self.get_leaf_indices(child))\n",
    "        return indices\n",
    "\n",
    "    def get_occurrences(self, suffix):\n",
    "        current_node = self.root\n",
    "        for char in suffix:\n",
    "            if char not in current_node.children:\n",
    "                return []\n",
    "            current_node = current_node.children[char]\n",
    "        return self.get_leaf_indices(current_node)"
   ]
  },
  {
   "cell_type": "markdown",
   "id": "8197dd1f",
   "metadata": {},
   "source": [
    "# 5. Upewnij się, że powstałe struktury danych są poprawne. Możesz np. sprawdzić, czy struktura zawiera jakiś ciąg znaków i porównać wyniki z algorytmem wyszukiwania wzorców."
   ]
  },
  {
   "cell_type": "markdown",
   "id": "8500d064",
   "metadata": {},
   "source": [
    "Algorytm wyszukiwania wzorców (Algorytm Knutha-Morrisa-Pratta) został wzięty z laboratorium pierwszego."
   ]
  },
  {
   "cell_type": "code",
   "execution_count": 57,
   "id": "7c975227",
   "metadata": {},
   "outputs": [],
   "source": [
    "def prefix_function(pattern):\n",
    "    m = len(pattern)\n",
    "    pi = [0] * m\n",
    "    k = 0\n",
    "\n",
    "    for q in range(1, m):\n",
    "        while k > 0 and pattern[k] != pattern[q]:\n",
    "            k = pi[k-1]\n",
    "        if pattern[k] == pattern[q]:\n",
    "            k += 1\n",
    "        pi[q] = k\n",
    "\n",
    "    return pi\n",
    "\n",
    "\n",
    "def KMP(text, pattern):\n",
    "    n = len(text)\n",
    "    m = len(pattern)\n",
    "    pi = prefix_function(pattern)\n",
    "    q = 0\n",
    "    result = []\n",
    "\n",
    "    for i in range(n):\n",
    "        while q > 0 and pattern[q] != text[i]:\n",
    "            q = pi[q-1]\n",
    "        if pattern[q] == text[i]:\n",
    "            q += 1\n",
    "        if q == m:\n",
    "            result.append(i - m + 1)\n",
    "            q = pi[q-1]\n",
    "\n",
    "    return result"
   ]
  },
  {
   "cell_type": "markdown",
   "id": "09758d1a",
   "metadata": {},
   "source": [
    "Funkcja testująca:"
   ]
  },
  {
   "cell_type": "code",
   "execution_count": 59,
   "id": "bb73dde0",
   "metadata": {},
   "outputs": [
    {
     "ename": "AttributeError",
     "evalue": "'TrieNode' object has no attribute 'index'",
     "output_type": "error",
     "traceback": [
      "\u001b[0;31m---------------------------------------------------------------------------\u001b[0m",
      "\u001b[0;31mAttributeError\u001b[0m                            Traceback (most recent call last)",
      "Input \u001b[0;32mIn [59]\u001b[0m, in \u001b[0;36m<cell line: 12>\u001b[0;34m()\u001b[0m\n\u001b[1;32m      9\u001b[0m     \u001b[38;5;28;01melse\u001b[39;00m:\n\u001b[1;32m     10\u001b[0m         \u001b[38;5;28mprint\u001b[39m(\u001b[38;5;124m\"\u001b[39m\u001b[38;5;124mWyniki nie są zgodne!\u001b[39m\u001b[38;5;124m\"\u001b[39m)\n\u001b[0;32m---> 12\u001b[0m \u001b[43mtest\u001b[49m\u001b[43m(\u001b[49m\u001b[38;5;124;43m\"\u001b[39;49m\u001b[38;5;124;43mbananasbananas\u001b[39;49m\u001b[38;5;124;43m\"\u001b[39;49m\u001b[43m,\u001b[49m\u001b[43m \u001b[49m\u001b[38;5;124;43m\"\u001b[39;49m\u001b[38;5;124;43mananas\u001b[39;49m\u001b[38;5;124;43m\"\u001b[39;49m\u001b[43m)\u001b[49m\n",
      "Input \u001b[0;32mIn [59]\u001b[0m, in \u001b[0;36mtest\u001b[0;34m(text, pattern)\u001b[0m\n\u001b[1;32m      3\u001b[0m trie \u001b[38;5;241m=\u001b[39m SuffixTrie(text)\n\u001b[1;32m      4\u001b[0m suffix_tree_occurrences \u001b[38;5;241m=\u001b[39m suffix_tree\u001b[38;5;241m.\u001b[39mget_occurrences(pattern)\n\u001b[0;32m----> 5\u001b[0m trie_occurrences \u001b[38;5;241m=\u001b[39m \u001b[43mtrie\u001b[49m\u001b[38;5;241;43m.\u001b[39;49m\u001b[43mget_occurrences\u001b[49m\u001b[43m(\u001b[49m\u001b[43mpattern\u001b[49m\u001b[43m)\u001b[49m\n\u001b[1;32m      6\u001b[0m kmp_occurrences \u001b[38;5;241m=\u001b[39m KMP(text, pattern)\n\u001b[1;32m      7\u001b[0m \u001b[38;5;28;01mif\u001b[39;00m \u001b[38;5;28msorted\u001b[39m(suffix_tree_occurrences) \u001b[38;5;241m==\u001b[39m \u001b[38;5;28msorted\u001b[39m(kmp_occurrences) \u001b[38;5;129;01mand\u001b[39;00m \u001b[38;5;28msorted\u001b[39m(kmp_occurrences) \u001b[38;5;241m==\u001b[39m \u001b[38;5;28msorted\u001b[39m(trie_occurrences):\n",
      "Input \u001b[0;32mIn [55]\u001b[0m, in \u001b[0;36mSuffixTrie.get_occurrences\u001b[0;34m(self, suffix)\u001b[0m\n\u001b[1;32m     44\u001b[0m         \u001b[38;5;28;01mreturn\u001b[39;00m []\n\u001b[1;32m     45\u001b[0m     node \u001b[38;5;241m=\u001b[39m node\u001b[38;5;241m.\u001b[39mchildren[char]\n\u001b[0;32m---> 46\u001b[0m \u001b[38;5;28;01mreturn\u001b[39;00m \u001b[38;5;28;43mself\u001b[39;49m\u001b[38;5;241;43m.\u001b[39;49m\u001b[43mget_leaf_indices\u001b[49m\u001b[43m(\u001b[49m\u001b[43mnode\u001b[49m\u001b[43m)\u001b[49m\n",
      "Input \u001b[0;32mIn [55]\u001b[0m, in \u001b[0;36mSuffixTrie.get_leaf_indices\u001b[0;34m(self, node)\u001b[0m\n\u001b[1;32m     35\u001b[0m     indices\u001b[38;5;241m.\u001b[39mappend(node\u001b[38;5;241m.\u001b[39mindex)\n\u001b[1;32m     36\u001b[0m \u001b[38;5;28;01mfor\u001b[39;00m child \u001b[38;5;129;01min\u001b[39;00m node\u001b[38;5;241m.\u001b[39mchildren\u001b[38;5;241m.\u001b[39mvalues():\n\u001b[0;32m---> 37\u001b[0m     indices\u001b[38;5;241m.\u001b[39mextend(\u001b[38;5;28;43mself\u001b[39;49m\u001b[38;5;241;43m.\u001b[39;49m\u001b[43mget_leaf_indices\u001b[49m\u001b[43m(\u001b[49m\u001b[43mchild\u001b[49m\u001b[43m)\u001b[49m)\n\u001b[1;32m     38\u001b[0m \u001b[38;5;28;01mreturn\u001b[39;00m indices\n",
      "Input \u001b[0;32mIn [55]\u001b[0m, in \u001b[0;36mSuffixTrie.get_leaf_indices\u001b[0;34m(self, node)\u001b[0m\n\u001b[1;32m     35\u001b[0m     indices\u001b[38;5;241m.\u001b[39mappend(node\u001b[38;5;241m.\u001b[39mindex)\n\u001b[1;32m     36\u001b[0m \u001b[38;5;28;01mfor\u001b[39;00m child \u001b[38;5;129;01min\u001b[39;00m node\u001b[38;5;241m.\u001b[39mchildren\u001b[38;5;241m.\u001b[39mvalues():\n\u001b[0;32m---> 37\u001b[0m     indices\u001b[38;5;241m.\u001b[39mextend(\u001b[38;5;28;43mself\u001b[39;49m\u001b[38;5;241;43m.\u001b[39;49m\u001b[43mget_leaf_indices\u001b[49m\u001b[43m(\u001b[49m\u001b[43mchild\u001b[49m\u001b[43m)\u001b[49m)\n\u001b[1;32m     38\u001b[0m \u001b[38;5;28;01mreturn\u001b[39;00m indices\n",
      "    \u001b[0;31m[... skipping similar frames: SuffixTrie.get_leaf_indices at line 37 (4 times)]\u001b[0m\n",
      "Input \u001b[0;32mIn [55]\u001b[0m, in \u001b[0;36mSuffixTrie.get_leaf_indices\u001b[0;34m(self, node)\u001b[0m\n\u001b[1;32m     35\u001b[0m     indices\u001b[38;5;241m.\u001b[39mappend(node\u001b[38;5;241m.\u001b[39mindex)\n\u001b[1;32m     36\u001b[0m \u001b[38;5;28;01mfor\u001b[39;00m child \u001b[38;5;129;01min\u001b[39;00m node\u001b[38;5;241m.\u001b[39mchildren\u001b[38;5;241m.\u001b[39mvalues():\n\u001b[0;32m---> 37\u001b[0m     indices\u001b[38;5;241m.\u001b[39mextend(\u001b[38;5;28;43mself\u001b[39;49m\u001b[38;5;241;43m.\u001b[39;49m\u001b[43mget_leaf_indices\u001b[49m\u001b[43m(\u001b[49m\u001b[43mchild\u001b[49m\u001b[43m)\u001b[49m)\n\u001b[1;32m     38\u001b[0m \u001b[38;5;28;01mreturn\u001b[39;00m indices\n",
      "Input \u001b[0;32mIn [55]\u001b[0m, in \u001b[0;36mSuffixTrie.get_leaf_indices\u001b[0;34m(self, node)\u001b[0m\n\u001b[1;32m     33\u001b[0m indices \u001b[38;5;241m=\u001b[39m []\n\u001b[1;32m     34\u001b[0m \u001b[38;5;28;01mif\u001b[39;00m \u001b[38;5;129;01mnot\u001b[39;00m node\u001b[38;5;241m.\u001b[39mchildren:\n\u001b[0;32m---> 35\u001b[0m     indices\u001b[38;5;241m.\u001b[39mappend(\u001b[43mnode\u001b[49m\u001b[38;5;241;43m.\u001b[39;49m\u001b[43mindex\u001b[49m)\n\u001b[1;32m     36\u001b[0m \u001b[38;5;28;01mfor\u001b[39;00m child \u001b[38;5;129;01min\u001b[39;00m node\u001b[38;5;241m.\u001b[39mchildren\u001b[38;5;241m.\u001b[39mvalues():\n\u001b[1;32m     37\u001b[0m     indices\u001b[38;5;241m.\u001b[39mextend(\u001b[38;5;28mself\u001b[39m\u001b[38;5;241m.\u001b[39mget_leaf_indices(child))\n",
      "\u001b[0;31mAttributeError\u001b[0m: 'TrieNode' object has no attribute 'index'"
     ]
    }
   ],
   "source": [
    "def test(text, pattern):\n",
    "    suffix_tree = SuffixTree(text)\n",
    "    trie = SuffixTrie(text)\n",
    "    suffix_tree_occurrences = suffix_tree.get_occurrences(pattern)\n",
    "    trie_occurrences = trie.get_occurrences(pattern)\n",
    "    kmp_occurrences = KMP(text, pattern)\n",
    "    if sorted(suffix_tree_occurrences) == sorted(kmp_occurrences) and sorted(kmp_occurrences) == sorted(trie_occurrences):\n",
    "        print(\"Wyniki są zgodne!\")\n",
    "    else:\n",
    "        print(\"Wyniki nie są zgodne!\")\n",
    "        \n",
    "test(\"bananasbananas\", \"ananas\")"
   ]
  },
  {
   "cell_type": "code",
   "execution_count": null,
   "id": "cfc050d7",
   "metadata": {},
   "outputs": [],
   "source": []
  },
  {
   "cell_type": "code",
   "execution_count": null,
   "id": "e5dd7e7a",
   "metadata": {},
   "outputs": [],
   "source": []
  }
 ],
 "metadata": {
  "kernelspec": {
   "display_name": "Python 3 (ipykernel)",
   "language": "python",
   "name": "python3"
  },
  "language_info": {
   "codemirror_mode": {
    "name": "ipython",
    "version": 3
   },
   "file_extension": ".py",
   "mimetype": "text/x-python",
   "name": "python",
   "nbconvert_exporter": "python",
   "pygments_lexer": "ipython3",
   "version": "3.9.12"
  }
 },
 "nbformat": 4,
 "nbformat_minor": 5
}
