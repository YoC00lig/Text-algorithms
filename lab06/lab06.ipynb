{
 "cells": [
  {
   "cell_type": "code",
   "execution_count": 21,
   "id": "218d4e66",
   "metadata": {},
   "outputs": [],
   "source": [
    "import random\n",
    "import string\n",
    "import time"
   ]
  },
  {
   "cell_type": "markdown",
   "id": "b2ff50a3",
   "metadata": {},
   "source": [
    "# 1. Przyjmij następujący zbiór danych wejściowych:"
   ]
  },
  {
   "cell_type": "code",
   "execution_count": 22,
   "id": "f8277ef5",
   "metadata": {},
   "outputs": [],
   "source": [
    "data1 = \"bbb$\"\n",
    "data2 = \"aabbabd\"\n",
    "data3 = \"ababcd\"\n",
    "data4 = \"abaababaabaabaabab$\"\n",
    "data5 = ''.join(random.choices(string.ascii_lowercase, k=100))\n",
    "data6 = None\n",
    "\n",
    "with open('1997_714_head.txt', 'r') as file:\n",
    "    data6 = file.read()"
   ]
  },
  {
   "cell_type": "markdown",
   "id": "597169ec",
   "metadata": {},
   "source": [
    "# 2. Upewnij się, że każdy łańcuch na końcu posiada unikalny znak (marker), a jeśli go nie ma, to dodaj ten znak."
   ]
  },
  {
   "cell_type": "code",
   "execution_count": 23,
   "id": "1beb8405",
   "metadata": {},
   "outputs": [
    {
     "name": "stdout",
     "output_type": "stream",
     "text": [
      "Przed: abc\n",
      "Po: abc$\n",
      "-------------------\n",
      "Przed: abcd$\n",
      "Po: abcd$\n",
      "-------------------\n"
     ]
    }
   ],
   "source": [
    "def marker_check(text, marker='$'):\n",
    "    lines = text.splitlines()\n",
    "    processed = []\n",
    "\n",
    "    for line in lines:\n",
    "        if not line.endswith(marker):\n",
    "            line += marker\n",
    "        processed.append(line)\n",
    "\n",
    "    return '\\n'.join(processed)\n",
    "\n",
    "\n",
    "test_data = \"abc\"\n",
    "print(\"Przed: \" + test_data)\n",
    "processed_data = marker_check(test_data)\n",
    "print(\"Po: \" + processed_data)\n",
    "print(\"-------------------\")\n",
    "\n",
    "test_data = \"abcd$\"\n",
    "print(\"Przed: \" + test_data)\n",
    "processed_data = marker_check(test_data)\n",
    "print(\"Po: \" + processed_data)\n",
    "print(\"-------------------\")\n"
   ]
  },
  {
   "cell_type": "markdown",
   "id": "ff8ed2ca",
   "metadata": {},
   "source": [
    "# 3. Zaimplementuj algorytm konstruujący strukturę trie, która przechowuje wszystkie sufiksy łańcucha danego na wejściu."
   ]
  },
  {
   "cell_type": "markdown",
   "id": "4d7a09ec",
   "metadata": {},
   "source": [
    "Zwykłe Trie (bez sufix linków)"
   ]
  },
  {
   "cell_type": "code",
   "execution_count": 24,
   "id": "6f686d03",
   "metadata": {},
   "outputs": [],
   "source": [
    "class TrieNode1:\n",
    "    def __init__(self, parent=None):\n",
    "        self.parent = parent\n",
    "        self.children = {}\n",
    "\n",
    "class Trie1:\n",
    "    def __init__(self, text):\n",
    "        self.root = TrieNode1()\n",
    "        self.build(text)\n",
    "\n",
    "    def build(self, text):\n",
    "        n = len(text)\n",
    "        for i in range(n):\n",
    "            suffix = text[i:]\n",
    "            node = self.root\n",
    "            for char in suffix:\n",
    "                if char not in node.children:\n",
    "                    new = TrieNode1(node)\n",
    "                    node.children[char] = new\n",
    "                node = node.children[char]\n",
    "\n",
    "    def search(self, pattern):\n",
    "        node = self.root\n",
    "        for char in pattern:\n",
    "            if char not in node.children:\n",
    "                return False\n",
    "            node = node.children[char]\n",
    "        return True"
   ]
  },
  {
   "cell_type": "markdown",
   "id": "a2190788",
   "metadata": {},
   "source": [
    "Trie z suffix linkami:"
   ]
  },
  {
   "cell_type": "code",
   "execution_count": 25,
   "id": "3c894ccd",
   "metadata": {},
   "outputs": [],
   "source": [
    "class TrieNode2: \n",
    "    def __init__(self, parent=None):\n",
    "        self.parent = parent\n",
    "        self.children = {}\n",
    "        self.link = None\n",
    "\n",
    "class Trie2: \n",
    "    def __init__(self, text):\n",
    "        self.root = TrieNode2(None)\n",
    "        self.build(text)\n",
    "\n",
    "    def build(self, text):\n",
    "        low = self.root \n",
    "        \n",
    "        for char in text:\n",
    "\n",
    "            node, low, prev = low, None, None\n",
    "            \n",
    "            while node is not None and char not in node.children:\n",
    "\n",
    "                new_child = TrieNode2(node)\n",
    "                node.children[char] = new_child\n",
    "                \n",
    "\n",
    "                if node == self.root: \n",
    "                    new_child.link = self.root \n",
    "                if not low: \n",
    "                    low = new_child\n",
    "                if prev: \n",
    "                    prev.link = new_child\n",
    "                    \n",
    "                prev = new_child\n",
    "                node = node.link\n",
    "                \n",
    "            else:\n",
    "\n",
    "                if node is not None:\n",
    "                    prev.link = node.children[char]\n",
    "\n",
    "\n",
    "    def search(self, pattern):\n",
    "        node = self.root\n",
    "        for char in pattern:\n",
    "            if char not in node.children:\n",
    "                return False\n",
    "            node = node.children[char]\n",
    "        return True"
   ]
  },
  {
   "cell_type": "markdown",
   "id": "6e733d3c",
   "metadata": {},
   "source": [
    "# 4. Zaimplementuj algorytm konstruujący drzewo sufiksów."
   ]
  },
  {
   "cell_type": "code",
   "execution_count": 26,
   "id": "8d31a173",
   "metadata": {},
   "outputs": [],
   "source": [
    "#TODO"
   ]
  },
  {
   "cell_type": "markdown",
   "id": "34e98251",
   "metadata": {},
   "source": [
    "# 5. Upewnij się, że powstałe struktury danych są poprawne. Możesz np. sprawdzić, czy struktura zawiera jakiś ciąg znaków i porównać wyniki z algorytmem wyszukiwania wzorców."
   ]
  },
  {
   "cell_type": "markdown",
   "id": "e80c14f9",
   "metadata": {},
   "source": [
    "Algorytm wyszukiwania wzorców (Algorytm Knutha-Morrisa-Pratta) został wzięty z laboratorium pierwszego."
   ]
  },
  {
   "cell_type": "code",
   "execution_count": 27,
   "id": "3222713c",
   "metadata": {},
   "outputs": [],
   "source": [
    "def prefix_function(pattern):\n",
    "    m = len(pattern)\n",
    "    pi = [0] * m\n",
    "    k = 0\n",
    "\n",
    "    for q in range(1, m):\n",
    "        while k > 0 and pattern[k] != pattern[q]:\n",
    "            k = pi[k-1]\n",
    "        if pattern[k] == pattern[q]:\n",
    "            k += 1\n",
    "        pi[q] = k\n",
    "\n",
    "    return pi\n",
    "\n",
    "\n",
    "def KMP(text, pattern):\n",
    "    pi = prefix_function(pattern)\n",
    "    q = 0\n",
    "    result = []\n",
    "    \n",
    "    for i in range(0, len(text)):\n",
    "        while q > 0 and pattern[q] != text[i]:\n",
    "            q = pi[q-1]\n",
    "        if pattern[q] == text[i]:\n",
    "            q += 1\n",
    "        if q == len(pattern):\n",
    "            q = pi[q-1]\n",
    "            result.append(i+1-q)\n",
    "    return result"
   ]
  },
  {
   "cell_type": "markdown",
   "id": "e990b57a",
   "metadata": {},
   "source": [
    "Funkcja testująca:"
   ]
  },
  {
   "cell_type": "code",
   "execution_count": 28,
   "id": "6d23f8e5",
   "metadata": {},
   "outputs": [
    {
     "name": "stdout",
     "output_type": "stream",
     "text": [
      "Znaleziono wzorzec.\n",
      "Znaleziono wzorzec.\n",
      "Znaleziono wzorzec.\n",
      "Znaleziono wzorzec.\n"
     ]
    }
   ],
   "source": [
    "def test_(text, pattern):\n",
    "    trie1 = Trie1(text)\n",
    "    trie_occurrence1 = trie1.search(pattern)\n",
    "    \n",
    "    trie2 = Trie2(text)\n",
    "    trie_occurrence2 = trie2.search(pattern)\n",
    "    \n",
    "    occ = KMP(text, pattern)\n",
    "    kmp_occurrence = len(occ) > 0\n",
    "    if kmp_occurrence and trie_occurrence2:\n",
    "        print(\"Znaleziono wzorzec.\")\n",
    "    else:\n",
    "        print(\"Nie znaleziono wzorca.\")\n",
    "\n",
    "        \n",
    "test_(\"bananasbananas\", \"ananas\")\n",
    "test_(\"aaaaaaaaaa\", \"a\")\n",
    "test_(\"bananasbananas\", \"banana\")\n",
    "test_(\"asd\", \"sd\")"
   ]
  },
  {
   "cell_type": "markdown",
   "id": "72ca3012",
   "metadata": {},
   "source": [
    "# 6. Porównaj szybkość działania algorytmów konstruujących struktury danych dla danych z p. 1 w następujących wariantach:\n",
    "<ul>\n",
    "<li>Trie - w wariancie, w którym kolejne sufiksy dodawane są przez przeszukiwanie głowy od korzenia drzewa (1p.),</li>\n",
    "<li>Trie - w wariancie, w którym kolejne sufiksy dodawane są poprzez dodanie kolejnej litery tekstu (1p.),</li>\n",
    "    <li>Drzewo sufiksów - algorytm Ukkonena (3p).</li>\n",
    "    </ul>"
   ]
  },
  {
   "cell_type": "code",
   "execution_count": 29,
   "id": "7b2319bb",
   "metadata": {
    "scrolled": false
   },
   "outputs": [
    {
     "name": "stdout",
     "output_type": "stream",
     "text": [
      "Tests for data1\n",
      "----------------------\n",
      "Czas konstrukcji Trie z zadania 1: 1.5020370483398438e-05 s\n",
      "Czas konstrukcji Trie z zadania 2: 4.8160552978515625e-05 s\n",
      "Szybciej utworzono Trie1\n",
      "\n",
      "Tests for data2\n",
      "----------------------\n",
      "Czas konstrukcji Trie z zadania 1: 0.000186920166015625 s\n",
      "Czas konstrukcji Trie z zadania 2: 2.288818359375e-05 s\n",
      "Szybciej utworzono Trie2\n",
      "\n",
      "Tests for data3\n",
      "----------------------\n",
      "Czas konstrukcji Trie z zadania 1: 2.384185791015625e-05 s\n",
      "Czas konstrukcji Trie z zadania 2: 2.002716064453125e-05 s\n",
      "Szybciej utworzono Trie2\n",
      "\n",
      "Tests for data4\n",
      "----------------------\n",
      "Czas konstrukcji Trie z zadania 1: 0.0001232624053955078 s\n",
      "Czas konstrukcji Trie z zadania 2: 0.00018477439880371094 s\n",
      "Szybciej utworzono Trie1\n",
      "\n",
      "Tests for data5\n",
      "----------------------\n",
      "Czas konstrukcji Trie z zadania 1: 0.005864381790161133 s\n",
      "Czas konstrukcji Trie z zadania 2: 0.006970882415771484 s\n",
      "Szybciej utworzono Trie1\n",
      "\n",
      "Tests for data6\n",
      "----------------------\n",
      "Czas konstrukcji Trie z zadania 1: 18.407227039337158 s\n",
      "Czas konstrukcji Trie z zadania 2: 11.039953231811523 s\n",
      "Szybciej utworzono Trie2\n"
     ]
    }
   ],
   "source": [
    "# ad1: Trie1 - w wariancie, w którym kolejne sufiksy dodawane\n",
    "# są przez przeszukiwanie głowy od korzenia drzewa\n",
    "\n",
    "# ad2: Trie2 - w wariancie, w którym kolejne sufiksy dodawane \n",
    "# są poprzez dodanie kolejnej litery tekstu\n",
    "\n",
    "def measure_time(data):\n",
    "    start_time = time.time()\n",
    "    trie1 = Trie1(data)\n",
    "    time_trie1 = time.time() - start_time\n",
    "    \n",
    "    start_time = time.time()\n",
    "    trie2 = Trie2(data)\n",
    "    time_trie2 = time.time() - start_time\n",
    "    \n",
    "    print(f\"Czas konstrukcji Trie z zadania 1: {time_trie1} s\")\n",
    "    print(f\"Czas konstrukcji Trie z zadania 2: {time_trie2} s\")\n",
    "    \n",
    "    if time_trie1 > time_trie2:\n",
    "        print(\"Szybciej utworzono Trie2\")\n",
    "    else:\n",
    "        print(\"Szybciej utworzono Trie1\")\n",
    "    \n",
    "print(\"Tests for data1\")\n",
    "print(\"----------------------\")\n",
    "measure_time(data1)\n",
    "print(\"\")\n",
    "print(\"Tests for data2\")\n",
    "print(\"----------------------\")\n",
    "measure_time(data2)\n",
    "print(\"\")\n",
    "print(\"Tests for data3\")\n",
    "print(\"----------------------\")\n",
    "measure_time(data3)\n",
    "print(\"\")\n",
    "print(\"Tests for data4\")\n",
    "print(\"----------------------\")\n",
    "measure_time(data4)\n",
    "print(\"\")\n",
    "print(\"Tests for data5\")\n",
    "print(\"----------------------\")\n",
    "measure_time(data5)\n",
    "print(\"\")\n",
    "print(\"Tests for data6\")\n",
    "print(\"----------------------\")\n",
    "measure_time(data6)"
   ]
  }
 ],
 "metadata": {
  "kernelspec": {
   "display_name": "Python 3 (ipykernel)",
   "language": "python",
   "name": "python3"
  },
  "language_info": {
   "codemirror_mode": {
    "name": "ipython",
    "version": 3
   },
   "file_extension": ".py",
   "mimetype": "text/x-python",
   "name": "python",
   "nbconvert_exporter": "python",
   "pygments_lexer": "ipython3",
   "version": "3.9.12"
  }
 },
 "nbformat": 4,
 "nbformat_minor": 5
}
