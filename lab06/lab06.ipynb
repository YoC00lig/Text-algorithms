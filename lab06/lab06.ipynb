{
 "cells": [
  {
   "cell_type": "code",
   "execution_count": 1,
   "id": "218d4e66",
   "metadata": {},
   "outputs": [],
   "source": [
    "import random\n",
    "import string\n",
    "import time"
   ]
  },
  {
   "cell_type": "markdown",
   "id": "b2ff50a3",
   "metadata": {},
   "source": [
    "# 1. Przyjmij następujący zbiór danych wejściowych:"
   ]
  },
  {
   "cell_type": "code",
   "execution_count": 2,
   "id": "f8277ef5",
   "metadata": {},
   "outputs": [],
   "source": [
    "data1 = \"bbb$\"\n",
    "data2 = \"aabbabd\"\n",
    "data3 = \"ababcd\"\n",
    "data4 = \"abaababaabaabaabab$\"\n",
    "data5 = ''.join(random.choices(string.ascii_lowercase, k=100))\n",
    "data6 = None\n",
    "\n",
    "with open('1997_714_head.txt', 'r') as file:\n",
    "    data6 = file.read()"
   ]
  },
  {
   "cell_type": "markdown",
   "id": "597169ec",
   "metadata": {},
   "source": [
    "# 2. Upewnij się, że każdy łańcuch na końcu posiada unikalny znak (marker), a jeśli go nie ma, to dodaj ten znak."
   ]
  },
  {
   "cell_type": "code",
   "execution_count": 16,
   "id": "1beb8405",
   "metadata": {},
   "outputs": [
    {
     "name": "stdout",
     "output_type": "stream",
     "text": [
      "Before: abc\n",
      "After: abc$\n",
      "-------------------\n",
      "Before: abcd$\n",
      "After: abcd$\n",
      "-------------------\n"
     ]
    }
   ],
   "source": [
    "def marker_check(text, marker='$'):\n",
    "    lines = text.splitlines()\n",
    "    processed = []\n",
    "\n",
    "    for line in lines:\n",
    "        if not line.endswith(marker):\n",
    "            line += marker\n",
    "        processed.append(line)\n",
    "\n",
    "    return '\\n'.join(processed)\n",
    "\n",
    "\n",
    "test_data = \"abc\"\n",
    "print(\"Before: \" + test_data)\n",
    "processed_data = marker_check(test_data)\n",
    "print(\"After: \" + processed_data)\n",
    "print(\"-------------------\")\n",
    "\n",
    "test_data = \"abcd$\"\n",
    "print(\"Before: \" + test_data)\n",
    "processed_data = marker_check(test_data)\n",
    "print(\"After: \" + processed_data)\n",
    "print(\"-------------------\")\n"
   ]
  },
  {
   "cell_type": "markdown",
   "id": "ff8ed2ca",
   "metadata": {},
   "source": [
    "# 3. Zaimplementuj algorytm konstruujący strukturę trie, która przechowuje wszystkie sufiksy łańcucha danego na wejściu."
   ]
  },
  {
   "cell_type": "code",
   "execution_count": 4,
   "id": "6f686d03",
   "metadata": {},
   "outputs": [],
   "source": [
    "class TrieNode:\n",
    "    def __init__(self):\n",
    "        self.children = {}\n",
    "        self.is_end_of_word = False\n",
    "\n",
    "class Trie:\n",
    "    def __init__(self, text):\n",
    "        self.root = TrieNode()\n",
    "        self.construct_(text)\n",
    "\n",
    "    def construct_(self, text):\n",
    "        for i in range(len(text)):\n",
    "            current_node = self.root\n",
    "            for j in range(i, len(text)):\n",
    "                char = text[j]\n",
    "                if char not in current_node.children:\n",
    "                    current_node.children[char] = TrieNode()\n",
    "                current_node = current_node.children[char]\n",
    "            current_node.is_end_of_word = True\n",
    "\n",
    "    def search_(self, pattern):\n",
    "        current_node = self.root\n",
    "        for char in pattern:\n",
    "            if char not in current_node.children:\n",
    "                return False\n",
    "            current_node = current_node.children[char]\n",
    "        return True"
   ]
  },
  {
   "cell_type": "markdown",
   "id": "6e733d3c",
   "metadata": {},
   "source": [
    "# 4. Zaimplementuj algorytm konstruujący drzewo sufiksów."
   ]
  },
  {
   "cell_type": "code",
   "execution_count": 5,
   "id": "8d31a173",
   "metadata": {},
   "outputs": [],
   "source": [
    "class SuffixTreeNode:\n",
    "    def __init__(self, char):\n",
    "        self.char = char\n",
    "        self.children = {}\n",
    "\n",
    "class SuffixTree:\n",
    "    def __init__(self, text):\n",
    "        self.root = SuffixTreeNode('')\n",
    "        self.construct_(text)\n",
    "        \n",
    "    def insert_(self, suffix):\n",
    "        current_node = self.root\n",
    "        for char in suffix:\n",
    "            if char not in current_node.children:\n",
    "                current_node.children[char] = SuffixTreeNode(char)\n",
    "            current_node = current_node.children[char]\n",
    "\n",
    "    def construct_(self, text):\n",
    "        n = len(text)\n",
    "        for i in range(n):\n",
    "            self.insert_(text[i:])\n",
    "\n",
    "    def search_(self, pattern):\n",
    "        current_node = self.root\n",
    "        for char in pattern:\n",
    "            if char in current_node.children:\n",
    "                current_node = current_node.children[char]\n",
    "            else:\n",
    "                return False\n",
    "        return True\n"
   ]
  },
  {
   "cell_type": "markdown",
   "id": "34e98251",
   "metadata": {},
   "source": [
    "# 5. Upewnij się, że powstałe struktury danych są poprawne. Możesz np. sprawdzić, czy struktura zawiera jakiś ciąg znaków i porównać wyniki z algorytmem wyszukiwania wzorców."
   ]
  },
  {
   "cell_type": "markdown",
   "id": "e80c14f9",
   "metadata": {},
   "source": [
    "Algorytm wyszukiwania wzorców (Algorytm Knutha-Morrisa-Pratta) został wzięty z laboratorium pierwszego."
   ]
  },
  {
   "cell_type": "code",
   "execution_count": 6,
   "id": "3222713c",
   "metadata": {},
   "outputs": [],
   "source": [
    "def prefix_function(pattern):\n",
    "    m = len(pattern)\n",
    "    pi = [0] * m\n",
    "    k = 0\n",
    "\n",
    "    for q in range(1, m):\n",
    "        while k > 0 and pattern[k] != pattern[q]:\n",
    "            k = pi[k-1]\n",
    "        if pattern[k] == pattern[q]:\n",
    "            k += 1\n",
    "        pi[q] = k\n",
    "\n",
    "    return pi\n",
    "\n",
    "\n",
    "def KMP(text, pattern):\n",
    "    n = len(text)\n",
    "    m = len(pattern)\n",
    "    pi = prefix_function(pattern)\n",
    "    q = 0\n",
    "    result = []\n",
    "\n",
    "    for i in range(n):\n",
    "        while q > 0 and pattern[q] != text[i]:\n",
    "            q = pi[q-1]\n",
    "        if pattern[q] == text[i]:\n",
    "            q += 1\n",
    "        if q == m:\n",
    "            result.append(i - m + 1)\n",
    "            q = pi[q-1]\n",
    "\n",
    "    return result"
   ]
  },
  {
   "cell_type": "markdown",
   "id": "e990b57a",
   "metadata": {},
   "source": [
    "Funkcja testująca:"
   ]
  },
  {
   "cell_type": "code",
   "execution_count": 17,
   "id": "6d23f8e5",
   "metadata": {},
   "outputs": [
    {
     "name": "stdout",
     "output_type": "stream",
     "text": [
      "Znaleziono wzorzec w każdej strukturze.\n",
      "Znaleziono wzorzec w każdej strukturze.\n",
      "Znaleziono wzorzec w każdej strukturze.\n",
      "Znaleziono wzorzec w każdej strukturze.\n"
     ]
    }
   ],
   "source": [
    "def test_(text, pattern):\n",
    "    trie = Trie(text)\n",
    "    trie_occurrence = trie.search_(pattern)\n",
    "    suffix = SuffixTree(text)\n",
    "    suffix_occurrence = suffix.search_(pattern)\n",
    "    occ = KMP(text, pattern)\n",
    "    kmp_occurrence = len(occ) > 0\n",
    "    if kmp_occurrence and trie_occurrence and suffix_occurrence:\n",
    "        print(\"Znaleziono wzorzec w każdej strukturze.\")\n",
    "    elif kmp_occurrence and trie_occurrence:\n",
    "        print(\"Nie znaleziono wzorca w Suffix Tree.\")\n",
    "    elif kmp_occurrence and suffix_occurrence:\n",
    "        print(\"Nie znaleziono wzorca w Trie.\")\n",
    "    elif suffix_occurrence and kmp_occurrence:\n",
    "        print(\"Nie znaleziono wzorca w KMP.\")\n",
    "    else:\n",
    "        print(\"Nie znaleziono wzorca nigdzie.\")\n",
    "\n",
    "        \n",
    "test_(\"bananasbananas\", \"ananas\")\n",
    "test_(\"aaaaaaaaaa\", \"a\")\n",
    "test_(\"bananasbananas\", \"banana\")\n",
    "test_(\"asd\",\"sd\")"
   ]
  },
  {
   "cell_type": "markdown",
   "id": "72ca3012",
   "metadata": {},
   "source": [
    "# 6. Porównaj szybkość działania algorytmów konstruujących struktury danych dla danych z p. 1 w następujących wariantach:\n",
    "<ul>\n",
    "<li>Trie - w wariancie, w którym kolejne sufiksy dodawane są przez przeszukiwanie głowy od korzenia drzewa (1p.),</li>\n",
    "<li>Trie - w wariancie, w którym kolejne sufiksy dodawane są poprzez dodanie kolejnej litery tekstu (1p.),</li>\n",
    "    <li>Drzewo sufiksów - algorytm Ukkonena (3p).</li>\n",
    "    </ul>"
   ]
  },
  {
   "cell_type": "code",
   "execution_count": 9,
   "id": "7b2319bb",
   "metadata": {},
   "outputs": [
    {
     "name": "stdout",
     "output_type": "stream",
     "text": [
      "Tests for data1\n",
      "----------------------\n",
      "Czas konstrukcji Trie: 1.5735626220703125e-05 s\n",
      "Czas konstrukcji Suffix Tree dla: 1.3113021850585938e-05 s\n",
      "Tests for data2\n",
      "----------------------\n",
      "Czas konstrukcji Trie: 2.288818359375e-05 s\n",
      "Czas konstrukcji Suffix Tree dla: 1.9788742065429688e-05 s\n",
      "Tests for data3\n",
      "----------------------\n",
      "Czas konstrukcji Trie: 5.1975250244140625e-05 s\n",
      "Czas konstrukcji Suffix Tree dla: 2.7179718017578125e-05 s\n",
      "Tests for data4\n",
      "----------------------\n",
      "Czas konstrukcji Trie: 0.00010013580322265625 s\n",
      "Czas konstrukcji Suffix Tree dla: 0.00013709068298339844 s\n",
      "Tests for data5\n",
      "----------------------\n",
      "Czas konstrukcji Trie: 0.005153179168701172 s\n",
      "Czas konstrukcji Suffix Tree dla: 0.004499197006225586 s\n",
      "Tests for data6\n",
      "----------------------\n",
      "Czas konstrukcji Trie: 8.083142757415771 s\n",
      "Czas konstrukcji Suffix Tree dla: 8.516007900238037 s\n"
     ]
    }
   ],
   "source": [
    "def measure_time(data):\n",
    "    start_time = time.time()\n",
    "    trie = Trie(data)\n",
    "    time_trie = time.time() - start_time\n",
    "\n",
    "    start_time = time.time()\n",
    "    suffix_tree = SuffixTree(data)\n",
    "    time_suffix_tree = time.time() - start_time\n",
    "\n",
    "    print(f\"Czas konstrukcji Trie: {time_trie} s\")\n",
    "    print(f\"Czas konstrukcji Suffix Tree dla: {time_suffix_tree} s\")\n",
    "    \n",
    "print(\"Tests for data1\")\n",
    "print(\"----------------------\")\n",
    "measure_time(data1)\n",
    "print(\"Tests for data2\")\n",
    "print(\"----------------------\")\n",
    "measure_time(data2)\n",
    "print(\"Tests for data3\")\n",
    "print(\"----------------------\")\n",
    "measure_time(data3)\n",
    "print(\"Tests for data4\")\n",
    "print(\"----------------------\")\n",
    "measure_time(data4)\n",
    "print(\"Tests for data5\")\n",
    "print(\"----------------------\")\n",
    "measure_time(data5)\n",
    "print(\"Tests for data6\")\n",
    "print(\"----------------------\")\n",
    "measure_time(data6)"
   ]
  }
 ],
 "metadata": {
  "kernelspec": {
   "display_name": "Python 3 (ipykernel)",
   "language": "python",
   "name": "python3"
  },
  "language_info": {
   "codemirror_mode": {
    "name": "ipython",
    "version": 3
   },
   "file_extension": ".py",
   "mimetype": "text/x-python",
   "name": "python",
   "nbconvert_exporter": "python",
   "pygments_lexer": "ipython3",
   "version": "3.9.12"
  }
 },
 "nbformat": 4,
 "nbformat_minor": 5
}
